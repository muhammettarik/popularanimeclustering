{
 "cells": [
  {
   "cell_type": "markdown",
   "metadata": {
    "id": "-CVz1RKORVR5"
   },
   "source": [
    "# SEN4018 - Data Science with Python"
   ]
  },
  {
   "cell_type": "markdown",
   "metadata": {
    "id": "pDdv6NvNfYtr"
   },
   "source": [
    "Muhammet Tarık Can - 1728932 \\\n",
    "Abdullah Samet Baran - 1729676"
   ]
  },
  {
   "cell_type": "markdown",
   "metadata": {
    "id": "4wV0TKJtRhIP"
   },
   "source": [
    "## PART I - Project Summary\n",
    "\n"
   ]
  },
  {
   "cell_type": "markdown",
   "metadata": {
    "id": "2D9zaExUaLWN"
   },
   "source": [
    "This dataset provides the top popular anime by season. It includes the determined animes' qualifications based on their popularity. Characteristics of the published series have been categorized in several variations which is consisting some missing as well.\n",
    "The aim of this study is uncovering the functional data, notify conclusions and reinforce decision-making strategies in order to strengthen accountability. \n",
    "Our major finding on there is that when we analyzed our data, it has not a small number of neglectable outliers and noise. As a result of this outcome, we decided to use Density-Based Clustering strategy. \n",
    "Link of the dataset : https://www.kaggle.com/angadchau/anime-dataset?select=anime.csv"
   ]
  },
  {
   "cell_type": "markdown",
   "metadata": {
    "id": "hekXR5r5TJGw"
   },
   "source": [
    "## PART II - Dataset Description\n",
    "\n"
   ]
  },
  {
   "cell_type": "markdown",
   "metadata": {
    "id": "_naTQfMiaO8K"
   },
   "source": [
    "Investigation of the dataset demonstrates to us that this dataset provides the top popular anime by season. It includes the determined animes' qualifications based on their popularity. Characteristics of the published series have been categorized in several variations which consist of some missing as well. Moreover, The sample amount is 2000 and this database includes 11 attributes. Lastly, the attribute types are “Name of the anime”, “Rating”, “Ranking”,” Followers”, “Type”, “Episodes”, “License”, “Study”, “Genre”, “Demographics” and “Age”.\n",
    "\n",
    "Types of each attributes take place in the next part."
   ]
  },
  {
   "cell_type": "markdown",
   "metadata": {
    "id": "bw00ARm_UX7J"
   },
   "source": [
    "## PART II(cont.) - Basic Descriptive Statistics"
   ]
  },
  {
   "cell_type": "markdown",
   "metadata": {
    "id": "RciarYBenkA6"
   },
   "source": [
    "### Import statements"
   ]
  },
  {
   "cell_type": "code",
   "execution_count": null,
   "metadata": {
    "id": "QLjlvj99-HRI"
   },
   "outputs": [],
   "source": [
    "import pandas as pd\n",
    "import matplotlib.pyplot as plt\n",
    "import numpy as np\n",
    "import math"
   ]
  },
  {
   "cell_type": "markdown",
   "metadata": {
    "id": "Lqa9t0W4nsRe"
   },
   "source": [
    "### Accessing the data"
   ]
  },
  {
   "cell_type": "code",
   "execution_count": null,
   "metadata": {
    "colab": {
     "base_uri": "https://localhost:8080/",
     "height": 250
    },
    "id": "nVExMHySjSRX",
    "outputId": "fb917b27-1858-4634-c6bf-0c27ac52cec9"
   },
   "outputs": [
    {
     "data": {
      "text/html": [
       "\n",
       "  <div id=\"df-74ad06ce-ebea-49bd-82a5-7e7f6d7f2875\">\n",
       "    <div class=\"colab-df-container\">\n",
       "      <div>\n",
       "<style scoped>\n",
       "    .dataframe tbody tr th:only-of-type {\n",
       "        vertical-align: middle;\n",
       "    }\n",
       "\n",
       "    .dataframe tbody tr th {\n",
       "        vertical-align: top;\n",
       "    }\n",
       "\n",
       "    .dataframe thead th {\n",
       "        text-align: right;\n",
       "    }\n",
       "</style>\n",
       "<table border=\"1\" class=\"dataframe\">\n",
       "  <thead>\n",
       "    <tr style=\"text-align: right;\">\n",
       "      <th></th>\n",
       "      <th>Name of the anime</th>\n",
       "      <th>Rating</th>\n",
       "      <th>Ranking</th>\n",
       "      <th>Followers</th>\n",
       "      <th>Type</th>\n",
       "      <th>Episodes</th>\n",
       "      <th>License</th>\n",
       "      <th>Study</th>\n",
       "      <th>Genre</th>\n",
       "      <th>Demographics</th>\n",
       "      <th>Age</th>\n",
       "    </tr>\n",
       "  </thead>\n",
       "  <tbody>\n",
       "    <tr>\n",
       "      <th>0</th>\n",
       "      <td>Death Note</td>\n",
       "      <td>8.63</td>\n",
       "      <td>1</td>\n",
       "      <td>3,150,451</td>\n",
       "      <td>TV</td>\n",
       "      <td>37</td>\n",
       "      <td>VIZ Media</td>\n",
       "      <td>Madhouse</td>\n",
       "      <td>Mystery,Supernatural,Suspense</td>\n",
       "      <td>Shounen</td>\n",
       "      <td>R - 17+ (violence &amp; profanity)</td>\n",
       "    </tr>\n",
       "    <tr>\n",
       "      <th>1</th>\n",
       "      <td>Shingeki no Kyojin</td>\n",
       "      <td>8.52</td>\n",
       "      <td>2</td>\n",
       "      <td>3,136,959</td>\n",
       "      <td>TV</td>\n",
       "      <td>25</td>\n",
       "      <td>Funimation</td>\n",
       "      <td>Wit Studio</td>\n",
       "      <td>Action,Drama,Fantasy,Mystery</td>\n",
       "      <td>Shounen</td>\n",
       "      <td>R - 17+ (violence &amp; profanity)</td>\n",
       "    </tr>\n",
       "    <tr>\n",
       "      <th>2</th>\n",
       "      <td>Fullmetal Alchemist: Brotherhood</td>\n",
       "      <td>9.16</td>\n",
       "      <td>3</td>\n",
       "      <td>2,674,846</td>\n",
       "      <td>TV</td>\n",
       "      <td>64</td>\n",
       "      <td>Funimation,Aniplex of America</td>\n",
       "      <td>Bones</td>\n",
       "      <td>Action,Adventure,Comedy,Drama,Fantasy</td>\n",
       "      <td>Shounen</td>\n",
       "      <td>R - 17+ (violence &amp; profanity)</td>\n",
       "    </tr>\n",
       "    <tr>\n",
       "      <th>3</th>\n",
       "      <td>Sword Art Online</td>\n",
       "      <td>7.21</td>\n",
       "      <td>4</td>\n",
       "      <td>2,583,874</td>\n",
       "      <td>TV</td>\n",
       "      <td>25</td>\n",
       "      <td>Aniplex of America</td>\n",
       "      <td>A-1 Pictures</td>\n",
       "      <td>Action,Adventure,Fantasy,Romance</td>\n",
       "      <td>NaN</td>\n",
       "      <td>PG-13 - Teens 13 or older</td>\n",
       "    </tr>\n",
       "    <tr>\n",
       "      <th>4</th>\n",
       "      <td>One Punch Man</td>\n",
       "      <td>8.52</td>\n",
       "      <td>5</td>\n",
       "      <td>2,577,610</td>\n",
       "      <td>TV</td>\n",
       "      <td>12</td>\n",
       "      <td>VIZ Media</td>\n",
       "      <td>Madhouse</td>\n",
       "      <td>Action,Comedy,Sci-Fi,Supernatural</td>\n",
       "      <td>NaN</td>\n",
       "      <td>R - 17+ (violence &amp; profanity)</td>\n",
       "    </tr>\n",
       "  </tbody>\n",
       "</table>\n",
       "</div>\n",
       "      <button class=\"colab-df-convert\" onclick=\"convertToInteractive('df-74ad06ce-ebea-49bd-82a5-7e7f6d7f2875')\"\n",
       "              title=\"Convert this dataframe to an interactive table.\"\n",
       "              style=\"display:none;\">\n",
       "        \n",
       "  <svg xmlns=\"http://www.w3.org/2000/svg\" height=\"24px\"viewBox=\"0 0 24 24\"\n",
       "       width=\"24px\">\n",
       "    <path d=\"M0 0h24v24H0V0z\" fill=\"none\"/>\n",
       "    <path d=\"M18.56 5.44l.94 2.06.94-2.06 2.06-.94-2.06-.94-.94-2.06-.94 2.06-2.06.94zm-11 1L8.5 8.5l.94-2.06 2.06-.94-2.06-.94L8.5 2.5l-.94 2.06-2.06.94zm10 10l.94 2.06.94-2.06 2.06-.94-2.06-.94-.94-2.06-.94 2.06-2.06.94z\"/><path d=\"M17.41 7.96l-1.37-1.37c-.4-.4-.92-.59-1.43-.59-.52 0-1.04.2-1.43.59L10.3 9.45l-7.72 7.72c-.78.78-.78 2.05 0 2.83L4 21.41c.39.39.9.59 1.41.59.51 0 1.02-.2 1.41-.59l7.78-7.78 2.81-2.81c.8-.78.8-2.07 0-2.86zM5.41 20L4 18.59l7.72-7.72 1.47 1.35L5.41 20z\"/>\n",
       "  </svg>\n",
       "      </button>\n",
       "      \n",
       "  <style>\n",
       "    .colab-df-container {\n",
       "      display:flex;\n",
       "      flex-wrap:wrap;\n",
       "      gap: 12px;\n",
       "    }\n",
       "\n",
       "    .colab-df-convert {\n",
       "      background-color: #E8F0FE;\n",
       "      border: none;\n",
       "      border-radius: 50%;\n",
       "      cursor: pointer;\n",
       "      display: none;\n",
       "      fill: #1967D2;\n",
       "      height: 32px;\n",
       "      padding: 0 0 0 0;\n",
       "      width: 32px;\n",
       "    }\n",
       "\n",
       "    .colab-df-convert:hover {\n",
       "      background-color: #E2EBFA;\n",
       "      box-shadow: 0px 1px 2px rgba(60, 64, 67, 0.3), 0px 1px 3px 1px rgba(60, 64, 67, 0.15);\n",
       "      fill: #174EA6;\n",
       "    }\n",
       "\n",
       "    [theme=dark] .colab-df-convert {\n",
       "      background-color: #3B4455;\n",
       "      fill: #D2E3FC;\n",
       "    }\n",
       "\n",
       "    [theme=dark] .colab-df-convert:hover {\n",
       "      background-color: #434B5C;\n",
       "      box-shadow: 0px 1px 3px 1px rgba(0, 0, 0, 0.15);\n",
       "      filter: drop-shadow(0px 1px 2px rgba(0, 0, 0, 0.3));\n",
       "      fill: #FFFFFF;\n",
       "    }\n",
       "  </style>\n",
       "\n",
       "      <script>\n",
       "        const buttonEl =\n",
       "          document.querySelector('#df-74ad06ce-ebea-49bd-82a5-7e7f6d7f2875 button.colab-df-convert');\n",
       "        buttonEl.style.display =\n",
       "          google.colab.kernel.accessAllowed ? 'block' : 'none';\n",
       "\n",
       "        async function convertToInteractive(key) {\n",
       "          const element = document.querySelector('#df-74ad06ce-ebea-49bd-82a5-7e7f6d7f2875');\n",
       "          const dataTable =\n",
       "            await google.colab.kernel.invokeFunction('convertToInteractive',\n",
       "                                                     [key], {});\n",
       "          if (!dataTable) return;\n",
       "\n",
       "          const docLinkHtml = 'Like what you see? Visit the ' +\n",
       "            '<a target=\"_blank\" href=https://colab.research.google.com/notebooks/data_table.ipynb>data table notebook</a>'\n",
       "            + ' to learn more about interactive tables.';\n",
       "          element.innerHTML = '';\n",
       "          dataTable['output_type'] = 'display_data';\n",
       "          await google.colab.output.renderOutput(dataTable, element);\n",
       "          const docLink = document.createElement('div');\n",
       "          docLink.innerHTML = docLinkHtml;\n",
       "          element.appendChild(docLink);\n",
       "        }\n",
       "      </script>\n",
       "    </div>\n",
       "  </div>\n",
       "  "
      ],
      "text/plain": [
       "                  Name of the anime  ...                             Age\n",
       "0                        Death Note  ...  R - 17+ (violence & profanity)\n",
       "1                Shingeki no Kyojin  ...  R - 17+ (violence & profanity)\n",
       "2  Fullmetal Alchemist: Brotherhood  ...  R - 17+ (violence & profanity)\n",
       "3                  Sword Art Online  ...       PG-13 - Teens 13 or older\n",
       "4                     One Punch Man  ...  R - 17+ (violence & profanity)\n",
       "\n",
       "[5 rows x 11 columns]"
      ]
     },
     "execution_count": 3,
     "metadata": {},
     "output_type": "execute_result"
    }
   ],
   "source": [
    "df = pd.read_csv('anime.csv')\n",
    "df.head()"
   ]
  },
  {
   "cell_type": "markdown",
   "metadata": {
    "id": "nQ7vaWyAXSX3"
   },
   "source": [
    "### Some statistics"
   ]
  },
  {
   "cell_type": "markdown",
   "metadata": {
    "id": "fF8TcC8qarQo"
   },
   "source": [
    "#### Attributes"
   ]
  },
  {
   "cell_type": "code",
   "execution_count": null,
   "metadata": {
    "colab": {
     "base_uri": "https://localhost:8080/"
    },
    "id": "Zr2Al2Crolx_",
    "outputId": "dadd0217-5a76-4f99-db4a-fcb4e3dd0f5a"
   },
   "outputs": [
    {
     "data": {
      "text/plain": [
       "Name of the anime     object\n",
       "Rating               float64\n",
       "Ranking                int64\n",
       "Followers             object\n",
       "Type                  object\n",
       "Episodes              object\n",
       "License               object\n",
       "Study                 object\n",
       "Genre                 object\n",
       "Demographics          object\n",
       "Age                   object\n",
       "dtype: object"
      ]
     },
     "execution_count": 4,
     "metadata": {},
     "output_type": "execute_result"
    }
   ],
   "source": [
    "df.dtypes"
   ]
  },
  {
   "cell_type": "markdown",
   "metadata": {
    "id": "95mB78b6FGvL"
   },
   "source": [
    "Ranking feature is just numbers from 1 to 2000 so we do not need to find any outliers or other statistical information.\n",
    "\n",
    "Episodes and Followers features are shown as object but in fact, their type is numerical. We will handle this on preprocessing part."
   ]
  },
  {
   "cell_type": "code",
   "execution_count": null,
   "metadata": {
    "id": "S0C6xFDjtzi4"
   },
   "outputs": [],
   "source": [
    "dfRating = df.dropna(subset=['Rating'])"
   ]
  },
  {
   "cell_type": "markdown",
   "metadata": {
    "id": "FTiQIpRovvvG"
   },
   "source": [
    "The dataframe without NaN data on 'Rating' column. "
   ]
  },
  {
   "cell_type": "code",
   "execution_count": null,
   "metadata": {
    "colab": {
     "base_uri": "https://localhost:8080/"
    },
    "id": "g3x-peJGpk1Y",
    "outputId": "ceb2a279-3abf-4d47-862b-2387837e2b65"
   },
   "outputs": [
    {
     "data": {
      "text/plain": [
       "count    1979.000000\n",
       "mean        7.462567\n",
       "std         0.677055\n",
       "min         3.340000\n",
       "25%         7.090000\n",
       "50%         7.470000\n",
       "75%         7.925000\n",
       "max         9.160000\n",
       "Name: Rating, dtype: float64"
      ]
     },
     "execution_count": 6,
     "metadata": {},
     "output_type": "execute_result"
    }
   ],
   "source": [
    "dfRating.describe()['Rating']"
   ]
  },
  {
   "cell_type": "code",
   "execution_count": null,
   "metadata": {
    "colab": {
     "base_uri": "https://localhost:8080/",
     "height": 265
    },
    "id": "3CVoTtk4qUv4",
    "outputId": "8acd6535-ae2a-45b0-8e38-73ec30fc1259"
   },
   "outputs": [
    {
     "data": {
      "image/png": "[encoded data removed]",
      "text/plain": [
       "<Figure size 432x288 with 1 Axes>"
      ]
     },
     "metadata": {
      "needs_background": "light"
     },
     "output_type": "display_data"
    }
   ],
   "source": [
    "dfRating.boxplot(column=['Rating']);"
   ]
  },
  {
   "cell_type": "code",
   "execution_count": null,
   "metadata": {
    "id": "VShYg9gZr9Tj"
   },
   "outputs": [],
   "source": [
    "quarter1 = dfRating.describe().Rating['25%']\n",
    "quarter2 = dfRating.describe().Rating['50%']\n",
    "quarter3 = dfRating.describe().Rating['75%']\n",
    "meanRating = dfRating.describe().Rating['mean']\n",
    "IQR = quarter3 - quarter1\n",
    "lowerBound = quarter1 - (1.5 * IQR)\n",
    "upperBound = quarter3 + (1.5 * IQR)\n",
    "medianRating = dfRating.Rating.median()\n",
    "rangeRating = dfRating.describe().Rating['max'] - dfRating.describe().Rating['min']"
   ]
  },
  {
   "cell_type": "code",
   "execution_count": null,
   "metadata": {
    "colab": {
     "base_uri": "https://localhost:8080/"
    },
    "id": "K3WtEyWvs5CC",
    "outputId": "37158d88-bba6-46a7-c512-7f6c1f0e31be"
   },
   "outputs": [
    {
     "name": "stdout",
     "output_type": "stream",
     "text": [
      "Mean of the Rating column is 7.462567\n",
      "Lower bound of the box plot is 5.8375\n",
      "Upper bound of the box plot is 9.1775\n",
      "Median of the Rating column is 7.47\n",
      "Range of the Rating column is 5.82\n"
     ]
    }
   ],
   "source": [
    "print(f\"Mean of the Rating column is {meanRating:f}\" + \n",
    "      f\"\\nLower bound of the box plot is {lowerBound}\" +\n",
    "      f\"\\nUpper bound of the box plot is {upperBound}\" +  \n",
    "      f\"\\nMedian of the Rating column is {medianRating}\" + \n",
    "      f\"\\nRange of the Rating column is {rangeRating}\")"
   ]
  },
  {
   "cell_type": "code",
   "execution_count": null,
   "metadata": {
    "colab": {
     "base_uri": "https://localhost:8080/",
     "height": 1000
    },
    "id": "iCj3OXWCzSfJ",
    "outputId": "a15f6ce4-8018-4cdb-ec10-0233d8ca9701"
   },
   "outputs": [
    {
     "data": {
      "text/html": [
       "\n",
       "  <div id=\"df-2fe29215-73a2-4078-b0e7-8be001bf2fc7\">\n",
       "    <div class=\"colab-df-container\">\n",
       "      <div>\n",
       "<style scoped>\n",
       "    .dataframe tbody tr th:only-of-type {\n",
       "        vertical-align: middle;\n",
       "    }\n",
       "\n",
       "    .dataframe tbody tr th {\n",
       "        vertical-align: top;\n",
       "    }\n",
       "\n",
       "    .dataframe thead th {\n",
       "        text-align: right;\n",
       "    }\n",
       "</style>\n",
       "<table border=\"1\" class=\"dataframe\">\n",
       "  <thead>\n",
       "    <tr style=\"text-align: right;\">\n",
       "      <th></th>\n",
       "      <th>Name of the anime</th>\n",
       "      <th>Rating</th>\n",
       "    </tr>\n",
       "  </thead>\n",
       "  <tbody>\n",
       "    <tr>\n",
       "      <th>170</th>\n",
       "      <td>Yakusoku no Neverland 2nd Season</td>\n",
       "      <td>5.45</td>\n",
       "    </tr>\n",
       "    <tr>\n",
       "      <th>251</th>\n",
       "      <td>School Days</td>\n",
       "      <td>5.59</td>\n",
       "    </tr>\n",
       "    <tr>\n",
       "      <th>583</th>\n",
       "      <td>Diabolik Lovers</td>\n",
       "      <td>5.24</td>\n",
       "    </tr>\n",
       "    <tr>\n",
       "      <th>726</th>\n",
       "      <td>Taboo Tattoo</td>\n",
       "      <td>5.76</td>\n",
       "    </tr>\n",
       "    <tr>\n",
       "      <th>745</th>\n",
       "      <td>Isekai Cheat Magician</td>\n",
       "      <td>5.41</td>\n",
       "    </tr>\n",
       "    <tr>\n",
       "      <th>805</th>\n",
       "      <td>Tsuujou Kougeki ga Zentai Kougeki de Ni-kai Ko...</td>\n",
       "      <td>5.55</td>\n",
       "    </tr>\n",
       "    <tr>\n",
       "      <th>888</th>\n",
       "      <td>Ousama Game The Animation</td>\n",
       "      <td>5.01</td>\n",
       "    </tr>\n",
       "    <tr>\n",
       "      <th>899</th>\n",
       "      <td>Mayoiga</td>\n",
       "      <td>5.51</td>\n",
       "    </tr>\n",
       "    <tr>\n",
       "      <th>907</th>\n",
       "      <td>Big Order (TV)</td>\n",
       "      <td>5.38</td>\n",
       "    </tr>\n",
       "    <tr>\n",
       "      <th>1059</th>\n",
       "      <td>Pupa</td>\n",
       "      <td>3.34</td>\n",
       "    </tr>\n",
       "    <tr>\n",
       "      <th>1105</th>\n",
       "      <td>Boku no Pico</td>\n",
       "      <td>4.27</td>\n",
       "    </tr>\n",
       "    <tr>\n",
       "      <th>1158</th>\n",
       "      <td>Glasslip</td>\n",
       "      <td>5.43</td>\n",
       "    </tr>\n",
       "    <tr>\n",
       "      <th>1160</th>\n",
       "      <td>Divine Gate</td>\n",
       "      <td>5.56</td>\n",
       "    </tr>\n",
       "    <tr>\n",
       "      <th>1177</th>\n",
       "      <td>Hyakuren no Haou to Seiyaku no Valkyria</td>\n",
       "      <td>5.71</td>\n",
       "    </tr>\n",
       "    <tr>\n",
       "      <th>1197</th>\n",
       "      <td>Fairy Gone</td>\n",
       "      <td>5.79</td>\n",
       "    </tr>\n",
       "    <tr>\n",
       "      <th>1225</th>\n",
       "      <td>Peter Grill to Kenja no Jikan</td>\n",
       "      <td>5.48</td>\n",
       "    </tr>\n",
       "    <tr>\n",
       "      <th>1304</th>\n",
       "      <td>Netsuzou TRap</td>\n",
       "      <td>5.35</td>\n",
       "    </tr>\n",
       "    <tr>\n",
       "      <th>1348</th>\n",
       "      <td>Sin: Nanatsu no Taizai</td>\n",
       "      <td>5.71</td>\n",
       "    </tr>\n",
       "    <tr>\n",
       "      <th>1364</th>\n",
       "      <td>Diabolik Lovers More,Blood</td>\n",
       "      <td>5.58</td>\n",
       "    </tr>\n",
       "    <tr>\n",
       "      <th>1380</th>\n",
       "      <td>Dies Irae</td>\n",
       "      <td>5.38</td>\n",
       "    </tr>\n",
       "    <tr>\n",
       "      <th>1522</th>\n",
       "      <td>Ore ga Suki nano wa Imouto dakedo Imouto ja Nai</td>\n",
       "      <td>4.88</td>\n",
       "    </tr>\n",
       "    <tr>\n",
       "      <th>1534</th>\n",
       "      <td>Wonder Egg Priority Special</td>\n",
       "      <td>5.08</td>\n",
       "    </tr>\n",
       "    <tr>\n",
       "      <th>1555</th>\n",
       "      <td>One Room</td>\n",
       "      <td>5.56</td>\n",
       "    </tr>\n",
       "    <tr>\n",
       "      <th>1576</th>\n",
       "      <td>Dokyuu Hentai HxEros</td>\n",
       "      <td>5.75</td>\n",
       "    </tr>\n",
       "    <tr>\n",
       "      <th>1599</th>\n",
       "      <td>Chaos Dragon: Sekiryuu Seneki</td>\n",
       "      <td>5.64</td>\n",
       "    </tr>\n",
       "    <tr>\n",
       "      <th>1644</th>\n",
       "      <td>Conception</td>\n",
       "      <td>4.62</td>\n",
       "    </tr>\n",
       "    <tr>\n",
       "      <th>1675</th>\n",
       "      <td>Hatsukoi Monster</td>\n",
       "      <td>5.54</td>\n",
       "    </tr>\n",
       "    <tr>\n",
       "      <th>1702</th>\n",
       "      <td>Hand Shakers</td>\n",
       "      <td>5.30</td>\n",
       "    </tr>\n",
       "    <tr>\n",
       "      <th>1734</th>\n",
       "      <td>Bloodivores</td>\n",
       "      <td>5.49</td>\n",
       "    </tr>\n",
       "    <tr>\n",
       "      <th>1738</th>\n",
       "      <td>Seisen Cerberus: Ryuukoku no Fatalités</td>\n",
       "      <td>5.62</td>\n",
       "    </tr>\n",
       "    <tr>\n",
       "      <th>1872</th>\n",
       "      <td>Ulysses: Jehanne Darc to Renkin no Kishi</td>\n",
       "      <td>5.33</td>\n",
       "    </tr>\n",
       "    <tr>\n",
       "      <th>1954</th>\n",
       "      <td>Bikini Warriors</td>\n",
       "      <td>5.13</td>\n",
       "    </tr>\n",
       "    <tr>\n",
       "      <th>1981</th>\n",
       "      <td>Shironeko Project: Zero Chronicle</td>\n",
       "      <td>5.32</td>\n",
       "    </tr>\n",
       "    <tr>\n",
       "      <th>1997</th>\n",
       "      <td>Iya na Kao sare nagara Opantsu Misete Moraitai</td>\n",
       "      <td>5.74</td>\n",
       "    </tr>\n",
       "  </tbody>\n",
       "</table>\n",
       "</div>\n",
       "      <button class=\"colab-df-convert\" onclick=\"convertToInteractive('df-2fe29215-73a2-4078-b0e7-8be001bf2fc7')\"\n",
       "              title=\"Convert this dataframe to an interactive table.\"\n",
       "              style=\"display:none;\">\n",
       "        \n",
       "  <svg xmlns=\"http://www.w3.org/2000/svg\" height=\"24px\"viewBox=\"0 0 24 24\"\n",
       "       width=\"24px\">\n",
       "    <path d=\"M0 0h24v24H0V0z\" fill=\"none\"/>\n",
       "    <path d=\"M18.56 5.44l.94 2.06.94-2.06 2.06-.94-2.06-.94-.94-2.06-.94 2.06-2.06.94zm-11 1L8.5 8.5l.94-2.06 2.06-.94-2.06-.94L8.5 2.5l-.94 2.06-2.06.94zm10 10l.94 2.06.94-2.06 2.06-.94-2.06-.94-.94-2.06-.94 2.06-2.06.94z\"/><path d=\"M17.41 7.96l-1.37-1.37c-.4-.4-.92-.59-1.43-.59-.52 0-1.04.2-1.43.59L10.3 9.45l-7.72 7.72c-.78.78-.78 2.05 0 2.83L4 21.41c.39.39.9.59 1.41.59.51 0 1.02-.2 1.41-.59l7.78-7.78 2.81-2.81c.8-.78.8-2.07 0-2.86zM5.41 20L4 18.59l7.72-7.72 1.47 1.35L5.41 20z\"/>\n",
       "  </svg>\n",
       "      </button>\n",
       "      \n",
       "  <style>\n",
       "    .colab-df-container {\n",
       "      display:flex;\n",
       "      flex-wrap:wrap;\n",
       "      gap: 12px;\n",
       "    }\n",
       "\n",
       "    .colab-df-convert {\n",
       "      background-color: #E8F0FE;\n",
       "      border: none;\n",
       "      border-radius: 50%;\n",
       "      cursor: pointer;\n",
       "      display: none;\n",
       "      fill: #1967D2;\n",
       "      height: 32px;\n",
       "      padding: 0 0 0 0;\n",
       "      width: 32px;\n",
       "    }\n",
       "\n",
       "    .colab-df-convert:hover {\n",
       "      background-color: #E2EBFA;\n",
       "      box-shadow: 0px 1px 2px rgba(60, 64, 67, 0.3), 0px 1px 3px 1px rgba(60, 64, 67, 0.15);\n",
       "      fill: #174EA6;\n",
       "    }\n",
       "\n",
       "    [theme=dark] .colab-df-convert {\n",
       "      background-color: #3B4455;\n",
       "      fill: #D2E3FC;\n",
       "    }\n",
       "\n",
       "    [theme=dark] .colab-df-convert:hover {\n",
       "      background-color: #434B5C;\n",
       "      box-shadow: 0px 1px 3px 1px rgba(0, 0, 0, 0.15);\n",
       "      filter: drop-shadow(0px 1px 2px rgba(0, 0, 0, 0.3));\n",
       "      fill: #FFFFFF;\n",
       "    }\n",
       "  </style>\n",
       "\n",
       "      <script>\n",
       "        const buttonEl =\n",
       "          document.querySelector('#df-2fe29215-73a2-4078-b0e7-8be001bf2fc7 button.colab-df-convert');\n",
       "        buttonEl.style.display =\n",
       "          google.colab.kernel.accessAllowed ? 'block' : 'none';\n",
       "\n",
       "        async function convertToInteractive(key) {\n",
       "          const element = document.querySelector('#df-2fe29215-73a2-4078-b0e7-8be001bf2fc7');\n",
       "          const dataTable =\n",
       "            await google.colab.kernel.invokeFunction('convertToInteractive',\n",
       "                                                     [key], {});\n",
       "          if (!dataTable) return;\n",
       "\n",
       "          const docLinkHtml = 'Like what you see? Visit the ' +\n",
       "            '<a target=\"_blank\" href=https://colab.research.google.com/notebooks/data_table.ipynb>data table notebook</a>'\n",
       "            + ' to learn more about interactive tables.';\n",
       "          element.innerHTML = '';\n",
       "          dataTable['output_type'] = 'display_data';\n",
       "          await google.colab.output.renderOutput(dataTable, element);\n",
       "          const docLink = document.createElement('div');\n",
       "          docLink.innerHTML = docLinkHtml;\n",
       "          element.appendChild(docLink);\n",
       "        }\n",
       "      </script>\n",
       "    </div>\n",
       "  </div>\n",
       "  "
      ],
      "text/plain": [
       "                                      Name of the anime  Rating\n",
       "170                    Yakusoku no Neverland 2nd Season    5.45\n",
       "251                                         School Days    5.59\n",
       "583                                     Diabolik Lovers    5.24\n",
       "726                                        Taboo Tattoo    5.76\n",
       "745                               Isekai Cheat Magician    5.41\n",
       "805   Tsuujou Kougeki ga Zentai Kougeki de Ni-kai Ko...    5.55\n",
       "888                           Ousama Game The Animation    5.01\n",
       "899                                             Mayoiga    5.51\n",
       "907                                      Big Order (TV)    5.38\n",
       "1059                                               Pupa    3.34\n",
       "1105                                       Boku no Pico    4.27\n",
       "1158                                           Glasslip    5.43\n",
       "1160                                        Divine Gate    5.56\n",
       "1177            Hyakuren no Haou to Seiyaku no Valkyria    5.71\n",
       "1197                                         Fairy Gone    5.79\n",
       "1225                      Peter Grill to Kenja no Jikan    5.48\n",
       "1304                                      Netsuzou TRap    5.35\n",
       "1348                             Sin: Nanatsu no Taizai    5.71\n",
       "1364                         Diabolik Lovers More,Blood    5.58\n",
       "1380                                          Dies Irae    5.38\n",
       "1522    Ore ga Suki nano wa Imouto dakedo Imouto ja Nai    4.88\n",
       "1534                        Wonder Egg Priority Special    5.08\n",
       "1555                                           One Room    5.56\n",
       "1576                               Dokyuu Hentai HxEros    5.75\n",
       "1599                      Chaos Dragon: Sekiryuu Seneki    5.64\n",
       "1644                                         Conception    4.62\n",
       "1675                                   Hatsukoi Monster    5.54\n",
       "1702                                       Hand Shakers    5.30\n",
       "1734                                        Bloodivores    5.49\n",
       "1738             Seisen Cerberus: Ryuukoku no Fatalités    5.62\n",
       "1872           Ulysses: Jehanne Darc to Renkin no Kishi    5.33\n",
       "1954                                    Bikini Warriors    5.13\n",
       "1981                  Shironeko Project: Zero Chronicle    5.32\n",
       "1997     Iya na Kao sare nagara Opantsu Misete Moraitai    5.74"
      ]
     },
     "execution_count": 10,
     "metadata": {},
     "output_type": "execute_result"
    }
   ],
   "source": [
    "upperOutliersRating = dfRating.loc[(dfRating['Rating'] > upperBound), ['Name of the anime','Rating']]\n",
    "lowerOutliersRating = dfRating.loc[(dfRating['Rating'] < lowerBound), ['Name of the anime','Rating']]\n",
    "ratingOutliers = pd.concat([lowerOutliersRating,upperOutliersRating])\n",
    "ratingOutliers"
   ]
  },
  {
   "cell_type": "markdown",
   "metadata": {
    "id": "NDWAwlIO3mm7"
   },
   "source": [
    "This table contains the outliers. "
   ]
  },
  {
   "cell_type": "markdown",
   "metadata": {
    "id": "GaM5jWOdaoM7"
   },
   "source": [
    "#### Null objects"
   ]
  },
  {
   "cell_type": "code",
   "execution_count": null,
   "metadata": {
    "colab": {
     "base_uri": "https://localhost:8080/"
    },
    "id": "Kc8ToUdDowNW",
    "outputId": "0b8273d3-8372-4767-88e3-69fbc5b7d699"
   },
   "outputs": [
    {
     "data": {
      "text/plain": [
       "Name of the anime     0.00\n",
       "Rating                1.05\n",
       "Ranking               0.00\n",
       "Followers             0.00\n",
       "Type                  0.00\n",
       "Episodes              0.00\n",
       "License               0.00\n",
       "Study                 0.00\n",
       "Genre                 8.40\n",
       "Demographics         55.80\n",
       "Age                   0.00\n",
       "dtype: float64"
      ]
     },
     "execution_count": 11,
     "metadata": {},
     "output_type": "execute_result"
    }
   ],
   "source": [
    "percentage = df.shape[0] / 100\n",
    "percentage\n",
    "df.isnull().sum()/percentage"
   ]
  },
  {
   "cell_type": "markdown",
   "metadata": {
    "id": "jXNLWAKgfgjO"
   },
   "source": [
    "We will use 'Other' tag for null 'Demographics' column data. \n",
    "For 'Rating' column we ignored null observations above. Null values mean that series is not started yet or they are just corrupted data."
   ]
  },
  {
   "cell_type": "code",
   "execution_count": null,
   "metadata": {
    "colab": {
     "base_uri": "https://localhost:8080/"
    },
    "id": "A5PZTnKmev_g",
    "outputId": "1520c5db-f2ce-4759-9a29-0f0eff5bf088"
   },
   "outputs": [
    {
     "name": "stdout",
     "output_type": "stream",
     "text": [
      "Unknown episode count is 25\n"
     ]
    }
   ],
   "source": [
    "unknownEpisodes = df.loc[df['Episodes'] == 'Unknown'].count()['Episodes']\n",
    "print(\"Unknown episode count is \" + str(unknownEpisodes))"
   ]
  },
  {
   "cell_type": "markdown",
   "metadata": {
    "id": "gH0Zp7c8haHf"
   },
   "source": [
    "There are 25 'Unknown' values used for series that have not yet started or ended. For the 'Episodes' column, we may ignore these data or replace the 'unknown' value with the mean of the column according to the situation."
   ]
  },
  {
   "cell_type": "code",
   "execution_count": null,
   "metadata": {
    "colab": {
     "base_uri": "https://localhost:8080/",
     "height": 81
    },
    "id": "hSbcK7MzhRfJ",
    "outputId": "98fdfe4d-73ca-4efe-ef6e-8627e9b8b7dd"
   },
   "outputs": [
    {
     "data": {
      "text/html": [
       "\n",
       "  <div id=\"df-91cccb02-72ee-430d-9e10-3db8eb17352f\">\n",
       "    <div class=\"colab-df-container\">\n",
       "      <div>\n",
       "<style scoped>\n",
       "    .dataframe tbody tr th:only-of-type {\n",
       "        vertical-align: middle;\n",
       "    }\n",
       "\n",
       "    .dataframe tbody tr th {\n",
       "        vertical-align: top;\n",
       "    }\n",
       "\n",
       "    .dataframe thead th {\n",
       "        text-align: right;\n",
       "    }\n",
       "</style>\n",
       "<table border=\"1\" class=\"dataframe\">\n",
       "  <thead>\n",
       "    <tr style=\"text-align: right;\">\n",
       "      <th></th>\n",
       "      <th>Name of the anime</th>\n",
       "      <th>Type</th>\n",
       "    </tr>\n",
       "  </thead>\n",
       "  <tbody>\n",
       "    <tr>\n",
       "      <th>1925</th>\n",
       "      <td>Bleach: Sennen Kessen-hen</td>\n",
       "      <td>Unknown</td>\n",
       "    </tr>\n",
       "  </tbody>\n",
       "</table>\n",
       "</div>\n",
       "      <button class=\"colab-df-convert\" onclick=\"convertToInteractive('df-91cccb02-72ee-430d-9e10-3db8eb17352f')\"\n",
       "              title=\"Convert this dataframe to an interactive table.\"\n",
       "              style=\"display:none;\">\n",
       "        \n",
       "  <svg xmlns=\"http://www.w3.org/2000/svg\" height=\"24px\"viewBox=\"0 0 24 24\"\n",
       "       width=\"24px\">\n",
       "    <path d=\"M0 0h24v24H0V0z\" fill=\"none\"/>\n",
       "    <path d=\"M18.56 5.44l.94 2.06.94-2.06 2.06-.94-2.06-.94-.94-2.06-.94 2.06-2.06.94zm-11 1L8.5 8.5l.94-2.06 2.06-.94-2.06-.94L8.5 2.5l-.94 2.06-2.06.94zm10 10l.94 2.06.94-2.06 2.06-.94-2.06-.94-.94-2.06-.94 2.06-2.06.94z\"/><path d=\"M17.41 7.96l-1.37-1.37c-.4-.4-.92-.59-1.43-.59-.52 0-1.04.2-1.43.59L10.3 9.45l-7.72 7.72c-.78.78-.78 2.05 0 2.83L4 21.41c.39.39.9.59 1.41.59.51 0 1.02-.2 1.41-.59l7.78-7.78 2.81-2.81c.8-.78.8-2.07 0-2.86zM5.41 20L4 18.59l7.72-7.72 1.47 1.35L5.41 20z\"/>\n",
       "  </svg>\n",
       "      </button>\n",
       "      \n",
       "  <style>\n",
       "    .colab-df-container {\n",
       "      display:flex;\n",
       "      flex-wrap:wrap;\n",
       "      gap: 12px;\n",
       "    }\n",
       "\n",
       "    .colab-df-convert {\n",
       "      background-color: #E8F0FE;\n",
       "      border: none;\n",
       "      border-radius: 50%;\n",
       "      cursor: pointer;\n",
       "      display: none;\n",
       "      fill: #1967D2;\n",
       "      height: 32px;\n",
       "      padding: 0 0 0 0;\n",
       "      width: 32px;\n",
       "    }\n",
       "\n",
       "    .colab-df-convert:hover {\n",
       "      background-color: #E2EBFA;\n",
       "      box-shadow: 0px 1px 2px rgba(60, 64, 67, 0.3), 0px 1px 3px 1px rgba(60, 64, 67, 0.15);\n",
       "      fill: #174EA6;\n",
       "    }\n",
       "\n",
       "    [theme=dark] .colab-df-convert {\n",
       "      background-color: #3B4455;\n",
       "      fill: #D2E3FC;\n",
       "    }\n",
       "\n",
       "    [theme=dark] .colab-df-convert:hover {\n",
       "      background-color: #434B5C;\n",
       "      box-shadow: 0px 1px 3px 1px rgba(0, 0, 0, 0.15);\n",
       "      filter: drop-shadow(0px 1px 2px rgba(0, 0, 0, 0.3));\n",
       "      fill: #FFFFFF;\n",
       "    }\n",
       "  </style>\n",
       "\n",
       "      <script>\n",
       "        const buttonEl =\n",
       "          document.querySelector('#df-91cccb02-72ee-430d-9e10-3db8eb17352f button.colab-df-convert');\n",
       "        buttonEl.style.display =\n",
       "          google.colab.kernel.accessAllowed ? 'block' : 'none';\n",
       "\n",
       "        async function convertToInteractive(key) {\n",
       "          const element = document.querySelector('#df-91cccb02-72ee-430d-9e10-3db8eb17352f');\n",
       "          const dataTable =\n",
       "            await google.colab.kernel.invokeFunction('convertToInteractive',\n",
       "                                                     [key], {});\n",
       "          if (!dataTable) return;\n",
       "\n",
       "          const docLinkHtml = 'Like what you see? Visit the ' +\n",
       "            '<a target=\"_blank\" href=https://colab.research.google.com/notebooks/data_table.ipynb>data table notebook</a>'\n",
       "            + ' to learn more about interactive tables.';\n",
       "          element.innerHTML = '';\n",
       "          dataTable['output_type'] = 'display_data';\n",
       "          await google.colab.output.renderOutput(dataTable, element);\n",
       "          const docLink = document.createElement('div');\n",
       "          docLink.innerHTML = docLinkHtml;\n",
       "          element.appendChild(docLink);\n",
       "        }\n",
       "      </script>\n",
       "    </div>\n",
       "  </div>\n",
       "  "
      ],
      "text/plain": [
       "              Name of the anime     Type\n",
       "1925  Bleach: Sennen Kessen-hen  Unknown"
      ]
     },
     "execution_count": 13,
     "metadata": {},
     "output_type": "execute_result"
    }
   ],
   "source": [
    "df.loc[df['Type'] == 'Unknown', ['Name of the anime','Type']]"
   ]
  },
  {
   "cell_type": "markdown",
   "metadata": {
    "id": "MpSKQBeSjoXC"
   },
   "source": [
    "Since it is only 1 observation we will manually fill the 'Unknown' data with 'TV'."
   ]
  },
  {
   "cell_type": "code",
   "execution_count": null,
   "metadata": {
    "colab": {
     "base_uri": "https://localhost:8080/",
     "height": 424
    },
    "id": "QjsVPzjFIfMP",
    "outputId": "9edb7bd1-8fcc-44c5-a87b-a269c2f75cee"
   },
   "outputs": [
    {
     "data": {
      "text/html": [
       "\n",
       "  <div id=\"df-a3eb79bb-34ef-444f-8de3-61ad493ef012\">\n",
       "    <div class=\"colab-df-container\">\n",
       "      <div>\n",
       "<style scoped>\n",
       "    .dataframe tbody tr th:only-of-type {\n",
       "        vertical-align: middle;\n",
       "    }\n",
       "\n",
       "    .dataframe tbody tr th {\n",
       "        vertical-align: top;\n",
       "    }\n",
       "\n",
       "    .dataframe thead th {\n",
       "        text-align: right;\n",
       "    }\n",
       "</style>\n",
       "<table border=\"1\" class=\"dataframe\">\n",
       "  <thead>\n",
       "    <tr style=\"text-align: right;\">\n",
       "      <th></th>\n",
       "      <th>Name of the anime</th>\n",
       "      <th>Genre</th>\n",
       "      <th>Rating</th>\n",
       "    </tr>\n",
       "  </thead>\n",
       "  <tbody>\n",
       "    <tr>\n",
       "      <th>22</th>\n",
       "      <td>Koe no Katachi</td>\n",
       "      <td>NaN</td>\n",
       "      <td>8.97</td>\n",
       "    </tr>\n",
       "    <tr>\n",
       "      <th>60</th>\n",
       "      <td>Charlotte</td>\n",
       "      <td>NaN</td>\n",
       "      <td>7.75</td>\n",
       "    </tr>\n",
       "    <tr>\n",
       "      <th>125</th>\n",
       "      <td>Kimetsu no Yaiba Movie: Mugen Ressha-hen</td>\n",
       "      <td>NaN</td>\n",
       "      <td>8.71</td>\n",
       "    </tr>\n",
       "    <tr>\n",
       "      <th>140</th>\n",
       "      <td>Black Lagoon</td>\n",
       "      <td>NaN</td>\n",
       "      <td>8.03</td>\n",
       "    </tr>\n",
       "    <tr>\n",
       "      <th>154</th>\n",
       "      <td>Youkoso Jitsuryoku Shijou Shugi no Kyoushitsu ...</td>\n",
       "      <td>NaN</td>\n",
       "      <td>7.84</td>\n",
       "    </tr>\n",
       "    <tr>\n",
       "      <th>...</th>\n",
       "      <td>...</td>\n",
       "      <td>...</td>\n",
       "      <td>...</td>\n",
       "    </tr>\n",
       "    <tr>\n",
       "      <th>1962</th>\n",
       "      <td>Bishounen Tanteidan</td>\n",
       "      <td>NaN</td>\n",
       "      <td>7.21</td>\n",
       "    </tr>\n",
       "    <tr>\n",
       "      <th>1975</th>\n",
       "      <td>Show By Rock!!</td>\n",
       "      <td>NaN</td>\n",
       "      <td>7.03</td>\n",
       "    </tr>\n",
       "    <tr>\n",
       "      <th>1984</th>\n",
       "      <td>BanG Dream!</td>\n",
       "      <td>NaN</td>\n",
       "      <td>6.97</td>\n",
       "    </tr>\n",
       "    <tr>\n",
       "      <th>1989</th>\n",
       "      <td>Haikyuu!!: vs. \"Akaten\"</td>\n",
       "      <td>NaN</td>\n",
       "      <td>7.77</td>\n",
       "    </tr>\n",
       "    <tr>\n",
       "      <th>1997</th>\n",
       "      <td>Iya na Kao sare nagara Opantsu Misete Moraitai</td>\n",
       "      <td>NaN</td>\n",
       "      <td>5.74</td>\n",
       "    </tr>\n",
       "  </tbody>\n",
       "</table>\n",
       "<p>168 rows × 3 columns</p>\n",
       "</div>\n",
       "      <button class=\"colab-df-convert\" onclick=\"convertToInteractive('df-a3eb79bb-34ef-444f-8de3-61ad493ef012')\"\n",
       "              title=\"Convert this dataframe to an interactive table.\"\n",
       "              style=\"display:none;\">\n",
       "        \n",
       "  <svg xmlns=\"http://www.w3.org/2000/svg\" height=\"24px\"viewBox=\"0 0 24 24\"\n",
       "       width=\"24px\">\n",
       "    <path d=\"M0 0h24v24H0V0z\" fill=\"none\"/>\n",
       "    <path d=\"M18.56 5.44l.94 2.06.94-2.06 2.06-.94-2.06-.94-.94-2.06-.94 2.06-2.06.94zm-11 1L8.5 8.5l.94-2.06 2.06-.94-2.06-.94L8.5 2.5l-.94 2.06-2.06.94zm10 10l.94 2.06.94-2.06 2.06-.94-2.06-.94-.94-2.06-.94 2.06-2.06.94z\"/><path d=\"M17.41 7.96l-1.37-1.37c-.4-.4-.92-.59-1.43-.59-.52 0-1.04.2-1.43.59L10.3 9.45l-7.72 7.72c-.78.78-.78 2.05 0 2.83L4 21.41c.39.39.9.59 1.41.59.51 0 1.02-.2 1.41-.59l7.78-7.78 2.81-2.81c.8-.78.8-2.07 0-2.86zM5.41 20L4 18.59l7.72-7.72 1.47 1.35L5.41 20z\"/>\n",
       "  </svg>\n",
       "      </button>\n",
       "      \n",
       "  <style>\n",
       "    .colab-df-container {\n",
       "      display:flex;\n",
       "      flex-wrap:wrap;\n",
       "      gap: 12px;\n",
       "    }\n",
       "\n",
       "    .colab-df-convert {\n",
       "      background-color: #E8F0FE;\n",
       "      border: none;\n",
       "      border-radius: 50%;\n",
       "      cursor: pointer;\n",
       "      display: none;\n",
       "      fill: #1967D2;\n",
       "      height: 32px;\n",
       "      padding: 0 0 0 0;\n",
       "      width: 32px;\n",
       "    }\n",
       "\n",
       "    .colab-df-convert:hover {\n",
       "      background-color: #E2EBFA;\n",
       "      box-shadow: 0px 1px 2px rgba(60, 64, 67, 0.3), 0px 1px 3px 1px rgba(60, 64, 67, 0.15);\n",
       "      fill: #174EA6;\n",
       "    }\n",
       "\n",
       "    [theme=dark] .colab-df-convert {\n",
       "      background-color: #3B4455;\n",
       "      fill: #D2E3FC;\n",
       "    }\n",
       "\n",
       "    [theme=dark] .colab-df-convert:hover {\n",
       "      background-color: #434B5C;\n",
       "      box-shadow: 0px 1px 3px 1px rgba(0, 0, 0, 0.15);\n",
       "      filter: drop-shadow(0px 1px 2px rgba(0, 0, 0, 0.3));\n",
       "      fill: #FFFFFF;\n",
       "    }\n",
       "  </style>\n",
       "\n",
       "      <script>\n",
       "        const buttonEl =\n",
       "          document.querySelector('#df-a3eb79bb-34ef-444f-8de3-61ad493ef012 button.colab-df-convert');\n",
       "        buttonEl.style.display =\n",
       "          google.colab.kernel.accessAllowed ? 'block' : 'none';\n",
       "\n",
       "        async function convertToInteractive(key) {\n",
       "          const element = document.querySelector('#df-a3eb79bb-34ef-444f-8de3-61ad493ef012');\n",
       "          const dataTable =\n",
       "            await google.colab.kernel.invokeFunction('convertToInteractive',\n",
       "                                                     [key], {});\n",
       "          if (!dataTable) return;\n",
       "\n",
       "          const docLinkHtml = 'Like what you see? Visit the ' +\n",
       "            '<a target=\"_blank\" href=https://colab.research.google.com/notebooks/data_table.ipynb>data table notebook</a>'\n",
       "            + ' to learn more about interactive tables.';\n",
       "          element.innerHTML = '';\n",
       "          dataTable['output_type'] = 'display_data';\n",
       "          await google.colab.output.renderOutput(dataTable, element);\n",
       "          const docLink = document.createElement('div');\n",
       "          docLink.innerHTML = docLinkHtml;\n",
       "          element.appendChild(docLink);\n",
       "        }\n",
       "      </script>\n",
       "    </div>\n",
       "  </div>\n",
       "  "
      ],
      "text/plain": [
       "                                      Name of the anime Genre  Rating\n",
       "22                                       Koe no Katachi   NaN    8.97\n",
       "60                                            Charlotte   NaN    7.75\n",
       "125            Kimetsu no Yaiba Movie: Mugen Ressha-hen   NaN    8.71\n",
       "140                                        Black Lagoon   NaN    8.03\n",
       "154   Youkoso Jitsuryoku Shijou Shugi no Kyoushitsu ...   NaN    7.84\n",
       "...                                                 ...   ...     ...\n",
       "1962                                Bishounen Tanteidan   NaN    7.21\n",
       "1975                                     Show By Rock!!   NaN    7.03\n",
       "1984                                        BanG Dream!   NaN    6.97\n",
       "1989                            Haikyuu!!: vs. \"Akaten\"   NaN    7.77\n",
       "1997     Iya na Kao sare nagara Opantsu Misete Moraitai   NaN    5.74\n",
       "\n",
       "[168 rows x 3 columns]"
      ]
     },
     "execution_count": 14,
     "metadata": {},
     "output_type": "execute_result"
    }
   ],
   "source": [
    "df.loc[df['Genre'].isnull() , ['Name of the anime', 'Genre', 'Rating']]"
   ]
  },
  {
   "cell_type": "markdown",
   "metadata": {
    "id": "B7E9ou0_I_5I"
   },
   "source": [
    "There are 168 observations that has no Genre data. We cannot predict the genres so we will replace them with 'NA' (Not Available). "
   ]
  },
  {
   "cell_type": "markdown",
   "metadata": {
    "id": "gTTfCYyXmTHn"
   },
   "source": [
    "#### Attribute counts"
   ]
  },
  {
   "cell_type": "markdown",
   "metadata": {
    "id": "YDBOnjPw8vB9"
   },
   "source": [
    "Names of the animes are all unique as expected.\n",
    "Rating and Ranking features are numerical data.\n",
    "Episodes and Followers data is nominal but should be numerical we will handle this on preprocessing part."
   ]
  },
  {
   "cell_type": "code",
   "execution_count": null,
   "metadata": {
    "colab": {
     "base_uri": "https://localhost:8080/"
    },
    "id": "7l_1mufIj3yZ",
    "outputId": "985ee31f-4369-481a-bf48-55f8d44dc7c6"
   },
   "outputs": [
    {
     "data": {
      "text/plain": [
       "TV         1462\n",
       "Movie       267\n",
       "OVA         130\n",
       "Special      90\n",
       "ONA          49\n",
       "Music         1\n",
       "Unknown       1\n",
       "Name: Type, dtype: int64"
      ]
     },
     "execution_count": 15,
     "metadata": {},
     "output_type": "execute_result"
    }
   ],
   "source": [
    "df.Type.value_counts()"
   ]
  },
  {
   "cell_type": "code",
   "execution_count": null,
   "metadata": {
    "colab": {
     "base_uri": "https://localhost:8080/"
    },
    "id": "Jgd3NeQGg5sk",
    "outputId": "4c916bb1-86f4-4967-fb7a-45723f14d721"
   },
   "outputs": [
    {
     "data": {
      "text/plain": [
       "J.C.Staff                                           105\n",
       "A-1 Pictures                                         96\n",
       "Madhouse                                             91\n",
       "Toei Animation                                       65\n",
       "Studio Deen                                          65\n",
       "                                                   ... \n",
       "Kinema Citrus,       DR Movie                         1\n",
       "Barnum Studio,       SILVER LINK.,       Connect      1\n",
       "SANZIGEN                                              1\n",
       "Ordet,       LIDENFILMS                               1\n",
       "Wolfsbane                                             1\n",
       "Name: Study, Length: 279, dtype: int64"
      ]
     },
     "execution_count": 16,
     "metadata": {},
     "output_type": "execute_result"
    }
   ],
   "source": [
    "df.Study.value_counts()"
   ]
  },
  {
   "cell_type": "markdown",
   "metadata": {
    "id": "gduzTa3ulCEe"
   },
   "source": [
    "There are multiple studies in one column seperated by comma. 3 columns are like that. We are going to handle this on preprocessing part."
   ]
  },
  {
   "cell_type": "code",
   "execution_count": null,
   "metadata": {
    "colab": {
     "base_uri": "https://localhost:8080/"
    },
    "id": "mfLKQID678yi",
    "outputId": "7074ecee-f176-4b76-8253-756f5b310ef1"
   },
   "outputs": [
    {
     "data": {
      "text/plain": [
       "Shounen    510\n",
       "Seinen     218\n",
       "Shoujo     104\n",
       "Josei       27\n",
       "Kids        25\n",
       "Name: Demographics, dtype: int64"
      ]
     },
     "execution_count": 17,
     "metadata": {},
     "output_type": "execute_result"
    }
   ],
   "source": [
    "df.Demographics.value_counts()"
   ]
  },
  {
   "cell_type": "code",
   "execution_count": null,
   "metadata": {
    "colab": {
     "base_uri": "https://localhost:8080/"
    },
    "id": "znAu2nlj7gaU",
    "outputId": "38d32337-9dd9-451c-f1a7-34ab5ab951a8"
   },
   "outputs": [
    {
     "data": {
      "text/plain": [
       "PG-13 - Teens 13 or older         1288\n",
       "R - 17+ (violence & profanity)     455\n",
       "R+ - Mild Nudity                   180\n",
       "PG - Children                       39\n",
       "G - All Ages                        31\n",
       "None                                 6\n",
       "Rx - Hentai                          1\n",
       "Name: Age, dtype: int64"
      ]
     },
     "execution_count": 18,
     "metadata": {},
     "output_type": "execute_result"
    }
   ],
   "source": [
    "df.Age.value_counts()"
   ]
  },
  {
   "cell_type": "markdown",
   "metadata": {
    "id": "GTpLvNg57pY7"
   },
   "source": [
    "None indicates there is no such an age gap data. We will leave it like that."
   ]
  },
  {
   "cell_type": "markdown",
   "metadata": {
    "id": "w_nNPOEPl4DN"
   },
   "source": [
    "#### Some visualizations"
   ]
  },
  {
   "cell_type": "code",
   "execution_count": null,
   "metadata": {
    "colab": {
     "base_uri": "https://localhost:8080/",
     "height": 279
    },
    "id": "JUWARvFgfzgA",
    "outputId": "addeaefd-022d-49d8-b4cf-f8829cc90723"
   },
   "outputs": [
    {
     "data": {
      "image/png": "[encoded data removed]",
      "text/plain": [
       "<Figure size 432x288 with 1 Axes>"
      ]
     },
     "metadata": {
      "needs_background": "light"
     },
     "output_type": "display_data"
    }
   ],
   "source": [
    "df.plot(\"Ranking\",\"Rating\",kind = 'scatter');"
   ]
  },
  {
   "cell_type": "markdown",
   "metadata": {
    "id": "fl018eg0doFn"
   },
   "source": [
    "As it is seen, the rating score slightly decreases as the popularity decreases and there are some outliers."
   ]
  },
  {
   "cell_type": "code",
   "execution_count": null,
   "metadata": {
    "colab": {
     "base_uri": "https://localhost:8080/",
     "height": 248
    },
    "id": "QVQzmm3fbqOs",
    "outputId": "d071506d-313f-475b-df69-3c9baa8fc3d7"
   },
   "outputs": [
    {
     "data": {
      "image/png": "[encoded data removed]",
      "text/plain": [
       "<Figure size 432x288 with 1 Axes>"
      ]
     },
     "metadata": {},
     "output_type": "display_data"
    }
   ],
   "source": [
    "df.License.value_counts().head().plot.pie();"
   ]
  },
  {
   "cell_type": "markdown",
   "metadata": {
    "id": "8gg6PRjwK72G"
   },
   "source": [
    "License distribution is shown."
   ]
  },
  {
   "cell_type": "code",
   "execution_count": null,
   "metadata": {
    "colab": {
     "base_uri": "https://localhost:8080/",
     "height": 248
    },
    "id": "YMS39T2pcHoZ",
    "outputId": "f71c7ca4-214b-433d-db06-209b9f77c49c"
   },
   "outputs": [
    {
     "data": {
      "image/png": "[encoded data removed]",
      "text/plain": [
       "<Figure size 432x288 with 1 Axes>"
      ]
     },
     "metadata": {},
     "output_type": "display_data"
    }
   ],
   "source": [
    "df.Demographics.value_counts().plot.pie();"
   ]
  },
  {
   "cell_type": "markdown",
   "metadata": {
    "id": "oo3E5LywK0-P"
   },
   "source": [
    "Demography distribution is shown."
   ]
  },
  {
   "cell_type": "code",
   "execution_count": null,
   "metadata": {
    "colab": {
     "base_uri": "https://localhost:8080/",
     "height": 267
    },
    "id": "kPoXgTtkum9d",
    "outputId": "08ed9ade-70a2-4f86-80a4-460ec1f95926"
   },
   "outputs": [
    {
     "data": {
      "image/png": "[encoded data removed]",
      "text/plain": [
       "<Figure size 432x288 with 1 Axes>"
      ]
     },
     "metadata": {
      "needs_background": "light"
     },
     "output_type": "display_data"
    }
   ],
   "source": [
    "dfRating['Rating'].hist(bins=20);"
   ]
  },
  {
   "cell_type": "markdown",
   "metadata": {
    "id": "RaYOM8ipKjwe"
   },
   "source": [
    "Rating distribution is shown."
   ]
  },
  {
   "cell_type": "markdown",
   "metadata": {
    "id": "4WpNEq6lKNmv"
   },
   "source": [
    "All of the visualizations are just examples. Shown data is not preprocessed yet. More tidied up and correct data will be shown at Part IV with detailed visualizations."
   ]
  },
  {
   "cell_type": "markdown",
   "metadata": {
    "id": "-6a95D63nzfj"
   },
   "source": [
    "## PART III - Data Preprocessing"
   ]
  },
  {
   "cell_type": "markdown",
   "metadata": {
    "id": "ehyDpDq0LU9A"
   },
   "source": [
    "We are going to modify following features:\n",
    "\n",
    "- Followers\n",
    "- Type\n",
    "- Episodes\n",
    "- License\n",
    "- Study\n",
    "- Genre\n",
    "- Demographics\n",
    "- Age\n",
    "\n",
    "We will not modify **Name of the anime** column because this column only contains unique series names and it does not need further modifications.\n",
    "\n",
    "We will not modify **Rating** column because we already modified it above.\n",
    "\n",
    "We will not modify **Ranking** column because there is no missing data and inconsistency issues.\n",
    "\n",
    "We are going to modify **Followers** column because its type is shown in 'object' data type. We need to convert it to the numerical data type.\n",
    "\n",
    "We are going to modify **Type** column because it contains missing values.\n",
    "\n",
    "We are going to modify **Episodes** column with the same reason of **Followers** column. Additionaly, this column contains some missing values. We need to handle them.\n",
    "\n",
    "We are going to modify **License** column because for some observations, it contains multiple licenses seperated by comma. \n",
    "\n",
    "We are going to modify **Study** column for the same reason of **License** column.\n",
    "\n",
    "We are going to modify **Genre** column for the same reson of **License** column. Additionally, there are some missing values. We need to handle them.\n",
    "\n",
    "We are going to modify **Demographics** column because its half is missing.\n",
    "\n",
    "We are going to modify **Age** column because there are missing values."
   ]
  },
  {
   "cell_type": "markdown",
   "metadata": {
    "id": "t9OZKaeHTCze"
   },
   "source": [
    "### Followers column\n",
    "\n",
    "We are going to delete commas in the data and parse it to the integer. We can use main dataFrame object here."
   ]
  },
  {
   "cell_type": "code",
   "execution_count": null,
   "metadata": {
    "colab": {
     "base_uri": "https://localhost:8080/"
    },
    "id": "isrQMLUQdyzT",
    "outputId": "75d730b7-0f80-46cb-c90b-71ff4e968041"
   },
   "outputs": [
    {
     "data": {
      "text/plain": [
       "Name of the anime     object\n",
       "Rating               float64\n",
       "Ranking                int64\n",
       "Followers              int64\n",
       "Type                  object\n",
       "Episodes              object\n",
       "License               object\n",
       "Study                 object\n",
       "Genre                 object\n",
       "Demographics          object\n",
       "Age                   object\n",
       "dtype: object"
      ]
     },
     "execution_count": 23,
     "metadata": {},
     "output_type": "execute_result"
    }
   ],
   "source": [
    "dfFollowers = df\n",
    "dfFollowers['Followers'] = dfFollowers['Followers'].apply(lambda n: int(n.replace(',','')))\n",
    "dfFollowers.dtypes"
   ]
  },
  {
   "cell_type": "markdown",
   "metadata": {
    "id": "oT8o94SraV07"
   },
   "source": [
    "### Type column\n",
    "\n",
    "We will clear missing data. We may name the values in numerical order. \n",
    "\n",
    "Since there is only 1 missing data we will manually change it."
   ]
  },
  {
   "cell_type": "code",
   "execution_count": null,
   "metadata": {
    "colab": {
     "base_uri": "https://localhost:8080/",
     "height": 81
    },
    "id": "GWA-L-0TaU6r",
    "outputId": "a6157493-4a77-417b-ab2f-d9b220960462"
   },
   "outputs": [
    {
     "data": {
      "text/html": [
       "\n",
       "  <div id=\"df-48777643-62f6-4453-af89-64cda2219068\">\n",
       "    <div class=\"colab-df-container\">\n",
       "      <div>\n",
       "<style scoped>\n",
       "    .dataframe tbody tr th:only-of-type {\n",
       "        vertical-align: middle;\n",
       "    }\n",
       "\n",
       "    .dataframe tbody tr th {\n",
       "        vertical-align: top;\n",
       "    }\n",
       "\n",
       "    .dataframe thead th {\n",
       "        text-align: right;\n",
       "    }\n",
       "</style>\n",
       "<table border=\"1\" class=\"dataframe\">\n",
       "  <thead>\n",
       "    <tr style=\"text-align: right;\">\n",
       "      <th></th>\n",
       "      <th>Name of the anime</th>\n",
       "      <th>Rating</th>\n",
       "      <th>Ranking</th>\n",
       "      <th>Followers</th>\n",
       "      <th>Type</th>\n",
       "      <th>Episodes</th>\n",
       "      <th>License</th>\n",
       "      <th>Study</th>\n",
       "      <th>Genre</th>\n",
       "      <th>Demographics</th>\n",
       "      <th>Age</th>\n",
       "    </tr>\n",
       "  </thead>\n",
       "  <tbody>\n",
       "    <tr>\n",
       "      <th>1925</th>\n",
       "      <td>Bleach: Sennen Kessen-hen</td>\n",
       "      <td>NaN</td>\n",
       "      <td>1926</td>\n",
       "      <td>78243</td>\n",
       "      <td>Unknown</td>\n",
       "      <td>Unknown</td>\n",
       "      <td>None found</td>\n",
       "      <td>None found</td>\n",
       "      <td>Action,Adventure,Comedy,Supernatural</td>\n",
       "      <td>Shounen</td>\n",
       "      <td>PG-13 - Teens 13 or older</td>\n",
       "    </tr>\n",
       "  </tbody>\n",
       "</table>\n",
       "</div>\n",
       "      <button class=\"colab-df-convert\" onclick=\"convertToInteractive('df-48777643-62f6-4453-af89-64cda2219068')\"\n",
       "              title=\"Convert this dataframe to an interactive table.\"\n",
       "              style=\"display:none;\">\n",
       "        \n",
       "  <svg xmlns=\"http://www.w3.org/2000/svg\" height=\"24px\"viewBox=\"0 0 24 24\"\n",
       "       width=\"24px\">\n",
       "    <path d=\"M0 0h24v24H0V0z\" fill=\"none\"/>\n",
       "    <path d=\"M18.56 5.44l.94 2.06.94-2.06 2.06-.94-2.06-.94-.94-2.06-.94 2.06-2.06.94zm-11 1L8.5 8.5l.94-2.06 2.06-.94-2.06-.94L8.5 2.5l-.94 2.06-2.06.94zm10 10l.94 2.06.94-2.06 2.06-.94-2.06-.94-.94-2.06-.94 2.06-2.06.94z\"/><path d=\"M17.41 7.96l-1.37-1.37c-.4-.4-.92-.59-1.43-.59-.52 0-1.04.2-1.43.59L10.3 9.45l-7.72 7.72c-.78.78-.78 2.05 0 2.83L4 21.41c.39.39.9.59 1.41.59.51 0 1.02-.2 1.41-.59l7.78-7.78 2.81-2.81c.8-.78.8-2.07 0-2.86zM5.41 20L4 18.59l7.72-7.72 1.47 1.35L5.41 20z\"/>\n",
       "  </svg>\n",
       "      </button>\n",
       "      \n",
       "  <style>\n",
       "    .colab-df-container {\n",
       "      display:flex;\n",
       "      flex-wrap:wrap;\n",
       "      gap: 12px;\n",
       "    }\n",
       "\n",
       "    .colab-df-convert {\n",
       "      background-color: #E8F0FE;\n",
       "      border: none;\n",
       "      border-radius: 50%;\n",
       "      cursor: pointer;\n",
       "      display: none;\n",
       "      fill: #1967D2;\n",
       "      height: 32px;\n",
       "      padding: 0 0 0 0;\n",
       "      width: 32px;\n",
       "    }\n",
       "\n",
       "    .colab-df-convert:hover {\n",
       "      background-color: #E2EBFA;\n",
       "      box-shadow: 0px 1px 2px rgba(60, 64, 67, 0.3), 0px 1px 3px 1px rgba(60, 64, 67, 0.15);\n",
       "      fill: #174EA6;\n",
       "    }\n",
       "\n",
       "    [theme=dark] .colab-df-convert {\n",
       "      background-color: #3B4455;\n",
       "      fill: #D2E3FC;\n",
       "    }\n",
       "\n",
       "    [theme=dark] .colab-df-convert:hover {\n",
       "      background-color: #434B5C;\n",
       "      box-shadow: 0px 1px 3px 1px rgba(0, 0, 0, 0.15);\n",
       "      filter: drop-shadow(0px 1px 2px rgba(0, 0, 0, 0.3));\n",
       "      fill: #FFFFFF;\n",
       "    }\n",
       "  </style>\n",
       "\n",
       "      <script>\n",
       "        const buttonEl =\n",
       "          document.querySelector('#df-48777643-62f6-4453-af89-64cda2219068 button.colab-df-convert');\n",
       "        buttonEl.style.display =\n",
       "          google.colab.kernel.accessAllowed ? 'block' : 'none';\n",
       "\n",
       "        async function convertToInteractive(key) {\n",
       "          const element = document.querySelector('#df-48777643-62f6-4453-af89-64cda2219068');\n",
       "          const dataTable =\n",
       "            await google.colab.kernel.invokeFunction('convertToInteractive',\n",
       "                                                     [key], {});\n",
       "          if (!dataTable) return;\n",
       "\n",
       "          const docLinkHtml = 'Like what you see? Visit the ' +\n",
       "            '<a target=\"_blank\" href=https://colab.research.google.com/notebooks/data_table.ipynb>data table notebook</a>'\n",
       "            + ' to learn more about interactive tables.';\n",
       "          element.innerHTML = '';\n",
       "          dataTable['output_type'] = 'display_data';\n",
       "          await google.colab.output.renderOutput(dataTable, element);\n",
       "          const docLink = document.createElement('div');\n",
       "          docLink.innerHTML = docLinkHtml;\n",
       "          element.appendChild(docLink);\n",
       "        }\n",
       "      </script>\n",
       "    </div>\n",
       "  </div>\n",
       "  "
      ],
      "text/plain": [
       "              Name of the anime  Rating  ...  Demographics                        Age\n",
       "1925  Bleach: Sennen Kessen-hen     NaN  ...       Shounen  PG-13 - Teens 13 or older\n",
       "\n",
       "[1 rows x 11 columns]"
      ]
     },
     "execution_count": 24,
     "metadata": {},
     "output_type": "execute_result"
    }
   ],
   "source": [
    "df.loc[df['Type'] == 'Unknown']"
   ]
  },
  {
   "cell_type": "code",
   "execution_count": null,
   "metadata": {
    "id": "ED54ylpmcb0t"
   },
   "outputs": [],
   "source": [
    "df['Type'] = df['Type'].replace(['Unknown'], 'TV')"
   ]
  },
  {
   "cell_type": "code",
   "execution_count": null,
   "metadata": {
    "colab": {
     "base_uri": "https://localhost:8080/",
     "height": 35
    },
    "id": "AJ9TDKigdcqR",
    "outputId": "5ac9ce8f-9fed-492c-e858-057b67d0109e"
   },
   "outputs": [
    {
     "data": {
      "application/vnd.google.colaboratory.intrinsic+json": {
       "type": "string"
      },
      "text/plain": [
       "'TV'"
      ]
     },
     "execution_count": 26,
     "metadata": {},
     "output_type": "execute_result"
    }
   ],
   "source": [
    "df.iloc[1925]['Type']"
   ]
  },
  {
   "cell_type": "markdown",
   "metadata": {
    "id": "mOqKtYqNeOOz"
   },
   "source": [
    "### Episodes Column\n",
    "\n",
    "We will replace 'Unknown' values to the mean of this column without 'Unknown' data. To take the mean we should first extract the rows with 'Unknown' values and parse the feature to the integer and take the mean. After that we will bring the rows back and change the 'Unknown' values with the mean."
   ]
  },
  {
   "cell_type": "code",
   "execution_count": null,
   "metadata": {
    "colab": {
     "base_uri": "https://localhost:8080/"
    },
    "id": "6b9Qk5LwfCs_",
    "outputId": "e10b6966-9b46-403c-ac94-4def9e570a61"
   },
   "outputs": [
    {
     "data": {
      "text/plain": [
       "16"
      ]
     },
     "execution_count": 27,
     "metadata": {},
     "output_type": "execute_result"
    }
   ],
   "source": [
    "dfEpisodes = df.copy().loc[df['Episodes'] != 'Unknown']\n",
    "dfUnknownEpisodes = df.copy().loc[df['Episodes'] == 'Unknown']\n",
    "dfEpisodes['Episodes'] = dfEpisodes['Episodes'].apply(lambda n: int(n))\n",
    "meanEpisodes = math.floor(dfEpisodes['Episodes'].mean())\n",
    "meanEpisodes"
   ]
  },
  {
   "cell_type": "code",
   "execution_count": null,
   "metadata": {
    "colab": {
     "base_uri": "https://localhost:8080/"
    },
    "id": "lnTHwJYUhedB",
    "outputId": "8f6a96fd-8014-44a4-a02a-611fe530c61b"
   },
   "outputs": [
    {
     "data": {
      "text/plain": [
       "int"
      ]
     },
     "execution_count": 28,
     "metadata": {},
     "output_type": "execute_result"
    }
   ],
   "source": [
    "type(meanEpisodes)"
   ]
  },
  {
   "cell_type": "code",
   "execution_count": null,
   "metadata": {
    "colab": {
     "base_uri": "https://localhost:8080/",
     "height": 641
    },
    "id": "eIQvMTXZiZLt",
    "outputId": "eb119d8a-d6f3-4cca-b525-b38f9ed245d6"
   },
   "outputs": [
    {
     "data": {
      "text/html": [
       "\n",
       "  <div id=\"df-9f1223fc-b214-4d49-a41c-c25a44065bd5\">\n",
       "    <div class=\"colab-df-container\">\n",
       "      <div>\n",
       "<style scoped>\n",
       "    .dataframe tbody tr th:only-of-type {\n",
       "        vertical-align: middle;\n",
       "    }\n",
       "\n",
       "    .dataframe tbody tr th {\n",
       "        vertical-align: top;\n",
       "    }\n",
       "\n",
       "    .dataframe thead th {\n",
       "        text-align: right;\n",
       "    }\n",
       "</style>\n",
       "<table border=\"1\" class=\"dataframe\">\n",
       "  <thead>\n",
       "    <tr style=\"text-align: right;\">\n",
       "      <th></th>\n",
       "      <th>Name of the anime</th>\n",
       "      <th>Rating</th>\n",
       "      <th>Ranking</th>\n",
       "      <th>Followers</th>\n",
       "      <th>Type</th>\n",
       "      <th>Episodes</th>\n",
       "      <th>License</th>\n",
       "      <th>Study</th>\n",
       "      <th>Genre</th>\n",
       "      <th>Demographics</th>\n",
       "      <th>Age</th>\n",
       "    </tr>\n",
       "  </thead>\n",
       "  <tbody>\n",
       "    <tr>\n",
       "      <th>0</th>\n",
       "      <td>Death Note</td>\n",
       "      <td>8.63</td>\n",
       "      <td>1</td>\n",
       "      <td>3150451</td>\n",
       "      <td>TV</td>\n",
       "      <td>37</td>\n",
       "      <td>VIZ Media</td>\n",
       "      <td>Madhouse</td>\n",
       "      <td>Mystery,Supernatural,Suspense</td>\n",
       "      <td>Shounen</td>\n",
       "      <td>R - 17+ (violence &amp; profanity)</td>\n",
       "    </tr>\n",
       "    <tr>\n",
       "      <th>1</th>\n",
       "      <td>Shingeki no Kyojin</td>\n",
       "      <td>8.52</td>\n",
       "      <td>2</td>\n",
       "      <td>3136959</td>\n",
       "      <td>TV</td>\n",
       "      <td>25</td>\n",
       "      <td>Funimation</td>\n",
       "      <td>Wit Studio</td>\n",
       "      <td>Action,Drama,Fantasy,Mystery</td>\n",
       "      <td>Shounen</td>\n",
       "      <td>R - 17+ (violence &amp; profanity)</td>\n",
       "    </tr>\n",
       "    <tr>\n",
       "      <th>2</th>\n",
       "      <td>Fullmetal Alchemist: Brotherhood</td>\n",
       "      <td>9.16</td>\n",
       "      <td>3</td>\n",
       "      <td>2674846</td>\n",
       "      <td>TV</td>\n",
       "      <td>64</td>\n",
       "      <td>Funimation,Aniplex of America</td>\n",
       "      <td>Bones</td>\n",
       "      <td>Action,Adventure,Comedy,Drama,Fantasy</td>\n",
       "      <td>Shounen</td>\n",
       "      <td>R - 17+ (violence &amp; profanity)</td>\n",
       "    </tr>\n",
       "    <tr>\n",
       "      <th>3</th>\n",
       "      <td>Sword Art Online</td>\n",
       "      <td>7.21</td>\n",
       "      <td>4</td>\n",
       "      <td>2583874</td>\n",
       "      <td>TV</td>\n",
       "      <td>25</td>\n",
       "      <td>Aniplex of America</td>\n",
       "      <td>A-1 Pictures</td>\n",
       "      <td>Action,Adventure,Fantasy,Romance</td>\n",
       "      <td>NaN</td>\n",
       "      <td>PG-13 - Teens 13 or older</td>\n",
       "    </tr>\n",
       "    <tr>\n",
       "      <th>4</th>\n",
       "      <td>One Punch Man</td>\n",
       "      <td>8.52</td>\n",
       "      <td>5</td>\n",
       "      <td>2577610</td>\n",
       "      <td>TV</td>\n",
       "      <td>12</td>\n",
       "      <td>VIZ Media</td>\n",
       "      <td>Madhouse</td>\n",
       "      <td>Action,Comedy,Sci-Fi,Supernatural</td>\n",
       "      <td>NaN</td>\n",
       "      <td>R - 17+ (violence &amp; profanity)</td>\n",
       "    </tr>\n",
       "    <tr>\n",
       "      <th>...</th>\n",
       "      <td>...</td>\n",
       "      <td>...</td>\n",
       "      <td>...</td>\n",
       "      <td>...</td>\n",
       "      <td>...</td>\n",
       "      <td>...</td>\n",
       "      <td>...</td>\n",
       "      <td>...</td>\n",
       "      <td>...</td>\n",
       "      <td>...</td>\n",
       "      <td>...</td>\n",
       "    </tr>\n",
       "    <tr>\n",
       "      <th>1744</th>\n",
       "      <td>Goblin Slayer 2nd Season</td>\n",
       "      <td>NaN</td>\n",
       "      <td>1745</td>\n",
       "      <td>92642</td>\n",
       "      <td>TV</td>\n",
       "      <td>16</td>\n",
       "      <td>None found</td>\n",
       "      <td>None found</td>\n",
       "      <td>Action,Adventure,Fantasy</td>\n",
       "      <td>NaN</td>\n",
       "      <td>R - 17+ (violence &amp; profanity)</td>\n",
       "    </tr>\n",
       "    <tr>\n",
       "      <th>1776</th>\n",
       "      <td>Maou Gakuin no Futekigousha: Shijou Saikyou no...</td>\n",
       "      <td>NaN</td>\n",
       "      <td>1777</td>\n",
       "      <td>90837</td>\n",
       "      <td>TV</td>\n",
       "      <td>16</td>\n",
       "      <td>None found</td>\n",
       "      <td>SILVER LINK.</td>\n",
       "      <td>NaN</td>\n",
       "      <td>NaN</td>\n",
       "      <td>R - 17+ (violence &amp; profanity)</td>\n",
       "    </tr>\n",
       "    <tr>\n",
       "      <th>1880</th>\n",
       "      <td>Dungeon ni Deai wo Motomeru no wa Machigatteir...</td>\n",
       "      <td>NaN</td>\n",
       "      <td>1881</td>\n",
       "      <td>82464</td>\n",
       "      <td>TV</td>\n",
       "      <td>16</td>\n",
       "      <td>None found</td>\n",
       "      <td>None found</td>\n",
       "      <td>Action,Adventure,Comedy,Fantasy,Romance</td>\n",
       "      <td>NaN</td>\n",
       "      <td>PG-13 - Teens 13 or older</td>\n",
       "    </tr>\n",
       "    <tr>\n",
       "      <th>1893</th>\n",
       "      <td>Boku no Hero Academia 6th Season</td>\n",
       "      <td>NaN</td>\n",
       "      <td>1894</td>\n",
       "      <td>90132</td>\n",
       "      <td>TV</td>\n",
       "      <td>16</td>\n",
       "      <td>None found</td>\n",
       "      <td>None found</td>\n",
       "      <td>Action,Comedy</td>\n",
       "      <td>Shounen</td>\n",
       "      <td>PG-13 - Teens 13 or older</td>\n",
       "    </tr>\n",
       "    <tr>\n",
       "      <th>1925</th>\n",
       "      <td>Bleach: Sennen Kessen-hen</td>\n",
       "      <td>NaN</td>\n",
       "      <td>1926</td>\n",
       "      <td>78243</td>\n",
       "      <td>TV</td>\n",
       "      <td>16</td>\n",
       "      <td>None found</td>\n",
       "      <td>None found</td>\n",
       "      <td>Action,Adventure,Comedy,Supernatural</td>\n",
       "      <td>Shounen</td>\n",
       "      <td>PG-13 - Teens 13 or older</td>\n",
       "    </tr>\n",
       "  </tbody>\n",
       "</table>\n",
       "<p>2000 rows × 11 columns</p>\n",
       "</div>\n",
       "      <button class=\"colab-df-convert\" onclick=\"convertToInteractive('df-9f1223fc-b214-4d49-a41c-c25a44065bd5')\"\n",
       "              title=\"Convert this dataframe to an interactive table.\"\n",
       "              style=\"display:none;\">\n",
       "        \n",
       "  <svg xmlns=\"http://www.w3.org/2000/svg\" height=\"24px\"viewBox=\"0 0 24 24\"\n",
       "       width=\"24px\">\n",
       "    <path d=\"M0 0h24v24H0V0z\" fill=\"none\"/>\n",
       "    <path d=\"M18.56 5.44l.94 2.06.94-2.06 2.06-.94-2.06-.94-.94-2.06-.94 2.06-2.06.94zm-11 1L8.5 8.5l.94-2.06 2.06-.94-2.06-.94L8.5 2.5l-.94 2.06-2.06.94zm10 10l.94 2.06.94-2.06 2.06-.94-2.06-.94-.94-2.06-.94 2.06-2.06.94z\"/><path d=\"M17.41 7.96l-1.37-1.37c-.4-.4-.92-.59-1.43-.59-.52 0-1.04.2-1.43.59L10.3 9.45l-7.72 7.72c-.78.78-.78 2.05 0 2.83L4 21.41c.39.39.9.59 1.41.59.51 0 1.02-.2 1.41-.59l7.78-7.78 2.81-2.81c.8-.78.8-2.07 0-2.86zM5.41 20L4 18.59l7.72-7.72 1.47 1.35L5.41 20z\"/>\n",
       "  </svg>\n",
       "      </button>\n",
       "      \n",
       "  <style>\n",
       "    .colab-df-container {\n",
       "      display:flex;\n",
       "      flex-wrap:wrap;\n",
       "      gap: 12px;\n",
       "    }\n",
       "\n",
       "    .colab-df-convert {\n",
       "      background-color: #E8F0FE;\n",
       "      border: none;\n",
       "      border-radius: 50%;\n",
       "      cursor: pointer;\n",
       "      display: none;\n",
       "      fill: #1967D2;\n",
       "      height: 32px;\n",
       "      padding: 0 0 0 0;\n",
       "      width: 32px;\n",
       "    }\n",
       "\n",
       "    .colab-df-convert:hover {\n",
       "      background-color: #E2EBFA;\n",
       "      box-shadow: 0px 1px 2px rgba(60, 64, 67, 0.3), 0px 1px 3px 1px rgba(60, 64, 67, 0.15);\n",
       "      fill: #174EA6;\n",
       "    }\n",
       "\n",
       "    [theme=dark] .colab-df-convert {\n",
       "      background-color: #3B4455;\n",
       "      fill: #D2E3FC;\n",
       "    }\n",
       "\n",
       "    [theme=dark] .colab-df-convert:hover {\n",
       "      background-color: #434B5C;\n",
       "      box-shadow: 0px 1px 3px 1px rgba(0, 0, 0, 0.15);\n",
       "      filter: drop-shadow(0px 1px 2px rgba(0, 0, 0, 0.3));\n",
       "      fill: #FFFFFF;\n",
       "    }\n",
       "  </style>\n",
       "\n",
       "      <script>\n",
       "        const buttonEl =\n",
       "          document.querySelector('#df-9f1223fc-b214-4d49-a41c-c25a44065bd5 button.colab-df-convert');\n",
       "        buttonEl.style.display =\n",
       "          google.colab.kernel.accessAllowed ? 'block' : 'none';\n",
       "\n",
       "        async function convertToInteractive(key) {\n",
       "          const element = document.querySelector('#df-9f1223fc-b214-4d49-a41c-c25a44065bd5');\n",
       "          const dataTable =\n",
       "            await google.colab.kernel.invokeFunction('convertToInteractive',\n",
       "                                                     [key], {});\n",
       "          if (!dataTable) return;\n",
       "\n",
       "          const docLinkHtml = 'Like what you see? Visit the ' +\n",
       "            '<a target=\"_blank\" href=https://colab.research.google.com/notebooks/data_table.ipynb>data table notebook</a>'\n",
       "            + ' to learn more about interactive tables.';\n",
       "          element.innerHTML = '';\n",
       "          dataTable['output_type'] = 'display_data';\n",
       "          await google.colab.output.renderOutput(dataTable, element);\n",
       "          const docLink = document.createElement('div');\n",
       "          docLink.innerHTML = docLinkHtml;\n",
       "          element.appendChild(docLink);\n",
       "        }\n",
       "      </script>\n",
       "    </div>\n",
       "  </div>\n",
       "  "
      ],
      "text/plain": [
       "                                      Name of the anime  ...                             Age\n",
       "0                                            Death Note  ...  R - 17+ (violence & profanity)\n",
       "1                                    Shingeki no Kyojin  ...  R - 17+ (violence & profanity)\n",
       "2                      Fullmetal Alchemist: Brotherhood  ...  R - 17+ (violence & profanity)\n",
       "3                                      Sword Art Online  ...       PG-13 - Teens 13 or older\n",
       "4                                         One Punch Man  ...  R - 17+ (violence & profanity)\n",
       "...                                                 ...  ...                             ...\n",
       "1744                           Goblin Slayer 2nd Season  ...  R - 17+ (violence & profanity)\n",
       "1776  Maou Gakuin no Futekigousha: Shijou Saikyou no...  ...  R - 17+ (violence & profanity)\n",
       "1880  Dungeon ni Deai wo Motomeru no wa Machigatteir...  ...       PG-13 - Teens 13 or older\n",
       "1893                   Boku no Hero Academia 6th Season  ...       PG-13 - Teens 13 or older\n",
       "1925                          Bleach: Sennen Kessen-hen  ...       PG-13 - Teens 13 or older\n",
       "\n",
       "[2000 rows x 11 columns]"
      ]
     },
     "execution_count": 29,
     "metadata": {},
     "output_type": "execute_result"
    }
   ],
   "source": [
    "dfUnknownEpisodes['Episodes'] = dfUnknownEpisodes['Episodes'].replace(['Unknown'], meanEpisodes)\n",
    "df = pd.concat([dfEpisodes,dfUnknownEpisodes])\n",
    "df"
   ]
  },
  {
   "cell_type": "markdown",
   "metadata": {
    "id": "z6oEKUvcjnGa"
   },
   "source": [
    "### License Column\n",
    "\n",
    "We are going to create a specific dataframe for these column because this column contains multiple variables. We need to modify them.\n",
    "\n",
    "Firstly, we will use split method to seperate data with commas and put it into a dataframe. After that we will convert it to one column."
   ]
  },
  {
   "cell_type": "code",
   "execution_count": null,
   "metadata": {
    "colab": {
     "base_uri": "https://localhost:8080/",
     "height": 424
    },
    "id": "dCuB_VuqWrWt",
    "outputId": "91f4012c-3c86-41ad-c4cc-c0f551061735"
   },
   "outputs": [
    {
     "data": {
      "text/html": [
       "\n",
       "  <div id=\"df-3bb85c4a-3020-4257-a5bb-ba378cbeb0b2\">\n",
       "    <div class=\"colab-df-container\">\n",
       "      <div>\n",
       "<style scoped>\n",
       "    .dataframe tbody tr th:only-of-type {\n",
       "        vertical-align: middle;\n",
       "    }\n",
       "\n",
       "    .dataframe tbody tr th {\n",
       "        vertical-align: top;\n",
       "    }\n",
       "\n",
       "    .dataframe thead th {\n",
       "        text-align: right;\n",
       "    }\n",
       "</style>\n",
       "<table border=\"1\" class=\"dataframe\">\n",
       "  <thead>\n",
       "    <tr style=\"text-align: right;\">\n",
       "      <th></th>\n",
       "      <th>0</th>\n",
       "      <th>1</th>\n",
       "      <th>2</th>\n",
       "      <th>3</th>\n",
       "      <th>Name of the anime</th>\n",
       "      <th>Rating</th>\n",
       "      <th>Followers</th>\n",
       "      <th>Episodes</th>\n",
       "      <th>Ranking</th>\n",
       "    </tr>\n",
       "  </thead>\n",
       "  <tbody>\n",
       "    <tr>\n",
       "      <th>0</th>\n",
       "      <td>VIZ Media</td>\n",
       "      <td>None</td>\n",
       "      <td>None</td>\n",
       "      <td>None</td>\n",
       "      <td>Death Note</td>\n",
       "      <td>8.63</td>\n",
       "      <td>3150451</td>\n",
       "      <td>37</td>\n",
       "      <td>1</td>\n",
       "    </tr>\n",
       "    <tr>\n",
       "      <th>1</th>\n",
       "      <td>Funimation</td>\n",
       "      <td>None</td>\n",
       "      <td>None</td>\n",
       "      <td>None</td>\n",
       "      <td>Shingeki no Kyojin</td>\n",
       "      <td>8.52</td>\n",
       "      <td>3136959</td>\n",
       "      <td>25</td>\n",
       "      <td>2</td>\n",
       "    </tr>\n",
       "    <tr>\n",
       "      <th>2</th>\n",
       "      <td>Funimation</td>\n",
       "      <td>Aniplex of America</td>\n",
       "      <td>None</td>\n",
       "      <td>None</td>\n",
       "      <td>Fullmetal Alchemist: Brotherhood</td>\n",
       "      <td>9.16</td>\n",
       "      <td>2674846</td>\n",
       "      <td>64</td>\n",
       "      <td>3</td>\n",
       "    </tr>\n",
       "    <tr>\n",
       "      <th>3</th>\n",
       "      <td>Aniplex of America</td>\n",
       "      <td>None</td>\n",
       "      <td>None</td>\n",
       "      <td>None</td>\n",
       "      <td>Sword Art Online</td>\n",
       "      <td>7.21</td>\n",
       "      <td>2583874</td>\n",
       "      <td>25</td>\n",
       "      <td>4</td>\n",
       "    </tr>\n",
       "    <tr>\n",
       "      <th>4</th>\n",
       "      <td>VIZ Media</td>\n",
       "      <td>None</td>\n",
       "      <td>None</td>\n",
       "      <td>None</td>\n",
       "      <td>One Punch Man</td>\n",
       "      <td>8.52</td>\n",
       "      <td>2577610</td>\n",
       "      <td>12</td>\n",
       "      <td>5</td>\n",
       "    </tr>\n",
       "    <tr>\n",
       "      <th>...</th>\n",
       "      <td>...</td>\n",
       "      <td>...</td>\n",
       "      <td>...</td>\n",
       "      <td>...</td>\n",
       "      <td>...</td>\n",
       "      <td>...</td>\n",
       "      <td>...</td>\n",
       "      <td>...</td>\n",
       "      <td>...</td>\n",
       "    </tr>\n",
       "    <tr>\n",
       "      <th>1744</th>\n",
       "      <td>None found</td>\n",
       "      <td>None</td>\n",
       "      <td>None</td>\n",
       "      <td>None</td>\n",
       "      <td>Goblin Slayer 2nd Season</td>\n",
       "      <td>NaN</td>\n",
       "      <td>92642</td>\n",
       "      <td>16</td>\n",
       "      <td>1745</td>\n",
       "    </tr>\n",
       "    <tr>\n",
       "      <th>1776</th>\n",
       "      <td>None found</td>\n",
       "      <td>None</td>\n",
       "      <td>None</td>\n",
       "      <td>None</td>\n",
       "      <td>Maou Gakuin no Futekigousha: Shijou Saikyou no...</td>\n",
       "      <td>NaN</td>\n",
       "      <td>90837</td>\n",
       "      <td>16</td>\n",
       "      <td>1777</td>\n",
       "    </tr>\n",
       "    <tr>\n",
       "      <th>1880</th>\n",
       "      <td>None found</td>\n",
       "      <td>None</td>\n",
       "      <td>None</td>\n",
       "      <td>None</td>\n",
       "      <td>Dungeon ni Deai wo Motomeru no wa Machigatteir...</td>\n",
       "      <td>NaN</td>\n",
       "      <td>82464</td>\n",
       "      <td>16</td>\n",
       "      <td>1881</td>\n",
       "    </tr>\n",
       "    <tr>\n",
       "      <th>1893</th>\n",
       "      <td>None found</td>\n",
       "      <td>None</td>\n",
       "      <td>None</td>\n",
       "      <td>None</td>\n",
       "      <td>Boku no Hero Academia 6th Season</td>\n",
       "      <td>NaN</td>\n",
       "      <td>90132</td>\n",
       "      <td>16</td>\n",
       "      <td>1894</td>\n",
       "    </tr>\n",
       "    <tr>\n",
       "      <th>1925</th>\n",
       "      <td>None found</td>\n",
       "      <td>None</td>\n",
       "      <td>None</td>\n",
       "      <td>None</td>\n",
       "      <td>Bleach: Sennen Kessen-hen</td>\n",
       "      <td>NaN</td>\n",
       "      <td>78243</td>\n",
       "      <td>16</td>\n",
       "      <td>1926</td>\n",
       "    </tr>\n",
       "  </tbody>\n",
       "</table>\n",
       "<p>2000 rows × 9 columns</p>\n",
       "</div>\n",
       "      <button class=\"colab-df-convert\" onclick=\"convertToInteractive('df-3bb85c4a-3020-4257-a5bb-ba378cbeb0b2')\"\n",
       "              title=\"Convert this dataframe to an interactive table.\"\n",
       "              style=\"display:none;\">\n",
       "        \n",
       "  <svg xmlns=\"http://www.w3.org/2000/svg\" height=\"24px\"viewBox=\"0 0 24 24\"\n",
       "       width=\"24px\">\n",
       "    <path d=\"M0 0h24v24H0V0z\" fill=\"none\"/>\n",
       "    <path d=\"M18.56 5.44l.94 2.06.94-2.06 2.06-.94-2.06-.94-.94-2.06-.94 2.06-2.06.94zm-11 1L8.5 8.5l.94-2.06 2.06-.94-2.06-.94L8.5 2.5l-.94 2.06-2.06.94zm10 10l.94 2.06.94-2.06 2.06-.94-2.06-.94-.94-2.06-.94 2.06-2.06.94z\"/><path d=\"M17.41 7.96l-1.37-1.37c-.4-.4-.92-.59-1.43-.59-.52 0-1.04.2-1.43.59L10.3 9.45l-7.72 7.72c-.78.78-.78 2.05 0 2.83L4 21.41c.39.39.9.59 1.41.59.51 0 1.02-.2 1.41-.59l7.78-7.78 2.81-2.81c.8-.78.8-2.07 0-2.86zM5.41 20L4 18.59l7.72-7.72 1.47 1.35L5.41 20z\"/>\n",
       "  </svg>\n",
       "      </button>\n",
       "      \n",
       "  <style>\n",
       "    .colab-df-container {\n",
       "      display:flex;\n",
       "      flex-wrap:wrap;\n",
       "      gap: 12px;\n",
       "    }\n",
       "\n",
       "    .colab-df-convert {\n",
       "      background-color: #E8F0FE;\n",
       "      border: none;\n",
       "      border-radius: 50%;\n",
       "      cursor: pointer;\n",
       "      display: none;\n",
       "      fill: #1967D2;\n",
       "      height: 32px;\n",
       "      padding: 0 0 0 0;\n",
       "      width: 32px;\n",
       "    }\n",
       "\n",
       "    .colab-df-convert:hover {\n",
       "      background-color: #E2EBFA;\n",
       "      box-shadow: 0px 1px 2px rgba(60, 64, 67, 0.3), 0px 1px 3px 1px rgba(60, 64, 67, 0.15);\n",
       "      fill: #174EA6;\n",
       "    }\n",
       "\n",
       "    [theme=dark] .colab-df-convert {\n",
       "      background-color: #3B4455;\n",
       "      fill: #D2E3FC;\n",
       "    }\n",
       "\n",
       "    [theme=dark] .colab-df-convert:hover {\n",
       "      background-color: #434B5C;\n",
       "      box-shadow: 0px 1px 3px 1px rgba(0, 0, 0, 0.15);\n",
       "      filter: drop-shadow(0px 1px 2px rgba(0, 0, 0, 0.3));\n",
       "      fill: #FFFFFF;\n",
       "    }\n",
       "  </style>\n",
       "\n",
       "      <script>\n",
       "        const buttonEl =\n",
       "          document.querySelector('#df-3bb85c4a-3020-4257-a5bb-ba378cbeb0b2 button.colab-df-convert');\n",
       "        buttonEl.style.display =\n",
       "          google.colab.kernel.accessAllowed ? 'block' : 'none';\n",
       "\n",
       "        async function convertToInteractive(key) {\n",
       "          const element = document.querySelector('#df-3bb85c4a-3020-4257-a5bb-ba378cbeb0b2');\n",
       "          const dataTable =\n",
       "            await google.colab.kernel.invokeFunction('convertToInteractive',\n",
       "                                                     [key], {});\n",
       "          if (!dataTable) return;\n",
       "\n",
       "          const docLinkHtml = 'Like what you see? Visit the ' +\n",
       "            '<a target=\"_blank\" href=https://colab.research.google.com/notebooks/data_table.ipynb>data table notebook</a>'\n",
       "            + ' to learn more about interactive tables.';\n",
       "          element.innerHTML = '';\n",
       "          dataTable['output_type'] = 'display_data';\n",
       "          await google.colab.output.renderOutput(dataTable, element);\n",
       "          const docLink = document.createElement('div');\n",
       "          docLink.innerHTML = docLinkHtml;\n",
       "          element.appendChild(docLink);\n",
       "        }\n",
       "      </script>\n",
       "    </div>\n",
       "  </div>\n",
       "  "
      ],
      "text/plain": [
       "                       0                   1  ... Episodes Ranking\n",
       "0              VIZ Media                None  ...       37       1\n",
       "1             Funimation                None  ...       25       2\n",
       "2             Funimation  Aniplex of America  ...       64       3\n",
       "3     Aniplex of America                None  ...       25       4\n",
       "4              VIZ Media                None  ...       12       5\n",
       "...                  ...                 ...  ...      ...     ...\n",
       "1744          None found                None  ...       16    1745\n",
       "1776          None found                None  ...       16    1777\n",
       "1880          None found                None  ...       16    1881\n",
       "1893          None found                None  ...       16    1894\n",
       "1925          None found                None  ...       16    1926\n",
       "\n",
       "[2000 rows x 9 columns]"
      ]
     },
     "execution_count": 30,
     "metadata": {},
     "output_type": "execute_result"
    }
   ],
   "source": [
    "dfLicense = df['License'].str.split(',', expand=True)\n",
    "dfLicense[['Name of the anime','Rating', 'Followers', 'Episodes','Ranking']] = df[['Name of the anime','Rating', 'Followers', 'Episodes','Ranking']]\n",
    "dfLicense"
   ]
  },
  {
   "cell_type": "markdown",
   "metadata": {
    "id": "wXzSoZFBaXGv"
   },
   "source": [
    "0,1,2 and 3 columns are licenses. We will melt them into one column."
   ]
  },
  {
   "cell_type": "code",
   "execution_count": null,
   "metadata": {
    "id": "Eg-I0lEjW4l3"
   },
   "outputs": [],
   "source": [
    "meltedLicense = pd.melt(dfLicense, id_vars=('Name of the anime','Rating','Followers','Episodes','Ranking'))\n",
    "meltedLicense = meltedLicense.dropna(subset=['value'], how='any').drop(['variable'], axis=1)\n",
    "meltedLicense = meltedLicense.rename(columns={\"value\": \"License\"})"
   ]
  },
  {
   "cell_type": "code",
   "execution_count": null,
   "metadata": {
    "colab": {
     "base_uri": "https://localhost:8080/",
     "height": 143
    },
    "id": "Ivlff83tXHWe",
    "outputId": "18c46322-e942-4f67-c7a8-3dd6bfcf7190"
   },
   "outputs": [
    {
     "data": {
      "text/html": [
       "\n",
       "  <div id=\"df-1bfa7ed9-7baf-41fd-9b36-cff327427c7f\">\n",
       "    <div class=\"colab-df-container\">\n",
       "      <div>\n",
       "<style scoped>\n",
       "    .dataframe tbody tr th:only-of-type {\n",
       "        vertical-align: middle;\n",
       "    }\n",
       "\n",
       "    .dataframe tbody tr th {\n",
       "        vertical-align: top;\n",
       "    }\n",
       "\n",
       "    .dataframe thead th {\n",
       "        text-align: right;\n",
       "    }\n",
       "</style>\n",
       "<table border=\"1\" class=\"dataframe\">\n",
       "  <thead>\n",
       "    <tr style=\"text-align: right;\">\n",
       "      <th></th>\n",
       "      <th>Name of the anime</th>\n",
       "      <th>Rating</th>\n",
       "      <th>Followers</th>\n",
       "      <th>Episodes</th>\n",
       "      <th>Ranking</th>\n",
       "      <th>License</th>\n",
       "    </tr>\n",
       "  </thead>\n",
       "  <tbody>\n",
       "    <tr>\n",
       "      <th>142</th>\n",
       "      <td>Suzumiya Haruhi no Yuuutsu</td>\n",
       "      <td>7.85</td>\n",
       "      <td>810769</td>\n",
       "      <td>14</td>\n",
       "      <td>144</td>\n",
       "      <td>Funimation</td>\n",
       "    </tr>\n",
       "    <tr>\n",
       "      <th>2142</th>\n",
       "      <td>Suzumiya Haruhi no Yuuutsu</td>\n",
       "      <td>7.85</td>\n",
       "      <td>810769</td>\n",
       "      <td>14</td>\n",
       "      <td>144</td>\n",
       "      <td>Bandai Entertainment</td>\n",
       "    </tr>\n",
       "    <tr>\n",
       "      <th>4142</th>\n",
       "      <td>Suzumiya Haruhi no Yuuutsu</td>\n",
       "      <td>7.85</td>\n",
       "      <td>810769</td>\n",
       "      <td>14</td>\n",
       "      <td>144</td>\n",
       "      <td>Kadokawa Pictures USA</td>\n",
       "    </tr>\n",
       "  </tbody>\n",
       "</table>\n",
       "</div>\n",
       "      <button class=\"colab-df-convert\" onclick=\"convertToInteractive('df-1bfa7ed9-7baf-41fd-9b36-cff327427c7f')\"\n",
       "              title=\"Convert this dataframe to an interactive table.\"\n",
       "              style=\"display:none;\">\n",
       "        \n",
       "  <svg xmlns=\"http://www.w3.org/2000/svg\" height=\"24px\"viewBox=\"0 0 24 24\"\n",
       "       width=\"24px\">\n",
       "    <path d=\"M0 0h24v24H0V0z\" fill=\"none\"/>\n",
       "    <path d=\"M18.56 5.44l.94 2.06.94-2.06 2.06-.94-2.06-.94-.94-2.06-.94 2.06-2.06.94zm-11 1L8.5 8.5l.94-2.06 2.06-.94-2.06-.94L8.5 2.5l-.94 2.06-2.06.94zm10 10l.94 2.06.94-2.06 2.06-.94-2.06-.94-.94-2.06-.94 2.06-2.06.94z\"/><path d=\"M17.41 7.96l-1.37-1.37c-.4-.4-.92-.59-1.43-.59-.52 0-1.04.2-1.43.59L10.3 9.45l-7.72 7.72c-.78.78-.78 2.05 0 2.83L4 21.41c.39.39.9.59 1.41.59.51 0 1.02-.2 1.41-.59l7.78-7.78 2.81-2.81c.8-.78.8-2.07 0-2.86zM5.41 20L4 18.59l7.72-7.72 1.47 1.35L5.41 20z\"/>\n",
       "  </svg>\n",
       "      </button>\n",
       "      \n",
       "  <style>\n",
       "    .colab-df-container {\n",
       "      display:flex;\n",
       "      flex-wrap:wrap;\n",
       "      gap: 12px;\n",
       "    }\n",
       "\n",
       "    .colab-df-convert {\n",
       "      background-color: #E8F0FE;\n",
       "      border: none;\n",
       "      border-radius: 50%;\n",
       "      cursor: pointer;\n",
       "      display: none;\n",
       "      fill: #1967D2;\n",
       "      height: 32px;\n",
       "      padding: 0 0 0 0;\n",
       "      width: 32px;\n",
       "    }\n",
       "\n",
       "    .colab-df-convert:hover {\n",
       "      background-color: #E2EBFA;\n",
       "      box-shadow: 0px 1px 2px rgba(60, 64, 67, 0.3), 0px 1px 3px 1px rgba(60, 64, 67, 0.15);\n",
       "      fill: #174EA6;\n",
       "    }\n",
       "\n",
       "    [theme=dark] .colab-df-convert {\n",
       "      background-color: #3B4455;\n",
       "      fill: #D2E3FC;\n",
       "    }\n",
       "\n",
       "    [theme=dark] .colab-df-convert:hover {\n",
       "      background-color: #434B5C;\n",
       "      box-shadow: 0px 1px 3px 1px rgba(0, 0, 0, 0.15);\n",
       "      filter: drop-shadow(0px 1px 2px rgba(0, 0, 0, 0.3));\n",
       "      fill: #FFFFFF;\n",
       "    }\n",
       "  </style>\n",
       "\n",
       "      <script>\n",
       "        const buttonEl =\n",
       "          document.querySelector('#df-1bfa7ed9-7baf-41fd-9b36-cff327427c7f button.colab-df-convert');\n",
       "        buttonEl.style.display =\n",
       "          google.colab.kernel.accessAllowed ? 'block' : 'none';\n",
       "\n",
       "        async function convertToInteractive(key) {\n",
       "          const element = document.querySelector('#df-1bfa7ed9-7baf-41fd-9b36-cff327427c7f');\n",
       "          const dataTable =\n",
       "            await google.colab.kernel.invokeFunction('convertToInteractive',\n",
       "                                                     [key], {});\n",
       "          if (!dataTable) return;\n",
       "\n",
       "          const docLinkHtml = 'Like what you see? Visit the ' +\n",
       "            '<a target=\"_blank\" href=https://colab.research.google.com/notebooks/data_table.ipynb>data table notebook</a>'\n",
       "            + ' to learn more about interactive tables.';\n",
       "          element.innerHTML = '';\n",
       "          dataTable['output_type'] = 'display_data';\n",
       "          await google.colab.output.renderOutput(dataTable, element);\n",
       "          const docLink = document.createElement('div');\n",
       "          docLink.innerHTML = docLinkHtml;\n",
       "          element.appendChild(docLink);\n",
       "        }\n",
       "      </script>\n",
       "    </div>\n",
       "  </div>\n",
       "  "
      ],
      "text/plain": [
       "               Name of the anime  Rating  ...  Ranking                License\n",
       "142   Suzumiya Haruhi no Yuuutsu    7.85  ...      144             Funimation\n",
       "2142  Suzumiya Haruhi no Yuuutsu    7.85  ...      144   Bandai Entertainment\n",
       "4142  Suzumiya Haruhi no Yuuutsu    7.85  ...      144  Kadokawa Pictures USA\n",
       "\n",
       "[3 rows x 6 columns]"
      ]
     },
     "execution_count": 32,
     "metadata": {},
     "output_type": "execute_result"
    }
   ],
   "source": [
    "meltedLicense.loc[meltedLicense['Ranking'] == 144]"
   ]
  },
  {
   "cell_type": "markdown",
   "metadata": {
    "id": "MtmfGl2oahe4"
   },
   "source": [
    "By using this dataframe we can count genres or make visualizations."
   ]
  },
  {
   "cell_type": "markdown",
   "metadata": {
    "id": "cHPYI8hvYJIL"
   },
   "source": [
    "### Study Column\n",
    "\n",
    "We are going to use same logic with License column."
   ]
  },
  {
   "cell_type": "code",
   "execution_count": null,
   "metadata": {
    "colab": {
     "base_uri": "https://localhost:8080/",
     "height": 424
    },
    "id": "UVf2s-3uYPIT",
    "outputId": "27e6d311-81cf-4922-c95b-eb7d82ef7da8"
   },
   "outputs": [
    {
     "data": {
      "text/html": [
       "\n",
       "  <div id=\"df-31d4c1a5-b375-4b77-984a-7b09e1eb91a9\">\n",
       "    <div class=\"colab-df-container\">\n",
       "      <div>\n",
       "<style scoped>\n",
       "    .dataframe tbody tr th:only-of-type {\n",
       "        vertical-align: middle;\n",
       "    }\n",
       "\n",
       "    .dataframe tbody tr th {\n",
       "        vertical-align: top;\n",
       "    }\n",
       "\n",
       "    .dataframe thead th {\n",
       "        text-align: right;\n",
       "    }\n",
       "</style>\n",
       "<table border=\"1\" class=\"dataframe\">\n",
       "  <thead>\n",
       "    <tr style=\"text-align: right;\">\n",
       "      <th></th>\n",
       "      <th>0</th>\n",
       "      <th>1</th>\n",
       "      <th>2</th>\n",
       "      <th>Name of the anime</th>\n",
       "      <th>Rating</th>\n",
       "      <th>Followers</th>\n",
       "      <th>Episodes</th>\n",
       "      <th>Ranking</th>\n",
       "    </tr>\n",
       "  </thead>\n",
       "  <tbody>\n",
       "    <tr>\n",
       "      <th>0</th>\n",
       "      <td>Madhouse</td>\n",
       "      <td>None</td>\n",
       "      <td>None</td>\n",
       "      <td>Death Note</td>\n",
       "      <td>8.63</td>\n",
       "      <td>3150451</td>\n",
       "      <td>37</td>\n",
       "      <td>1</td>\n",
       "    </tr>\n",
       "    <tr>\n",
       "      <th>1</th>\n",
       "      <td>Wit Studio</td>\n",
       "      <td>None</td>\n",
       "      <td>None</td>\n",
       "      <td>Shingeki no Kyojin</td>\n",
       "      <td>8.52</td>\n",
       "      <td>3136959</td>\n",
       "      <td>25</td>\n",
       "      <td>2</td>\n",
       "    </tr>\n",
       "    <tr>\n",
       "      <th>2</th>\n",
       "      <td>Bones</td>\n",
       "      <td>None</td>\n",
       "      <td>None</td>\n",
       "      <td>Fullmetal Alchemist: Brotherhood</td>\n",
       "      <td>9.16</td>\n",
       "      <td>2674846</td>\n",
       "      <td>64</td>\n",
       "      <td>3</td>\n",
       "    </tr>\n",
       "    <tr>\n",
       "      <th>3</th>\n",
       "      <td>A-1 Pictures</td>\n",
       "      <td>None</td>\n",
       "      <td>None</td>\n",
       "      <td>Sword Art Online</td>\n",
       "      <td>7.21</td>\n",
       "      <td>2583874</td>\n",
       "      <td>25</td>\n",
       "      <td>4</td>\n",
       "    </tr>\n",
       "    <tr>\n",
       "      <th>4</th>\n",
       "      <td>Madhouse</td>\n",
       "      <td>None</td>\n",
       "      <td>None</td>\n",
       "      <td>One Punch Man</td>\n",
       "      <td>8.52</td>\n",
       "      <td>2577610</td>\n",
       "      <td>12</td>\n",
       "      <td>5</td>\n",
       "    </tr>\n",
       "    <tr>\n",
       "      <th>...</th>\n",
       "      <td>...</td>\n",
       "      <td>...</td>\n",
       "      <td>...</td>\n",
       "      <td>...</td>\n",
       "      <td>...</td>\n",
       "      <td>...</td>\n",
       "      <td>...</td>\n",
       "      <td>...</td>\n",
       "    </tr>\n",
       "    <tr>\n",
       "      <th>1744</th>\n",
       "      <td>None found</td>\n",
       "      <td>None</td>\n",
       "      <td>None</td>\n",
       "      <td>Goblin Slayer 2nd Season</td>\n",
       "      <td>NaN</td>\n",
       "      <td>92642</td>\n",
       "      <td>16</td>\n",
       "      <td>1745</td>\n",
       "    </tr>\n",
       "    <tr>\n",
       "      <th>1776</th>\n",
       "      <td>SILVER LINK.</td>\n",
       "      <td>None</td>\n",
       "      <td>None</td>\n",
       "      <td>Maou Gakuin no Futekigousha: Shijou Saikyou no...</td>\n",
       "      <td>NaN</td>\n",
       "      <td>90837</td>\n",
       "      <td>16</td>\n",
       "      <td>1777</td>\n",
       "    </tr>\n",
       "    <tr>\n",
       "      <th>1880</th>\n",
       "      <td>None found</td>\n",
       "      <td>None</td>\n",
       "      <td>None</td>\n",
       "      <td>Dungeon ni Deai wo Motomeru no wa Machigatteir...</td>\n",
       "      <td>NaN</td>\n",
       "      <td>82464</td>\n",
       "      <td>16</td>\n",
       "      <td>1881</td>\n",
       "    </tr>\n",
       "    <tr>\n",
       "      <th>1893</th>\n",
       "      <td>None found</td>\n",
       "      <td>None</td>\n",
       "      <td>None</td>\n",
       "      <td>Boku no Hero Academia 6th Season</td>\n",
       "      <td>NaN</td>\n",
       "      <td>90132</td>\n",
       "      <td>16</td>\n",
       "      <td>1894</td>\n",
       "    </tr>\n",
       "    <tr>\n",
       "      <th>1925</th>\n",
       "      <td>None found</td>\n",
       "      <td>None</td>\n",
       "      <td>None</td>\n",
       "      <td>Bleach: Sennen Kessen-hen</td>\n",
       "      <td>NaN</td>\n",
       "      <td>78243</td>\n",
       "      <td>16</td>\n",
       "      <td>1926</td>\n",
       "    </tr>\n",
       "  </tbody>\n",
       "</table>\n",
       "<p>2000 rows × 8 columns</p>\n",
       "</div>\n",
       "      <button class=\"colab-df-convert\" onclick=\"convertToInteractive('df-31d4c1a5-b375-4b77-984a-7b09e1eb91a9')\"\n",
       "              title=\"Convert this dataframe to an interactive table.\"\n",
       "              style=\"display:none;\">\n",
       "        \n",
       "  <svg xmlns=\"http://www.w3.org/2000/svg\" height=\"24px\"viewBox=\"0 0 24 24\"\n",
       "       width=\"24px\">\n",
       "    <path d=\"M0 0h24v24H0V0z\" fill=\"none\"/>\n",
       "    <path d=\"M18.56 5.44l.94 2.06.94-2.06 2.06-.94-2.06-.94-.94-2.06-.94 2.06-2.06.94zm-11 1L8.5 8.5l.94-2.06 2.06-.94-2.06-.94L8.5 2.5l-.94 2.06-2.06.94zm10 10l.94 2.06.94-2.06 2.06-.94-2.06-.94-.94-2.06-.94 2.06-2.06.94z\"/><path d=\"M17.41 7.96l-1.37-1.37c-.4-.4-.92-.59-1.43-.59-.52 0-1.04.2-1.43.59L10.3 9.45l-7.72 7.72c-.78.78-.78 2.05 0 2.83L4 21.41c.39.39.9.59 1.41.59.51 0 1.02-.2 1.41-.59l7.78-7.78 2.81-2.81c.8-.78.8-2.07 0-2.86zM5.41 20L4 18.59l7.72-7.72 1.47 1.35L5.41 20z\"/>\n",
       "  </svg>\n",
       "      </button>\n",
       "      \n",
       "  <style>\n",
       "    .colab-df-container {\n",
       "      display:flex;\n",
       "      flex-wrap:wrap;\n",
       "      gap: 12px;\n",
       "    }\n",
       "\n",
       "    .colab-df-convert {\n",
       "      background-color: #E8F0FE;\n",
       "      border: none;\n",
       "      border-radius: 50%;\n",
       "      cursor: pointer;\n",
       "      display: none;\n",
       "      fill: #1967D2;\n",
       "      height: 32px;\n",
       "      padding: 0 0 0 0;\n",
       "      width: 32px;\n",
       "    }\n",
       "\n",
       "    .colab-df-convert:hover {\n",
       "      background-color: #E2EBFA;\n",
       "      box-shadow: 0px 1px 2px rgba(60, 64, 67, 0.3), 0px 1px 3px 1px rgba(60, 64, 67, 0.15);\n",
       "      fill: #174EA6;\n",
       "    }\n",
       "\n",
       "    [theme=dark] .colab-df-convert {\n",
       "      background-color: #3B4455;\n",
       "      fill: #D2E3FC;\n",
       "    }\n",
       "\n",
       "    [theme=dark] .colab-df-convert:hover {\n",
       "      background-color: #434B5C;\n",
       "      box-shadow: 0px 1px 3px 1px rgba(0, 0, 0, 0.15);\n",
       "      filter: drop-shadow(0px 1px 2px rgba(0, 0, 0, 0.3));\n",
       "      fill: #FFFFFF;\n",
       "    }\n",
       "  </style>\n",
       "\n",
       "      <script>\n",
       "        const buttonEl =\n",
       "          document.querySelector('#df-31d4c1a5-b375-4b77-984a-7b09e1eb91a9 button.colab-df-convert');\n",
       "        buttonEl.style.display =\n",
       "          google.colab.kernel.accessAllowed ? 'block' : 'none';\n",
       "\n",
       "        async function convertToInteractive(key) {\n",
       "          const element = document.querySelector('#df-31d4c1a5-b375-4b77-984a-7b09e1eb91a9');\n",
       "          const dataTable =\n",
       "            await google.colab.kernel.invokeFunction('convertToInteractive',\n",
       "                                                     [key], {});\n",
       "          if (!dataTable) return;\n",
       "\n",
       "          const docLinkHtml = 'Like what you see? Visit the ' +\n",
       "            '<a target=\"_blank\" href=https://colab.research.google.com/notebooks/data_table.ipynb>data table notebook</a>'\n",
       "            + ' to learn more about interactive tables.';\n",
       "          element.innerHTML = '';\n",
       "          dataTable['output_type'] = 'display_data';\n",
       "          await google.colab.output.renderOutput(dataTable, element);\n",
       "          const docLink = document.createElement('div');\n",
       "          docLink.innerHTML = docLinkHtml;\n",
       "          element.appendChild(docLink);\n",
       "        }\n",
       "      </script>\n",
       "    </div>\n",
       "  </div>\n",
       "  "
      ],
      "text/plain": [
       "                 0     1     2  ... Followers  Episodes  Ranking\n",
       "0         Madhouse  None  None  ...   3150451        37        1\n",
       "1       Wit Studio  None  None  ...   3136959        25        2\n",
       "2            Bones  None  None  ...   2674846        64        3\n",
       "3     A-1 Pictures  None  None  ...   2583874        25        4\n",
       "4         Madhouse  None  None  ...   2577610        12        5\n",
       "...            ...   ...   ...  ...       ...       ...      ...\n",
       "1744    None found  None  None  ...     92642        16     1745\n",
       "1776  SILVER LINK.  None  None  ...     90837        16     1777\n",
       "1880    None found  None  None  ...     82464        16     1881\n",
       "1893    None found  None  None  ...     90132        16     1894\n",
       "1925    None found  None  None  ...     78243        16     1926\n",
       "\n",
       "[2000 rows x 8 columns]"
      ]
     },
     "execution_count": 34,
     "metadata": {},
     "output_type": "execute_result"
    }
   ],
   "source": [
    "dfStudy = df['Study'].str.split(',', expand=True)\n",
    "dfStudy[['Name of the anime','Rating', 'Followers', 'Episodes','Ranking']] = df[['Name of the anime','Rating', 'Followers', 'Episodes','Ranking']]\n",
    "dfStudy"
   ]
  },
  {
   "cell_type": "code",
   "execution_count": null,
   "metadata": {
    "colab": {
     "base_uri": "https://localhost:8080/",
     "height": 424
    },
    "id": "TKPdbLdeYbH5",
    "outputId": "22a65843-9a5e-49d9-b375-20492f20a946"
   },
   "outputs": [
    {
     "data": {
      "text/html": [
       "\n",
       "  <div id=\"df-fa572ebb-2b1d-4a35-babb-4c5aef2176d5\">\n",
       "    <div class=\"colab-df-container\">\n",
       "      <div>\n",
       "<style scoped>\n",
       "    .dataframe tbody tr th:only-of-type {\n",
       "        vertical-align: middle;\n",
       "    }\n",
       "\n",
       "    .dataframe tbody tr th {\n",
       "        vertical-align: top;\n",
       "    }\n",
       "\n",
       "    .dataframe thead th {\n",
       "        text-align: right;\n",
       "    }\n",
       "</style>\n",
       "<table border=\"1\" class=\"dataframe\">\n",
       "  <thead>\n",
       "    <tr style=\"text-align: right;\">\n",
       "      <th></th>\n",
       "      <th>Name of the anime</th>\n",
       "      <th>Rating</th>\n",
       "      <th>Followers</th>\n",
       "      <th>Episodes</th>\n",
       "      <th>Ranking</th>\n",
       "      <th>Study</th>\n",
       "    </tr>\n",
       "  </thead>\n",
       "  <tbody>\n",
       "    <tr>\n",
       "      <th>0</th>\n",
       "      <td>Death Note</td>\n",
       "      <td>8.63</td>\n",
       "      <td>3150451</td>\n",
       "      <td>37</td>\n",
       "      <td>1</td>\n",
       "      <td>Madhouse</td>\n",
       "    </tr>\n",
       "    <tr>\n",
       "      <th>1</th>\n",
       "      <td>Shingeki no Kyojin</td>\n",
       "      <td>8.52</td>\n",
       "      <td>3136959</td>\n",
       "      <td>25</td>\n",
       "      <td>2</td>\n",
       "      <td>Wit Studio</td>\n",
       "    </tr>\n",
       "    <tr>\n",
       "      <th>2</th>\n",
       "      <td>Fullmetal Alchemist: Brotherhood</td>\n",
       "      <td>9.16</td>\n",
       "      <td>2674846</td>\n",
       "      <td>64</td>\n",
       "      <td>3</td>\n",
       "      <td>Bones</td>\n",
       "    </tr>\n",
       "    <tr>\n",
       "      <th>3</th>\n",
       "      <td>Sword Art Online</td>\n",
       "      <td>7.21</td>\n",
       "      <td>2583874</td>\n",
       "      <td>25</td>\n",
       "      <td>4</td>\n",
       "      <td>A-1 Pictures</td>\n",
       "    </tr>\n",
       "    <tr>\n",
       "      <th>4</th>\n",
       "      <td>One Punch Man</td>\n",
       "      <td>8.52</td>\n",
       "      <td>2577610</td>\n",
       "      <td>12</td>\n",
       "      <td>5</td>\n",
       "      <td>Madhouse</td>\n",
       "    </tr>\n",
       "    <tr>\n",
       "      <th>...</th>\n",
       "      <td>...</td>\n",
       "      <td>...</td>\n",
       "      <td>...</td>\n",
       "      <td>...</td>\n",
       "      <td>...</td>\n",
       "      <td>...</td>\n",
       "    </tr>\n",
       "    <tr>\n",
       "      <th>5702</th>\n",
       "      <td>Hori-san to Miyamura-kun</td>\n",
       "      <td>7.38</td>\n",
       "      <td>92147</td>\n",
       "      <td>6</td>\n",
       "      <td>1723</td>\n",
       "      <td>Marone</td>\n",
       "    </tr>\n",
       "    <tr>\n",
       "      <th>5741</th>\n",
       "      <td>Quanzhi Gaoshou Specials</td>\n",
       "      <td>8.27</td>\n",
       "      <td>89727</td>\n",
       "      <td>3</td>\n",
       "      <td>1763</td>\n",
       "      <td>Colored Pencil Animation</td>\n",
       "    </tr>\n",
       "    <tr>\n",
       "      <th>5840</th>\n",
       "      <td>Strike the Blood: Valkyria no Oukoku-hen</td>\n",
       "      <td>7.27</td>\n",
       "      <td>82052</td>\n",
       "      <td>2</td>\n",
       "      <td>1863</td>\n",
       "      <td>Connect</td>\n",
       "    </tr>\n",
       "    <tr>\n",
       "      <th>5846</th>\n",
       "      <td>FLCL Alternative</td>\n",
       "      <td>6.55</td>\n",
       "      <td>81849</td>\n",
       "      <td>1</td>\n",
       "      <td>1869</td>\n",
       "      <td>Revoroot</td>\n",
       "    </tr>\n",
       "    <tr>\n",
       "      <th>5927</th>\n",
       "      <td>Ro-Kyu-Bu!</td>\n",
       "      <td>6.81</td>\n",
       "      <td>75078</td>\n",
       "      <td>12</td>\n",
       "      <td>1953</td>\n",
       "      <td>Studio Blanc</td>\n",
       "    </tr>\n",
       "  </tbody>\n",
       "</table>\n",
       "<p>2145 rows × 6 columns</p>\n",
       "</div>\n",
       "      <button class=\"colab-df-convert\" onclick=\"convertToInteractive('df-fa572ebb-2b1d-4a35-babb-4c5aef2176d5')\"\n",
       "              title=\"Convert this dataframe to an interactive table.\"\n",
       "              style=\"display:none;\">\n",
       "        \n",
       "  <svg xmlns=\"http://www.w3.org/2000/svg\" height=\"24px\"viewBox=\"0 0 24 24\"\n",
       "       width=\"24px\">\n",
       "    <path d=\"M0 0h24v24H0V0z\" fill=\"none\"/>\n",
       "    <path d=\"M18.56 5.44l.94 2.06.94-2.06 2.06-.94-2.06-.94-.94-2.06-.94 2.06-2.06.94zm-11 1L8.5 8.5l.94-2.06 2.06-.94-2.06-.94L8.5 2.5l-.94 2.06-2.06.94zm10 10l.94 2.06.94-2.06 2.06-.94-2.06-.94-.94-2.06-.94 2.06-2.06.94z\"/><path d=\"M17.41 7.96l-1.37-1.37c-.4-.4-.92-.59-1.43-.59-.52 0-1.04.2-1.43.59L10.3 9.45l-7.72 7.72c-.78.78-.78 2.05 0 2.83L4 21.41c.39.39.9.59 1.41.59.51 0 1.02-.2 1.41-.59l7.78-7.78 2.81-2.81c.8-.78.8-2.07 0-2.86zM5.41 20L4 18.59l7.72-7.72 1.47 1.35L5.41 20z\"/>\n",
       "  </svg>\n",
       "      </button>\n",
       "      \n",
       "  <style>\n",
       "    .colab-df-container {\n",
       "      display:flex;\n",
       "      flex-wrap:wrap;\n",
       "      gap: 12px;\n",
       "    }\n",
       "\n",
       "    .colab-df-convert {\n",
       "      background-color: #E8F0FE;\n",
       "      border: none;\n",
       "      border-radius: 50%;\n",
       "      cursor: pointer;\n",
       "      display: none;\n",
       "      fill: #1967D2;\n",
       "      height: 32px;\n",
       "      padding: 0 0 0 0;\n",
       "      width: 32px;\n",
       "    }\n",
       "\n",
       "    .colab-df-convert:hover {\n",
       "      background-color: #E2EBFA;\n",
       "      box-shadow: 0px 1px 2px rgba(60, 64, 67, 0.3), 0px 1px 3px 1px rgba(60, 64, 67, 0.15);\n",
       "      fill: #174EA6;\n",
       "    }\n",
       "\n",
       "    [theme=dark] .colab-df-convert {\n",
       "      background-color: #3B4455;\n",
       "      fill: #D2E3FC;\n",
       "    }\n",
       "\n",
       "    [theme=dark] .colab-df-convert:hover {\n",
       "      background-color: #434B5C;\n",
       "      box-shadow: 0px 1px 3px 1px rgba(0, 0, 0, 0.15);\n",
       "      filter: drop-shadow(0px 1px 2px rgba(0, 0, 0, 0.3));\n",
       "      fill: #FFFFFF;\n",
       "    }\n",
       "  </style>\n",
       "\n",
       "      <script>\n",
       "        const buttonEl =\n",
       "          document.querySelector('#df-fa572ebb-2b1d-4a35-babb-4c5aef2176d5 button.colab-df-convert');\n",
       "        buttonEl.style.display =\n",
       "          google.colab.kernel.accessAllowed ? 'block' : 'none';\n",
       "\n",
       "        async function convertToInteractive(key) {\n",
       "          const element = document.querySelector('#df-fa572ebb-2b1d-4a35-babb-4c5aef2176d5');\n",
       "          const dataTable =\n",
       "            await google.colab.kernel.invokeFunction('convertToInteractive',\n",
       "                                                     [key], {});\n",
       "          if (!dataTable) return;\n",
       "\n",
       "          const docLinkHtml = 'Like what you see? Visit the ' +\n",
       "            '<a target=\"_blank\" href=https://colab.research.google.com/notebooks/data_table.ipynb>data table notebook</a>'\n",
       "            + ' to learn more about interactive tables.';\n",
       "          element.innerHTML = '';\n",
       "          dataTable['output_type'] = 'display_data';\n",
       "          await google.colab.output.renderOutput(dataTable, element);\n",
       "          const docLink = document.createElement('div');\n",
       "          docLink.innerHTML = docLinkHtml;\n",
       "          element.appendChild(docLink);\n",
       "        }\n",
       "      </script>\n",
       "    </div>\n",
       "  </div>\n",
       "  "
      ],
      "text/plain": [
       "                             Name of the anime  ...                     Study\n",
       "0                                   Death Note  ...                  Madhouse\n",
       "1                           Shingeki no Kyojin  ...                Wit Studio\n",
       "2             Fullmetal Alchemist: Brotherhood  ...                     Bones\n",
       "3                             Sword Art Online  ...              A-1 Pictures\n",
       "4                                One Punch Man  ...                  Madhouse\n",
       "...                                        ...  ...                       ...\n",
       "5702                  Hori-san to Miyamura-kun  ...                    Marone\n",
       "5741                  Quanzhi Gaoshou Specials  ...  Colored Pencil Animation\n",
       "5840  Strike the Blood: Valkyria no Oukoku-hen  ...                   Connect\n",
       "5846                          FLCL Alternative  ...                  Revoroot\n",
       "5927                                Ro-Kyu-Bu!  ...              Studio Blanc\n",
       "\n",
       "[2145 rows x 6 columns]"
      ]
     },
     "execution_count": 35,
     "metadata": {},
     "output_type": "execute_result"
    }
   ],
   "source": [
    "meltedStudy = pd.melt(dfStudy, id_vars=('Name of the anime','Rating','Followers','Episodes','Ranking'))\n",
    "meltedStudy = meltedStudy.dropna(subset=['value'], how='any').drop(['variable'], axis=1)\n",
    "meltedStudy = meltedStudy.rename(columns={\"value\": \"Study\"})\n",
    "meltedStudy.Study = meltedStudy.Study.apply(lambda n: n.strip())\n",
    "meltedStudy"
   ]
  },
  {
   "cell_type": "code",
   "execution_count": null,
   "metadata": {
    "colab": {
     "base_uri": "https://localhost:8080/",
     "height": 112
    },
    "id": "JKZsJuE1YlIC",
    "outputId": "ca8070d8-a124-43ef-b130-4b08641afc00"
   },
   "outputs": [
    {
     "data": {
      "text/html": [
       "\n",
       "  <div id=\"df-ba607b3b-2e6d-499b-85cb-5407abfcf542\">\n",
       "    <div class=\"colab-df-container\">\n",
       "      <div>\n",
       "<style scoped>\n",
       "    .dataframe tbody tr th:only-of-type {\n",
       "        vertical-align: middle;\n",
       "    }\n",
       "\n",
       "    .dataframe tbody tr th {\n",
       "        vertical-align: top;\n",
       "    }\n",
       "\n",
       "    .dataframe thead th {\n",
       "        text-align: right;\n",
       "    }\n",
       "</style>\n",
       "<table border=\"1\" class=\"dataframe\">\n",
       "  <thead>\n",
       "    <tr style=\"text-align: right;\">\n",
       "      <th></th>\n",
       "      <th>Name of the anime</th>\n",
       "      <th>Rating</th>\n",
       "      <th>Followers</th>\n",
       "      <th>Episodes</th>\n",
       "      <th>Ranking</th>\n",
       "      <th>Study</th>\n",
       "    </tr>\n",
       "  </thead>\n",
       "  <tbody>\n",
       "    <tr>\n",
       "      <th>115</th>\n",
       "      <td>Tokyo Ghoul:re</td>\n",
       "      <td>6.41</td>\n",
       "      <td>909814</td>\n",
       "      <td>12</td>\n",
       "      <td>117</td>\n",
       "      <td>Studio Pierrot</td>\n",
       "    </tr>\n",
       "    <tr>\n",
       "      <th>2115</th>\n",
       "      <td>Tokyo Ghoul:re</td>\n",
       "      <td>6.41</td>\n",
       "      <td>909814</td>\n",
       "      <td>12</td>\n",
       "      <td>117</td>\n",
       "      <td>Pierrot Plus</td>\n",
       "    </tr>\n",
       "  </tbody>\n",
       "</table>\n",
       "</div>\n",
       "      <button class=\"colab-df-convert\" onclick=\"convertToInteractive('df-ba607b3b-2e6d-499b-85cb-5407abfcf542')\"\n",
       "              title=\"Convert this dataframe to an interactive table.\"\n",
       "              style=\"display:none;\">\n",
       "        \n",
       "  <svg xmlns=\"http://www.w3.org/2000/svg\" height=\"24px\"viewBox=\"0 0 24 24\"\n",
       "       width=\"24px\">\n",
       "    <path d=\"M0 0h24v24H0V0z\" fill=\"none\"/>\n",
       "    <path d=\"M18.56 5.44l.94 2.06.94-2.06 2.06-.94-2.06-.94-.94-2.06-.94 2.06-2.06.94zm-11 1L8.5 8.5l.94-2.06 2.06-.94-2.06-.94L8.5 2.5l-.94 2.06-2.06.94zm10 10l.94 2.06.94-2.06 2.06-.94-2.06-.94-.94-2.06-.94 2.06-2.06.94z\"/><path d=\"M17.41 7.96l-1.37-1.37c-.4-.4-.92-.59-1.43-.59-.52 0-1.04.2-1.43.59L10.3 9.45l-7.72 7.72c-.78.78-.78 2.05 0 2.83L4 21.41c.39.39.9.59 1.41.59.51 0 1.02-.2 1.41-.59l7.78-7.78 2.81-2.81c.8-.78.8-2.07 0-2.86zM5.41 20L4 18.59l7.72-7.72 1.47 1.35L5.41 20z\"/>\n",
       "  </svg>\n",
       "      </button>\n",
       "      \n",
       "  <style>\n",
       "    .colab-df-container {\n",
       "      display:flex;\n",
       "      flex-wrap:wrap;\n",
       "      gap: 12px;\n",
       "    }\n",
       "\n",
       "    .colab-df-convert {\n",
       "      background-color: #E8F0FE;\n",
       "      border: none;\n",
       "      border-radius: 50%;\n",
       "      cursor: pointer;\n",
       "      display: none;\n",
       "      fill: #1967D2;\n",
       "      height: 32px;\n",
       "      padding: 0 0 0 0;\n",
       "      width: 32px;\n",
       "    }\n",
       "\n",
       "    .colab-df-convert:hover {\n",
       "      background-color: #E2EBFA;\n",
       "      box-shadow: 0px 1px 2px rgba(60, 64, 67, 0.3), 0px 1px 3px 1px rgba(60, 64, 67, 0.15);\n",
       "      fill: #174EA6;\n",
       "    }\n",
       "\n",
       "    [theme=dark] .colab-df-convert {\n",
       "      background-color: #3B4455;\n",
       "      fill: #D2E3FC;\n",
       "    }\n",
       "\n",
       "    [theme=dark] .colab-df-convert:hover {\n",
       "      background-color: #434B5C;\n",
       "      box-shadow: 0px 1px 3px 1px rgba(0, 0, 0, 0.15);\n",
       "      filter: drop-shadow(0px 1px 2px rgba(0, 0, 0, 0.3));\n",
       "      fill: #FFFFFF;\n",
       "    }\n",
       "  </style>\n",
       "\n",
       "      <script>\n",
       "        const buttonEl =\n",
       "          document.querySelector('#df-ba607b3b-2e6d-499b-85cb-5407abfcf542 button.colab-df-convert');\n",
       "        buttonEl.style.display =\n",
       "          google.colab.kernel.accessAllowed ? 'block' : 'none';\n",
       "\n",
       "        async function convertToInteractive(key) {\n",
       "          const element = document.querySelector('#df-ba607b3b-2e6d-499b-85cb-5407abfcf542');\n",
       "          const dataTable =\n",
       "            await google.colab.kernel.invokeFunction('convertToInteractive',\n",
       "                                                     [key], {});\n",
       "          if (!dataTable) return;\n",
       "\n",
       "          const docLinkHtml = 'Like what you see? Visit the ' +\n",
       "            '<a target=\"_blank\" href=https://colab.research.google.com/notebooks/data_table.ipynb>data table notebook</a>'\n",
       "            + ' to learn more about interactive tables.';\n",
       "          element.innerHTML = '';\n",
       "          dataTable['output_type'] = 'display_data';\n",
       "          await google.colab.output.renderOutput(dataTable, element);\n",
       "          const docLink = document.createElement('div');\n",
       "          docLink.innerHTML = docLinkHtml;\n",
       "          element.appendChild(docLink);\n",
       "        }\n",
       "      </script>\n",
       "    </div>\n",
       "  </div>\n",
       "  "
      ],
      "text/plain": [
       "     Name of the anime  Rating  Followers  Episodes  Ranking           Study\n",
       "115     Tokyo Ghoul:re    6.41     909814        12      117  Studio Pierrot\n",
       "2115    Tokyo Ghoul:re    6.41     909814        12      117    Pierrot Plus"
      ]
     },
     "execution_count": 36,
     "metadata": {},
     "output_type": "execute_result"
    }
   ],
   "source": [
    "meltedStudy.loc[meltedStudy['Ranking'] == 117]"
   ]
  },
  {
   "cell_type": "markdown",
   "metadata": {
    "id": "h5a6yNPBU-rW"
   },
   "source": [
    "### Genres Column\n",
    "\n",
    "We are going to use same logic with License column."
   ]
  },
  {
   "cell_type": "code",
   "execution_count": null,
   "metadata": {
    "colab": {
     "base_uri": "https://localhost:8080/",
     "height": 424
    },
    "id": "HmGFKcislij0",
    "outputId": "79e94570-3888-4899-95e7-8814d12b9c16"
   },
   "outputs": [
    {
     "data": {
      "text/html": [
       "\n",
       "  <div id=\"df-eda3b4cc-546d-470e-886d-831815bf231b\">\n",
       "    <div class=\"colab-df-container\">\n",
       "      <div>\n",
       "<style scoped>\n",
       "    .dataframe tbody tr th:only-of-type {\n",
       "        vertical-align: middle;\n",
       "    }\n",
       "\n",
       "    .dataframe tbody tr th {\n",
       "        vertical-align: top;\n",
       "    }\n",
       "\n",
       "    .dataframe thead th {\n",
       "        text-align: right;\n",
       "    }\n",
       "</style>\n",
       "<table border=\"1\" class=\"dataframe\">\n",
       "  <thead>\n",
       "    <tr style=\"text-align: right;\">\n",
       "      <th></th>\n",
       "      <th>0</th>\n",
       "      <th>1</th>\n",
       "      <th>2</th>\n",
       "      <th>3</th>\n",
       "      <th>4</th>\n",
       "      <th>5</th>\n",
       "      <th>6</th>\n",
       "      <th>Name of the anime</th>\n",
       "      <th>Rating</th>\n",
       "      <th>Followers</th>\n",
       "      <th>Episodes</th>\n",
       "      <th>Ranking</th>\n",
       "      <th>Type</th>\n",
       "    </tr>\n",
       "  </thead>\n",
       "  <tbody>\n",
       "    <tr>\n",
       "      <th>0</th>\n",
       "      <td>Mystery</td>\n",
       "      <td>Supernatural</td>\n",
       "      <td>Suspense</td>\n",
       "      <td>None</td>\n",
       "      <td>None</td>\n",
       "      <td>None</td>\n",
       "      <td>None</td>\n",
       "      <td>Death Note</td>\n",
       "      <td>8.63</td>\n",
       "      <td>3150451</td>\n",
       "      <td>37</td>\n",
       "      <td>1</td>\n",
       "      <td>TV</td>\n",
       "    </tr>\n",
       "    <tr>\n",
       "      <th>1</th>\n",
       "      <td>Action</td>\n",
       "      <td>Drama</td>\n",
       "      <td>Fantasy</td>\n",
       "      <td>Mystery</td>\n",
       "      <td>None</td>\n",
       "      <td>None</td>\n",
       "      <td>None</td>\n",
       "      <td>Shingeki no Kyojin</td>\n",
       "      <td>8.52</td>\n",
       "      <td>3136959</td>\n",
       "      <td>25</td>\n",
       "      <td>2</td>\n",
       "      <td>TV</td>\n",
       "    </tr>\n",
       "    <tr>\n",
       "      <th>2</th>\n",
       "      <td>Action</td>\n",
       "      <td>Adventure</td>\n",
       "      <td>Comedy</td>\n",
       "      <td>Drama</td>\n",
       "      <td>Fantasy</td>\n",
       "      <td>None</td>\n",
       "      <td>None</td>\n",
       "      <td>Fullmetal Alchemist: Brotherhood</td>\n",
       "      <td>9.16</td>\n",
       "      <td>2674846</td>\n",
       "      <td>64</td>\n",
       "      <td>3</td>\n",
       "      <td>TV</td>\n",
       "    </tr>\n",
       "    <tr>\n",
       "      <th>3</th>\n",
       "      <td>Action</td>\n",
       "      <td>Adventure</td>\n",
       "      <td>Fantasy</td>\n",
       "      <td>Romance</td>\n",
       "      <td>None</td>\n",
       "      <td>None</td>\n",
       "      <td>None</td>\n",
       "      <td>Sword Art Online</td>\n",
       "      <td>7.21</td>\n",
       "      <td>2583874</td>\n",
       "      <td>25</td>\n",
       "      <td>4</td>\n",
       "      <td>TV</td>\n",
       "    </tr>\n",
       "    <tr>\n",
       "      <th>4</th>\n",
       "      <td>Action</td>\n",
       "      <td>Comedy</td>\n",
       "      <td>Sci-Fi</td>\n",
       "      <td>Supernatural</td>\n",
       "      <td>None</td>\n",
       "      <td>None</td>\n",
       "      <td>None</td>\n",
       "      <td>One Punch Man</td>\n",
       "      <td>8.52</td>\n",
       "      <td>2577610</td>\n",
       "      <td>12</td>\n",
       "      <td>5</td>\n",
       "      <td>TV</td>\n",
       "    </tr>\n",
       "    <tr>\n",
       "      <th>...</th>\n",
       "      <td>...</td>\n",
       "      <td>...</td>\n",
       "      <td>...</td>\n",
       "      <td>...</td>\n",
       "      <td>...</td>\n",
       "      <td>...</td>\n",
       "      <td>...</td>\n",
       "      <td>...</td>\n",
       "      <td>...</td>\n",
       "      <td>...</td>\n",
       "      <td>...</td>\n",
       "      <td>...</td>\n",
       "      <td>...</td>\n",
       "    </tr>\n",
       "    <tr>\n",
       "      <th>1744</th>\n",
       "      <td>Action</td>\n",
       "      <td>Adventure</td>\n",
       "      <td>Fantasy</td>\n",
       "      <td>None</td>\n",
       "      <td>None</td>\n",
       "      <td>None</td>\n",
       "      <td>None</td>\n",
       "      <td>Goblin Slayer 2nd Season</td>\n",
       "      <td>NaN</td>\n",
       "      <td>92642</td>\n",
       "      <td>16</td>\n",
       "      <td>1745</td>\n",
       "      <td>TV</td>\n",
       "    </tr>\n",
       "    <tr>\n",
       "      <th>1776</th>\n",
       "      <td>NaN</td>\n",
       "      <td>NaN</td>\n",
       "      <td>NaN</td>\n",
       "      <td>NaN</td>\n",
       "      <td>NaN</td>\n",
       "      <td>NaN</td>\n",
       "      <td>NaN</td>\n",
       "      <td>Maou Gakuin no Futekigousha: Shijou Saikyou no...</td>\n",
       "      <td>NaN</td>\n",
       "      <td>90837</td>\n",
       "      <td>16</td>\n",
       "      <td>1777</td>\n",
       "      <td>TV</td>\n",
       "    </tr>\n",
       "    <tr>\n",
       "      <th>1880</th>\n",
       "      <td>Action</td>\n",
       "      <td>Adventure</td>\n",
       "      <td>Comedy</td>\n",
       "      <td>Fantasy</td>\n",
       "      <td>Romance</td>\n",
       "      <td>None</td>\n",
       "      <td>None</td>\n",
       "      <td>Dungeon ni Deai wo Motomeru no wa Machigatteir...</td>\n",
       "      <td>NaN</td>\n",
       "      <td>82464</td>\n",
       "      <td>16</td>\n",
       "      <td>1881</td>\n",
       "      <td>TV</td>\n",
       "    </tr>\n",
       "    <tr>\n",
       "      <th>1893</th>\n",
       "      <td>Action</td>\n",
       "      <td>Comedy</td>\n",
       "      <td>None</td>\n",
       "      <td>None</td>\n",
       "      <td>None</td>\n",
       "      <td>None</td>\n",
       "      <td>None</td>\n",
       "      <td>Boku no Hero Academia 6th Season</td>\n",
       "      <td>NaN</td>\n",
       "      <td>90132</td>\n",
       "      <td>16</td>\n",
       "      <td>1894</td>\n",
       "      <td>TV</td>\n",
       "    </tr>\n",
       "    <tr>\n",
       "      <th>1925</th>\n",
       "      <td>Action</td>\n",
       "      <td>Adventure</td>\n",
       "      <td>Comedy</td>\n",
       "      <td>Supernatural</td>\n",
       "      <td>None</td>\n",
       "      <td>None</td>\n",
       "      <td>None</td>\n",
       "      <td>Bleach: Sennen Kessen-hen</td>\n",
       "      <td>NaN</td>\n",
       "      <td>78243</td>\n",
       "      <td>16</td>\n",
       "      <td>1926</td>\n",
       "      <td>TV</td>\n",
       "    </tr>\n",
       "  </tbody>\n",
       "</table>\n",
       "<p>2000 rows × 13 columns</p>\n",
       "</div>\n",
       "      <button class=\"colab-df-convert\" onclick=\"convertToInteractive('df-eda3b4cc-546d-470e-886d-831815bf231b')\"\n",
       "              title=\"Convert this dataframe to an interactive table.\"\n",
       "              style=\"display:none;\">\n",
       "        \n",
       "  <svg xmlns=\"http://www.w3.org/2000/svg\" height=\"24px\"viewBox=\"0 0 24 24\"\n",
       "       width=\"24px\">\n",
       "    <path d=\"M0 0h24v24H0V0z\" fill=\"none\"/>\n",
       "    <path d=\"M18.56 5.44l.94 2.06.94-2.06 2.06-.94-2.06-.94-.94-2.06-.94 2.06-2.06.94zm-11 1L8.5 8.5l.94-2.06 2.06-.94-2.06-.94L8.5 2.5l-.94 2.06-2.06.94zm10 10l.94 2.06.94-2.06 2.06-.94-2.06-.94-.94-2.06-.94 2.06-2.06.94z\"/><path d=\"M17.41 7.96l-1.37-1.37c-.4-.4-.92-.59-1.43-.59-.52 0-1.04.2-1.43.59L10.3 9.45l-7.72 7.72c-.78.78-.78 2.05 0 2.83L4 21.41c.39.39.9.59 1.41.59.51 0 1.02-.2 1.41-.59l7.78-7.78 2.81-2.81c.8-.78.8-2.07 0-2.86zM5.41 20L4 18.59l7.72-7.72 1.47 1.35L5.41 20z\"/>\n",
       "  </svg>\n",
       "      </button>\n",
       "      \n",
       "  <style>\n",
       "    .colab-df-container {\n",
       "      display:flex;\n",
       "      flex-wrap:wrap;\n",
       "      gap: 12px;\n",
       "    }\n",
       "\n",
       "    .colab-df-convert {\n",
       "      background-color: #E8F0FE;\n",
       "      border: none;\n",
       "      border-radius: 50%;\n",
       "      cursor: pointer;\n",
       "      display: none;\n",
       "      fill: #1967D2;\n",
       "      height: 32px;\n",
       "      padding: 0 0 0 0;\n",
       "      width: 32px;\n",
       "    }\n",
       "\n",
       "    .colab-df-convert:hover {\n",
       "      background-color: #E2EBFA;\n",
       "      box-shadow: 0px 1px 2px rgba(60, 64, 67, 0.3), 0px 1px 3px 1px rgba(60, 64, 67, 0.15);\n",
       "      fill: #174EA6;\n",
       "    }\n",
       "\n",
       "    [theme=dark] .colab-df-convert {\n",
       "      background-color: #3B4455;\n",
       "      fill: #D2E3FC;\n",
       "    }\n",
       "\n",
       "    [theme=dark] .colab-df-convert:hover {\n",
       "      background-color: #434B5C;\n",
       "      box-shadow: 0px 1px 3px 1px rgba(0, 0, 0, 0.15);\n",
       "      filter: drop-shadow(0px 1px 2px rgba(0, 0, 0, 0.3));\n",
       "      fill: #FFFFFF;\n",
       "    }\n",
       "  </style>\n",
       "\n",
       "      <script>\n",
       "        const buttonEl =\n",
       "          document.querySelector('#df-eda3b4cc-546d-470e-886d-831815bf231b button.colab-df-convert');\n",
       "        buttonEl.style.display =\n",
       "          google.colab.kernel.accessAllowed ? 'block' : 'none';\n",
       "\n",
       "        async function convertToInteractive(key) {\n",
       "          const element = document.querySelector('#df-eda3b4cc-546d-470e-886d-831815bf231b');\n",
       "          const dataTable =\n",
       "            await google.colab.kernel.invokeFunction('convertToInteractive',\n",
       "                                                     [key], {});\n",
       "          if (!dataTable) return;\n",
       "\n",
       "          const docLinkHtml = 'Like what you see? Visit the ' +\n",
       "            '<a target=\"_blank\" href=https://colab.research.google.com/notebooks/data_table.ipynb>data table notebook</a>'\n",
       "            + ' to learn more about interactive tables.';\n",
       "          element.innerHTML = '';\n",
       "          dataTable['output_type'] = 'display_data';\n",
       "          await google.colab.output.renderOutput(dataTable, element);\n",
       "          const docLink = document.createElement('div');\n",
       "          docLink.innerHTML = docLinkHtml;\n",
       "          element.appendChild(docLink);\n",
       "        }\n",
       "      </script>\n",
       "    </div>\n",
       "  </div>\n",
       "  "
      ],
      "text/plain": [
       "            0             1         2  ... Episodes Ranking Type\n",
       "0     Mystery  Supernatural  Suspense  ...       37       1   TV\n",
       "1      Action         Drama   Fantasy  ...       25       2   TV\n",
       "2      Action     Adventure    Comedy  ...       64       3   TV\n",
       "3      Action     Adventure   Fantasy  ...       25       4   TV\n",
       "4      Action        Comedy    Sci-Fi  ...       12       5   TV\n",
       "...       ...           ...       ...  ...      ...     ...  ...\n",
       "1744   Action     Adventure   Fantasy  ...       16    1745   TV\n",
       "1776      NaN           NaN       NaN  ...       16    1777   TV\n",
       "1880   Action     Adventure    Comedy  ...       16    1881   TV\n",
       "1893   Action        Comedy      None  ...       16    1894   TV\n",
       "1925   Action     Adventure    Comedy  ...       16    1926   TV\n",
       "\n",
       "[2000 rows x 13 columns]"
      ]
     },
     "execution_count": 38,
     "metadata": {},
     "output_type": "execute_result"
    }
   ],
   "source": [
    "dfGenres = df['Genre'].str.split(',', expand=True)\n",
    "dfGenres[['Name of the anime','Rating', 'Followers', 'Episodes','Ranking','Type']] = df[['Name of the anime','Rating', 'Followers', 'Episodes','Ranking','Type']]\n",
    "dfGenres"
   ]
  },
  {
   "cell_type": "code",
   "execution_count": null,
   "metadata": {
    "id": "DQroOPG7RBN6"
   },
   "outputs": [],
   "source": [
    "meltedGenres = pd.melt(dfGenres, id_vars=('Name of the anime','Rating','Followers','Episodes','Ranking','Type'))\n",
    "meltedGenres = meltedGenres.dropna(subset=['value'], how='any').drop(['variable'], axis=1)\n",
    "meltedGenres = meltedGenres.rename(columns={\"value\": \"Genre\"})"
   ]
  },
  {
   "cell_type": "markdown",
   "metadata": {
    "id": "_WFhQ5gDSAY-"
   },
   "source": [
    "For this way we can see genres by using the other columns. Rows which does not have any genres are excluded. "
   ]
  },
  {
   "cell_type": "code",
   "execution_count": null,
   "metadata": {
    "colab": {
     "base_uri": "https://localhost:8080/",
     "height": 143
    },
    "id": "5EFy9djIUK63",
    "outputId": "354c0769-e8a1-4bbf-d975-43422959a19f"
   },
   "outputs": [
    {
     "data": {
      "text/html": [
       "\n",
       "  <div id=\"df-93d7fbf2-9f3c-4eb0-b432-6153f67e3c3f\">\n",
       "    <div class=\"colab-df-container\">\n",
       "      <div>\n",
       "<style scoped>\n",
       "    .dataframe tbody tr th:only-of-type {\n",
       "        vertical-align: middle;\n",
       "    }\n",
       "\n",
       "    .dataframe tbody tr th {\n",
       "        vertical-align: top;\n",
       "    }\n",
       "\n",
       "    .dataframe thead th {\n",
       "        text-align: right;\n",
       "    }\n",
       "</style>\n",
       "<table border=\"1\" class=\"dataframe\">\n",
       "  <thead>\n",
       "    <tr style=\"text-align: right;\">\n",
       "      <th></th>\n",
       "      <th>Name of the anime</th>\n",
       "      <th>Rating</th>\n",
       "      <th>Followers</th>\n",
       "      <th>Episodes</th>\n",
       "      <th>Ranking</th>\n",
       "      <th>Type</th>\n",
       "      <th>Genre</th>\n",
       "    </tr>\n",
       "  </thead>\n",
       "  <tbody>\n",
       "    <tr>\n",
       "      <th>0</th>\n",
       "      <td>Death Note</td>\n",
       "      <td>8.63</td>\n",
       "      <td>3150451</td>\n",
       "      <td>37</td>\n",
       "      <td>1</td>\n",
       "      <td>TV</td>\n",
       "      <td>Mystery</td>\n",
       "    </tr>\n",
       "    <tr>\n",
       "      <th>2000</th>\n",
       "      <td>Death Note</td>\n",
       "      <td>8.63</td>\n",
       "      <td>3150451</td>\n",
       "      <td>37</td>\n",
       "      <td>1</td>\n",
       "      <td>TV</td>\n",
       "      <td>Supernatural</td>\n",
       "    </tr>\n",
       "    <tr>\n",
       "      <th>4000</th>\n",
       "      <td>Death Note</td>\n",
       "      <td>8.63</td>\n",
       "      <td>3150451</td>\n",
       "      <td>37</td>\n",
       "      <td>1</td>\n",
       "      <td>TV</td>\n",
       "      <td>Suspense</td>\n",
       "    </tr>\n",
       "  </tbody>\n",
       "</table>\n",
       "</div>\n",
       "      <button class=\"colab-df-convert\" onclick=\"convertToInteractive('df-93d7fbf2-9f3c-4eb0-b432-6153f67e3c3f')\"\n",
       "              title=\"Convert this dataframe to an interactive table.\"\n",
       "              style=\"display:none;\">\n",
       "        \n",
       "  <svg xmlns=\"http://www.w3.org/2000/svg\" height=\"24px\"viewBox=\"0 0 24 24\"\n",
       "       width=\"24px\">\n",
       "    <path d=\"M0 0h24v24H0V0z\" fill=\"none\"/>\n",
       "    <path d=\"M18.56 5.44l.94 2.06.94-2.06 2.06-.94-2.06-.94-.94-2.06-.94 2.06-2.06.94zm-11 1L8.5 8.5l.94-2.06 2.06-.94-2.06-.94L8.5 2.5l-.94 2.06-2.06.94zm10 10l.94 2.06.94-2.06 2.06-.94-2.06-.94-.94-2.06-.94 2.06-2.06.94z\"/><path d=\"M17.41 7.96l-1.37-1.37c-.4-.4-.92-.59-1.43-.59-.52 0-1.04.2-1.43.59L10.3 9.45l-7.72 7.72c-.78.78-.78 2.05 0 2.83L4 21.41c.39.39.9.59 1.41.59.51 0 1.02-.2 1.41-.59l7.78-7.78 2.81-2.81c.8-.78.8-2.07 0-2.86zM5.41 20L4 18.59l7.72-7.72 1.47 1.35L5.41 20z\"/>\n",
       "  </svg>\n",
       "      </button>\n",
       "      \n",
       "  <style>\n",
       "    .colab-df-container {\n",
       "      display:flex;\n",
       "      flex-wrap:wrap;\n",
       "      gap: 12px;\n",
       "    }\n",
       "\n",
       "    .colab-df-convert {\n",
       "      background-color: #E8F0FE;\n",
       "      border: none;\n",
       "      border-radius: 50%;\n",
       "      cursor: pointer;\n",
       "      display: none;\n",
       "      fill: #1967D2;\n",
       "      height: 32px;\n",
       "      padding: 0 0 0 0;\n",
       "      width: 32px;\n",
       "    }\n",
       "\n",
       "    .colab-df-convert:hover {\n",
       "      background-color: #E2EBFA;\n",
       "      box-shadow: 0px 1px 2px rgba(60, 64, 67, 0.3), 0px 1px 3px 1px rgba(60, 64, 67, 0.15);\n",
       "      fill: #174EA6;\n",
       "    }\n",
       "\n",
       "    [theme=dark] .colab-df-convert {\n",
       "      background-color: #3B4455;\n",
       "      fill: #D2E3FC;\n",
       "    }\n",
       "\n",
       "    [theme=dark] .colab-df-convert:hover {\n",
       "      background-color: #434B5C;\n",
       "      box-shadow: 0px 1px 3px 1px rgba(0, 0, 0, 0.15);\n",
       "      filter: drop-shadow(0px 1px 2px rgba(0, 0, 0, 0.3));\n",
       "      fill: #FFFFFF;\n",
       "    }\n",
       "  </style>\n",
       "\n",
       "      <script>\n",
       "        const buttonEl =\n",
       "          document.querySelector('#df-93d7fbf2-9f3c-4eb0-b432-6153f67e3c3f button.colab-df-convert');\n",
       "        buttonEl.style.display =\n",
       "          google.colab.kernel.accessAllowed ? 'block' : 'none';\n",
       "\n",
       "        async function convertToInteractive(key) {\n",
       "          const element = document.querySelector('#df-93d7fbf2-9f3c-4eb0-b432-6153f67e3c3f');\n",
       "          const dataTable =\n",
       "            await google.colab.kernel.invokeFunction('convertToInteractive',\n",
       "                                                     [key], {});\n",
       "          if (!dataTable) return;\n",
       "\n",
       "          const docLinkHtml = 'Like what you see? Visit the ' +\n",
       "            '<a target=\"_blank\" href=https://colab.research.google.com/notebooks/data_table.ipynb>data table notebook</a>'\n",
       "            + ' to learn more about interactive tables.';\n",
       "          element.innerHTML = '';\n",
       "          dataTable['output_type'] = 'display_data';\n",
       "          await google.colab.output.renderOutput(dataTable, element);\n",
       "          const docLink = document.createElement('div');\n",
       "          docLink.innerHTML = docLinkHtml;\n",
       "          element.appendChild(docLink);\n",
       "        }\n",
       "      </script>\n",
       "    </div>\n",
       "  </div>\n",
       "  "
      ],
      "text/plain": [
       "     Name of the anime  Rating  Followers  Episodes  Ranking Type         Genre\n",
       "0           Death Note    8.63    3150451        37        1   TV       Mystery\n",
       "2000        Death Note    8.63    3150451        37        1   TV  Supernatural\n",
       "4000        Death Note    8.63    3150451        37        1   TV      Suspense"
      ]
     },
     "execution_count": 40,
     "metadata": {},
     "output_type": "execute_result"
    }
   ],
   "source": [
    "meltedGenres.loc[meltedGenres['Ranking'] == 1]"
   ]
  },
  {
   "cell_type": "markdown",
   "metadata": {
    "id": "3rJh5dzgV6XO"
   },
   "source": [
    "By using this dataframe we can count genres or make visualizations."
   ]
  },
  {
   "cell_type": "markdown",
   "metadata": {
    "id": "PIhEBpOPbNyG"
   },
   "source": [
    "### Demographics Column\n",
    "\n",
    "More than half of this column has missing data. We will change the missing data to 'Not Specified' state."
   ]
  },
  {
   "cell_type": "code",
   "execution_count": null,
   "metadata": {
    "colab": {
     "base_uri": "https://localhost:8080/",
     "height": 641
    },
    "id": "ZSQlUnDfexAn",
    "outputId": "43c030b1-9bc8-41d9-8a94-7c1696184ceb"
   },
   "outputs": [
    {
     "data": {
      "text/html": [
       "\n",
       "  <div id=\"df-dad62f59-5b1d-4fa0-98d6-182866adcb3c\">\n",
       "    <div class=\"colab-df-container\">\n",
       "      <div>\n",
       "<style scoped>\n",
       "    .dataframe tbody tr th:only-of-type {\n",
       "        vertical-align: middle;\n",
       "    }\n",
       "\n",
       "    .dataframe tbody tr th {\n",
       "        vertical-align: top;\n",
       "    }\n",
       "\n",
       "    .dataframe thead th {\n",
       "        text-align: right;\n",
       "    }\n",
       "</style>\n",
       "<table border=\"1\" class=\"dataframe\">\n",
       "  <thead>\n",
       "    <tr style=\"text-align: right;\">\n",
       "      <th></th>\n",
       "      <th>Name of the anime</th>\n",
       "      <th>Rating</th>\n",
       "      <th>Ranking</th>\n",
       "      <th>Followers</th>\n",
       "      <th>Type</th>\n",
       "      <th>Episodes</th>\n",
       "      <th>License</th>\n",
       "      <th>Study</th>\n",
       "      <th>Genre</th>\n",
       "      <th>Demographics</th>\n",
       "      <th>Age</th>\n",
       "    </tr>\n",
       "  </thead>\n",
       "  <tbody>\n",
       "    <tr>\n",
       "      <th>0</th>\n",
       "      <td>Death Note</td>\n",
       "      <td>8.63</td>\n",
       "      <td>1</td>\n",
       "      <td>3150451</td>\n",
       "      <td>TV</td>\n",
       "      <td>37</td>\n",
       "      <td>VIZ Media</td>\n",
       "      <td>Madhouse</td>\n",
       "      <td>Mystery,Supernatural,Suspense</td>\n",
       "      <td>Shounen</td>\n",
       "      <td>R - 17+ (violence &amp; profanity)</td>\n",
       "    </tr>\n",
       "    <tr>\n",
       "      <th>1</th>\n",
       "      <td>Shingeki no Kyojin</td>\n",
       "      <td>8.52</td>\n",
       "      <td>2</td>\n",
       "      <td>3136959</td>\n",
       "      <td>TV</td>\n",
       "      <td>25</td>\n",
       "      <td>Funimation</td>\n",
       "      <td>Wit Studio</td>\n",
       "      <td>Action,Drama,Fantasy,Mystery</td>\n",
       "      <td>Shounen</td>\n",
       "      <td>R - 17+ (violence &amp; profanity)</td>\n",
       "    </tr>\n",
       "    <tr>\n",
       "      <th>2</th>\n",
       "      <td>Fullmetal Alchemist: Brotherhood</td>\n",
       "      <td>9.16</td>\n",
       "      <td>3</td>\n",
       "      <td>2674846</td>\n",
       "      <td>TV</td>\n",
       "      <td>64</td>\n",
       "      <td>Funimation,Aniplex of America</td>\n",
       "      <td>Bones</td>\n",
       "      <td>Action,Adventure,Comedy,Drama,Fantasy</td>\n",
       "      <td>Shounen</td>\n",
       "      <td>R - 17+ (violence &amp; profanity)</td>\n",
       "    </tr>\n",
       "    <tr>\n",
       "      <th>3</th>\n",
       "      <td>Sword Art Online</td>\n",
       "      <td>7.21</td>\n",
       "      <td>4</td>\n",
       "      <td>2583874</td>\n",
       "      <td>TV</td>\n",
       "      <td>25</td>\n",
       "      <td>Aniplex of America</td>\n",
       "      <td>A-1 Pictures</td>\n",
       "      <td>Action,Adventure,Fantasy,Romance</td>\n",
       "      <td>Not Specified</td>\n",
       "      <td>PG-13 - Teens 13 or older</td>\n",
       "    </tr>\n",
       "    <tr>\n",
       "      <th>4</th>\n",
       "      <td>One Punch Man</td>\n",
       "      <td>8.52</td>\n",
       "      <td>5</td>\n",
       "      <td>2577610</td>\n",
       "      <td>TV</td>\n",
       "      <td>12</td>\n",
       "      <td>VIZ Media</td>\n",
       "      <td>Madhouse</td>\n",
       "      <td>Action,Comedy,Sci-Fi,Supernatural</td>\n",
       "      <td>Not Specified</td>\n",
       "      <td>R - 17+ (violence &amp; profanity)</td>\n",
       "    </tr>\n",
       "    <tr>\n",
       "      <th>...</th>\n",
       "      <td>...</td>\n",
       "      <td>...</td>\n",
       "      <td>...</td>\n",
       "      <td>...</td>\n",
       "      <td>...</td>\n",
       "      <td>...</td>\n",
       "      <td>...</td>\n",
       "      <td>...</td>\n",
       "      <td>...</td>\n",
       "      <td>...</td>\n",
       "      <td>...</td>\n",
       "    </tr>\n",
       "    <tr>\n",
       "      <th>1744</th>\n",
       "      <td>Goblin Slayer 2nd Season</td>\n",
       "      <td>NaN</td>\n",
       "      <td>1745</td>\n",
       "      <td>92642</td>\n",
       "      <td>TV</td>\n",
       "      <td>16</td>\n",
       "      <td>None found</td>\n",
       "      <td>None found</td>\n",
       "      <td>Action,Adventure,Fantasy</td>\n",
       "      <td>Not Specified</td>\n",
       "      <td>R - 17+ (violence &amp; profanity)</td>\n",
       "    </tr>\n",
       "    <tr>\n",
       "      <th>1776</th>\n",
       "      <td>Maou Gakuin no Futekigousha: Shijou Saikyou no...</td>\n",
       "      <td>NaN</td>\n",
       "      <td>1777</td>\n",
       "      <td>90837</td>\n",
       "      <td>TV</td>\n",
       "      <td>16</td>\n",
       "      <td>None found</td>\n",
       "      <td>SILVER LINK.</td>\n",
       "      <td>NaN</td>\n",
       "      <td>Not Specified</td>\n",
       "      <td>R - 17+ (violence &amp; profanity)</td>\n",
       "    </tr>\n",
       "    <tr>\n",
       "      <th>1880</th>\n",
       "      <td>Dungeon ni Deai wo Motomeru no wa Machigatteir...</td>\n",
       "      <td>NaN</td>\n",
       "      <td>1881</td>\n",
       "      <td>82464</td>\n",
       "      <td>TV</td>\n",
       "      <td>16</td>\n",
       "      <td>None found</td>\n",
       "      <td>None found</td>\n",
       "      <td>Action,Adventure,Comedy,Fantasy,Romance</td>\n",
       "      <td>Not Specified</td>\n",
       "      <td>PG-13 - Teens 13 or older</td>\n",
       "    </tr>\n",
       "    <tr>\n",
       "      <th>1893</th>\n",
       "      <td>Boku no Hero Academia 6th Season</td>\n",
       "      <td>NaN</td>\n",
       "      <td>1894</td>\n",
       "      <td>90132</td>\n",
       "      <td>TV</td>\n",
       "      <td>16</td>\n",
       "      <td>None found</td>\n",
       "      <td>None found</td>\n",
       "      <td>Action,Comedy</td>\n",
       "      <td>Shounen</td>\n",
       "      <td>PG-13 - Teens 13 or older</td>\n",
       "    </tr>\n",
       "    <tr>\n",
       "      <th>1925</th>\n",
       "      <td>Bleach: Sennen Kessen-hen</td>\n",
       "      <td>NaN</td>\n",
       "      <td>1926</td>\n",
       "      <td>78243</td>\n",
       "      <td>TV</td>\n",
       "      <td>16</td>\n",
       "      <td>None found</td>\n",
       "      <td>None found</td>\n",
       "      <td>Action,Adventure,Comedy,Supernatural</td>\n",
       "      <td>Shounen</td>\n",
       "      <td>PG-13 - Teens 13 or older</td>\n",
       "    </tr>\n",
       "  </tbody>\n",
       "</table>\n",
       "<p>2000 rows × 11 columns</p>\n",
       "</div>\n",
       "      <button class=\"colab-df-convert\" onclick=\"convertToInteractive('df-dad62f59-5b1d-4fa0-98d6-182866adcb3c')\"\n",
       "              title=\"Convert this dataframe to an interactive table.\"\n",
       "              style=\"display:none;\">\n",
       "        \n",
       "  <svg xmlns=\"http://www.w3.org/2000/svg\" height=\"24px\"viewBox=\"0 0 24 24\"\n",
       "       width=\"24px\">\n",
       "    <path d=\"M0 0h24v24H0V0z\" fill=\"none\"/>\n",
       "    <path d=\"M18.56 5.44l.94 2.06.94-2.06 2.06-.94-2.06-.94-.94-2.06-.94 2.06-2.06.94zm-11 1L8.5 8.5l.94-2.06 2.06-.94-2.06-.94L8.5 2.5l-.94 2.06-2.06.94zm10 10l.94 2.06.94-2.06 2.06-.94-2.06-.94-.94-2.06-.94 2.06-2.06.94z\"/><path d=\"M17.41 7.96l-1.37-1.37c-.4-.4-.92-.59-1.43-.59-.52 0-1.04.2-1.43.59L10.3 9.45l-7.72 7.72c-.78.78-.78 2.05 0 2.83L4 21.41c.39.39.9.59 1.41.59.51 0 1.02-.2 1.41-.59l7.78-7.78 2.81-2.81c.8-.78.8-2.07 0-2.86zM5.41 20L4 18.59l7.72-7.72 1.47 1.35L5.41 20z\"/>\n",
       "  </svg>\n",
       "      </button>\n",
       "      \n",
       "  <style>\n",
       "    .colab-df-container {\n",
       "      display:flex;\n",
       "      flex-wrap:wrap;\n",
       "      gap: 12px;\n",
       "    }\n",
       "\n",
       "    .colab-df-convert {\n",
       "      background-color: #E8F0FE;\n",
       "      border: none;\n",
       "      border-radius: 50%;\n",
       "      cursor: pointer;\n",
       "      display: none;\n",
       "      fill: #1967D2;\n",
       "      height: 32px;\n",
       "      padding: 0 0 0 0;\n",
       "      width: 32px;\n",
       "    }\n",
       "\n",
       "    .colab-df-convert:hover {\n",
       "      background-color: #E2EBFA;\n",
       "      box-shadow: 0px 1px 2px rgba(60, 64, 67, 0.3), 0px 1px 3px 1px rgba(60, 64, 67, 0.15);\n",
       "      fill: #174EA6;\n",
       "    }\n",
       "\n",
       "    [theme=dark] .colab-df-convert {\n",
       "      background-color: #3B4455;\n",
       "      fill: #D2E3FC;\n",
       "    }\n",
       "\n",
       "    [theme=dark] .colab-df-convert:hover {\n",
       "      background-color: #434B5C;\n",
       "      box-shadow: 0px 1px 3px 1px rgba(0, 0, 0, 0.15);\n",
       "      filter: drop-shadow(0px 1px 2px rgba(0, 0, 0, 0.3));\n",
       "      fill: #FFFFFF;\n",
       "    }\n",
       "  </style>\n",
       "\n",
       "      <script>\n",
       "        const buttonEl =\n",
       "          document.querySelector('#df-dad62f59-5b1d-4fa0-98d6-182866adcb3c button.colab-df-convert');\n",
       "        buttonEl.style.display =\n",
       "          google.colab.kernel.accessAllowed ? 'block' : 'none';\n",
       "\n",
       "        async function convertToInteractive(key) {\n",
       "          const element = document.querySelector('#df-dad62f59-5b1d-4fa0-98d6-182866adcb3c');\n",
       "          const dataTable =\n",
       "            await google.colab.kernel.invokeFunction('convertToInteractive',\n",
       "                                                     [key], {});\n",
       "          if (!dataTable) return;\n",
       "\n",
       "          const docLinkHtml = 'Like what you see? Visit the ' +\n",
       "            '<a target=\"_blank\" href=https://colab.research.google.com/notebooks/data_table.ipynb>data table notebook</a>'\n",
       "            + ' to learn more about interactive tables.';\n",
       "          element.innerHTML = '';\n",
       "          dataTable['output_type'] = 'display_data';\n",
       "          await google.colab.output.renderOutput(dataTable, element);\n",
       "          const docLink = document.createElement('div');\n",
       "          docLink.innerHTML = docLinkHtml;\n",
       "          element.appendChild(docLink);\n",
       "        }\n",
       "      </script>\n",
       "    </div>\n",
       "  </div>\n",
       "  "
      ],
      "text/plain": [
       "                                      Name of the anime  ...                             Age\n",
       "0                                            Death Note  ...  R - 17+ (violence & profanity)\n",
       "1                                    Shingeki no Kyojin  ...  R - 17+ (violence & profanity)\n",
       "2                      Fullmetal Alchemist: Brotherhood  ...  R - 17+ (violence & profanity)\n",
       "3                                      Sword Art Online  ...       PG-13 - Teens 13 or older\n",
       "4                                         One Punch Man  ...  R - 17+ (violence & profanity)\n",
       "...                                                 ...  ...                             ...\n",
       "1744                           Goblin Slayer 2nd Season  ...  R - 17+ (violence & profanity)\n",
       "1776  Maou Gakuin no Futekigousha: Shijou Saikyou no...  ...  R - 17+ (violence & profanity)\n",
       "1880  Dungeon ni Deai wo Motomeru no wa Machigatteir...  ...       PG-13 - Teens 13 or older\n",
       "1893                   Boku no Hero Academia 6th Season  ...       PG-13 - Teens 13 or older\n",
       "1925                          Bleach: Sennen Kessen-hen  ...       PG-13 - Teens 13 or older\n",
       "\n",
       "[2000 rows x 11 columns]"
      ]
     },
     "execution_count": 42,
     "metadata": {},
     "output_type": "execute_result"
    }
   ],
   "source": [
    "df['Demographics'].fillna('Not Specified', inplace=True)\n",
    "df"
   ]
  },
  {
   "cell_type": "markdown",
   "metadata": {
    "id": "VdV32lSMbPz3"
   },
   "source": [
    "### Age Column\n",
    "\n",
    "We are going to do same thing on Demographics column. Only difference is we will replace 'None' value to 'Not Specified' value instead of filling the nulls."
   ]
  },
  {
   "cell_type": "code",
   "execution_count": null,
   "metadata": {
    "colab": {
     "base_uri": "https://localhost:8080/",
     "height": 238
    },
    "id": "K2xf_k-Jfxpx",
    "outputId": "a698589d-e977-4134-8945-08385792fcd0"
   },
   "outputs": [
    {
     "data": {
      "text/html": [
       "\n",
       "  <div id=\"df-fa90526c-9f12-4343-9c19-05719ebaee2a\">\n",
       "    <div class=\"colab-df-container\">\n",
       "      <div>\n",
       "<style scoped>\n",
       "    .dataframe tbody tr th:only-of-type {\n",
       "        vertical-align: middle;\n",
       "    }\n",
       "\n",
       "    .dataframe tbody tr th {\n",
       "        vertical-align: top;\n",
       "    }\n",
       "\n",
       "    .dataframe thead th {\n",
       "        text-align: right;\n",
       "    }\n",
       "</style>\n",
       "<table border=\"1\" class=\"dataframe\">\n",
       "  <thead>\n",
       "    <tr style=\"text-align: right;\">\n",
       "      <th></th>\n",
       "      <th>Name of the anime</th>\n",
       "      <th>Rating</th>\n",
       "      <th>Ranking</th>\n",
       "      <th>Followers</th>\n",
       "      <th>Type</th>\n",
       "      <th>Episodes</th>\n",
       "      <th>License</th>\n",
       "      <th>Study</th>\n",
       "      <th>Genre</th>\n",
       "      <th>Demographics</th>\n",
       "      <th>Age</th>\n",
       "    </tr>\n",
       "  </thead>\n",
       "  <tbody>\n",
       "    <tr>\n",
       "      <th>722</th>\n",
       "      <td>Jujutsu Kaisen 0 Movie</td>\n",
       "      <td>NaN</td>\n",
       "      <td>723</td>\n",
       "      <td>244599</td>\n",
       "      <td>Movie</td>\n",
       "      <td>1</td>\n",
       "      <td>None found</td>\n",
       "      <td>MAPPA</td>\n",
       "      <td>Action,Supernatural</td>\n",
       "      <td>Shounen</td>\n",
       "      <td>Not Specified</td>\n",
       "    </tr>\n",
       "    <tr>\n",
       "      <th>1335</th>\n",
       "      <td>Sword Art Online: Progressive Movie - Hoshi Na...</td>\n",
       "      <td>7.11</td>\n",
       "      <td>1336</td>\n",
       "      <td>128041</td>\n",
       "      <td>Movie</td>\n",
       "      <td>1</td>\n",
       "      <td>Aniplex of America</td>\n",
       "      <td>A-1 Pictures</td>\n",
       "      <td>Action,Adventure,Fantasy,Romance</td>\n",
       "      <td>Not Specified</td>\n",
       "      <td>Not Specified</td>\n",
       "    </tr>\n",
       "    <tr>\n",
       "      <th>1598</th>\n",
       "      <td>Mars Red</td>\n",
       "      <td>6.64</td>\n",
       "      <td>1599</td>\n",
       "      <td>102753</td>\n",
       "      <td>TV</td>\n",
       "      <td>13</td>\n",
       "      <td>Funimation</td>\n",
       "      <td>Signal.MD</td>\n",
       "      <td>Action,Supernatural</td>\n",
       "      <td>Not Specified</td>\n",
       "      <td>Not Specified</td>\n",
       "    </tr>\n",
       "    <tr>\n",
       "      <th>1970</th>\n",
       "      <td>Kabukichou Sherlock</td>\n",
       "      <td>6.90</td>\n",
       "      <td>1971</td>\n",
       "      <td>74124</td>\n",
       "      <td>TV</td>\n",
       "      <td>24</td>\n",
       "      <td>Funimation</td>\n",
       "      <td>Production I.G</td>\n",
       "      <td>Comedy,Drama,Mystery</td>\n",
       "      <td>Not Specified</td>\n",
       "      <td>Not Specified</td>\n",
       "    </tr>\n",
       "    <tr>\n",
       "      <th>1991</th>\n",
       "      <td>Yuri!!! on Ice The Movie: Ice Adolescence</td>\n",
       "      <td>NaN</td>\n",
       "      <td>1992</td>\n",
       "      <td>73309</td>\n",
       "      <td>Movie</td>\n",
       "      <td>1</td>\n",
       "      <td>None found</td>\n",
       "      <td>MAPPA</td>\n",
       "      <td>Comedy,Sports</td>\n",
       "      <td>Not Specified</td>\n",
       "      <td>Not Specified</td>\n",
       "    </tr>\n",
       "    <tr>\n",
       "      <th>678</th>\n",
       "      <td>Chainsaw Man</td>\n",
       "      <td>NaN</td>\n",
       "      <td>679</td>\n",
       "      <td>269939</td>\n",
       "      <td>TV</td>\n",
       "      <td>16</td>\n",
       "      <td>None found</td>\n",
       "      <td>MAPPA</td>\n",
       "      <td>Action,Adventure</td>\n",
       "      <td>Shounen</td>\n",
       "      <td>Not Specified</td>\n",
       "    </tr>\n",
       "  </tbody>\n",
       "</table>\n",
       "</div>\n",
       "      <button class=\"colab-df-convert\" onclick=\"convertToInteractive('df-fa90526c-9f12-4343-9c19-05719ebaee2a')\"\n",
       "              title=\"Convert this dataframe to an interactive table.\"\n",
       "              style=\"display:none;\">\n",
       "        \n",
       "  <svg xmlns=\"http://www.w3.org/2000/svg\" height=\"24px\"viewBox=\"0 0 24 24\"\n",
       "       width=\"24px\">\n",
       "    <path d=\"M0 0h24v24H0V0z\" fill=\"none\"/>\n",
       "    <path d=\"M18.56 5.44l.94 2.06.94-2.06 2.06-.94-2.06-.94-.94-2.06-.94 2.06-2.06.94zm-11 1L8.5 8.5l.94-2.06 2.06-.94-2.06-.94L8.5 2.5l-.94 2.06-2.06.94zm10 10l.94 2.06.94-2.06 2.06-.94-2.06-.94-.94-2.06-.94 2.06-2.06.94z\"/><path d=\"M17.41 7.96l-1.37-1.37c-.4-.4-.92-.59-1.43-.59-.52 0-1.04.2-1.43.59L10.3 9.45l-7.72 7.72c-.78.78-.78 2.05 0 2.83L4 21.41c.39.39.9.59 1.41.59.51 0 1.02-.2 1.41-.59l7.78-7.78 2.81-2.81c.8-.78.8-2.07 0-2.86zM5.41 20L4 18.59l7.72-7.72 1.47 1.35L5.41 20z\"/>\n",
       "  </svg>\n",
       "      </button>\n",
       "      \n",
       "  <style>\n",
       "    .colab-df-container {\n",
       "      display:flex;\n",
       "      flex-wrap:wrap;\n",
       "      gap: 12px;\n",
       "    }\n",
       "\n",
       "    .colab-df-convert {\n",
       "      background-color: #E8F0FE;\n",
       "      border: none;\n",
       "      border-radius: 50%;\n",
       "      cursor: pointer;\n",
       "      display: none;\n",
       "      fill: #1967D2;\n",
       "      height: 32px;\n",
       "      padding: 0 0 0 0;\n",
       "      width: 32px;\n",
       "    }\n",
       "\n",
       "    .colab-df-convert:hover {\n",
       "      background-color: #E2EBFA;\n",
       "      box-shadow: 0px 1px 2px rgba(60, 64, 67, 0.3), 0px 1px 3px 1px rgba(60, 64, 67, 0.15);\n",
       "      fill: #174EA6;\n",
       "    }\n",
       "\n",
       "    [theme=dark] .colab-df-convert {\n",
       "      background-color: #3B4455;\n",
       "      fill: #D2E3FC;\n",
       "    }\n",
       "\n",
       "    [theme=dark] .colab-df-convert:hover {\n",
       "      background-color: #434B5C;\n",
       "      box-shadow: 0px 1px 3px 1px rgba(0, 0, 0, 0.15);\n",
       "      filter: drop-shadow(0px 1px 2px rgba(0, 0, 0, 0.3));\n",
       "      fill: #FFFFFF;\n",
       "    }\n",
       "  </style>\n",
       "\n",
       "      <script>\n",
       "        const buttonEl =\n",
       "          document.querySelector('#df-fa90526c-9f12-4343-9c19-05719ebaee2a button.colab-df-convert');\n",
       "        buttonEl.style.display =\n",
       "          google.colab.kernel.accessAllowed ? 'block' : 'none';\n",
       "\n",
       "        async function convertToInteractive(key) {\n",
       "          const element = document.querySelector('#df-fa90526c-9f12-4343-9c19-05719ebaee2a');\n",
       "          const dataTable =\n",
       "            await google.colab.kernel.invokeFunction('convertToInteractive',\n",
       "                                                     [key], {});\n",
       "          if (!dataTable) return;\n",
       "\n",
       "          const docLinkHtml = 'Like what you see? Visit the ' +\n",
       "            '<a target=\"_blank\" href=https://colab.research.google.com/notebooks/data_table.ipynb>data table notebook</a>'\n",
       "            + ' to learn more about interactive tables.';\n",
       "          element.innerHTML = '';\n",
       "          dataTable['output_type'] = 'display_data';\n",
       "          await google.colab.output.renderOutput(dataTable, element);\n",
       "          const docLink = document.createElement('div');\n",
       "          docLink.innerHTML = docLinkHtml;\n",
       "          element.appendChild(docLink);\n",
       "        }\n",
       "      </script>\n",
       "    </div>\n",
       "  </div>\n",
       "  "
      ],
      "text/plain": [
       "                                      Name of the anime  ...            Age\n",
       "722                              Jujutsu Kaisen 0 Movie  ...  Not Specified\n",
       "1335  Sword Art Online: Progressive Movie - Hoshi Na...  ...  Not Specified\n",
       "1598                                           Mars Red  ...  Not Specified\n",
       "1970                                Kabukichou Sherlock  ...  Not Specified\n",
       "1991          Yuri!!! on Ice The Movie: Ice Adolescence  ...  Not Specified\n",
       "678                                        Chainsaw Man  ...  Not Specified\n",
       "\n",
       "[6 rows x 11 columns]"
      ]
     },
     "execution_count": 43,
     "metadata": {},
     "output_type": "execute_result"
    }
   ],
   "source": [
    "df['Age'].replace(['None'], 'Not Specified', inplace=True)\n",
    "df.loc[df.Age == 'Not Specified']"
   ]
  },
  {
   "cell_type": "markdown",
   "metadata": {
    "id": "_kBMWtd1Uk6r"
   },
   "source": [
    "## PART IV - Data Visualization\n",
    "\n",
    "We are going to demonstrate 5 general visualizations and 2 boxplots for outliers."
   ]
  },
  {
   "cell_type": "code",
   "execution_count": null,
   "metadata": {
    "colab": {
     "base_uri": "https://localhost:8080/",
     "height": 600
    },
    "id": "QQhGfenMtE1u",
    "outputId": "a23b7939-e017-41f6-d75b-30c67f55893d"
   },
   "outputs": [
    {
     "data": {
      "image/png": "[encoded data removed]",
      "text/plain": [
       "<Figure size 720x720 with 1 Axes>"
      ]
     },
     "metadata": {},
     "output_type": "display_data"
    }
   ],
   "source": [
    "plt.figure(figsize=(10, 10))\n",
    "plt.style.use('ggplot')\n",
    "\n",
    "episodesLabels = df.Episodes.value_counts().head().index.to_list()\n",
    "\n",
    "plt.title('Episode distribution', fontsize=24)\n",
    "\n",
    "plt.pie(df.Episodes.value_counts().head(), \n",
    "        labels = episodesLabels,\n",
    "        autopct = '%.2f %%', pctdistance = 0.7,\n",
    "        textprops={'fontsize': 20},\n",
    "        explode=[0,0.025,0.05,.1,.2],\n",
    "        shadow=True)\n",
    "\n",
    "plt.show()"
   ]
  },
  {
   "cell_type": "markdown",
   "metadata": {
    "id": "ClvjrqahymZW"
   },
   "source": [
    "As we can see Studios oftenly prefer 12-13 episodes for TV series and 1 episode for movies. We choose pie chart here because it is a type of graph that reflects the distribution data nicely."
   ]
  },
  {
   "cell_type": "code",
   "execution_count": null,
   "metadata": {
    "colab": {
     "base_uri": "https://localhost:8080/"
    },
    "id": "-vp8bwFfOWRC",
    "outputId": "4dd3be4e-3c94-409a-fe83-72886f76029b"
   },
   "outputs": [
    {
     "data": {
      "text/plain": [
       "Index(['Comedy', 'Action', 'Romance', 'Fantasy', 'Drama'], dtype='object')"
      ]
     },
     "execution_count": 46,
     "metadata": {},
     "output_type": "execute_result"
    }
   ],
   "source": [
    "popularGenresList = meltedGenres['Genre'].value_counts().head()\n",
    "popularGenresList.index"
   ]
  },
  {
   "cell_type": "code",
   "execution_count": null,
   "metadata": {
    "id": "86vq4VUR0VHp"
   },
   "outputs": [],
   "source": [
    "\n",
    "popularTypesforGenres = np.array([meltedGenres.loc[meltedGenres['Genre'] == 'Comedy']['Type'].value_counts()[:2],\n",
    "                                  meltedGenres.loc[meltedGenres['Genre'] == 'Action']['Type'].value_counts()[:2],\n",
    "                                  meltedGenres.loc[meltedGenres['Genre'] == 'Romance']['Type'].value_counts()[:2],\n",
    "                                  meltedGenres.loc[meltedGenres['Genre'] == 'Fantasy']['Type'].value_counts()[:2],\n",
    "                                  meltedGenres.loc[meltedGenres['Genre'] == 'Drama']['Type'].value_counts()[:2]])\n",
    "\n",
    "typeLabels = ['TV', 'Movie', 'TV', 'Movie', 'TV', 'Movie', 'TV', 'Movie', 'TV', 'Movie']"
   ]
  },
  {
   "cell_type": "code",
   "execution_count": null,
   "metadata": {
    "colab": {
     "base_uri": "https://localhost:8080/",
     "height": 705
    },
    "id": "1T4FoOd0zFwr",
    "outputId": "a5b300a0-231d-439c-e2c4-fbfd4361a8fd"
   },
   "outputs": [
    {
     "data": {
      "image/png": "[encoded data removed]",
      "text/plain": [
       "<Figure size 864x864 with 1 Axes>"
      ]
     },
     "metadata": {},
     "output_type": "display_data"
    }
   ],
   "source": [
    "fig, ax = plt.subplots(figsize=(12,12))\n",
    "size = 0.4\n",
    "\n",
    "plt.style.use('ggplot')\n",
    "\n",
    "genreLabels = meltedGenres['Genre'].value_counts().head().index.to_list()\n",
    "\n",
    "outer_colors = ['#23FF23',\n",
    "                '#FF4400',\n",
    "                '#0044FF', \n",
    "                '#AACC00',\n",
    "                '#FF44FF']\n",
    "inner_colors = ['#63FF63', '#83FF83', \n",
    "                '#FF5511', '#FF6424',\n",
    "                '#1154FF', '#2264FF',\n",
    "                '#CCBB21', '#BBBB42',\n",
    "                '#EE44EE', '#DD33DD']\n",
    "\n",
    "ax.pie(popularTypesforGenres.sum(axis=1), radius=1,\n",
    "       wedgeprops=dict(width=size, edgecolor='w', linewidth=2),\n",
    "       labels=genreLabels, labeldistance=0.7,\n",
    "       textprops=dict(fontsize=16),\n",
    "       colors=outer_colors,\n",
    "       shadow=True)\n",
    "\n",
    "ax.pie(popularTypesforGenres.flatten(), radius=1-size,\n",
    "       wedgeprops=dict(width=size, edgecolor='w', linewidth=2),\n",
    "       labels=typeLabels, labeldistance=0.75,\n",
    "       textprops=dict(fontsize=11),\n",
    "       colors=inner_colors,\n",
    "       shadow=True)\n",
    "\n",
    "ax.set_title('Most popular genres with most used series types',fontsize=22)\n",
    "ax.set(aspect=\"equal\")\n",
    "plt.show()"
   ]
  },
  {
   "cell_type": "markdown",
   "metadata": {
    "id": "Y6iwmJRjDBLw"
   },
   "source": [
    "Most popular 5 genres and their series type proportion is given. We choose nested pie chart here because it is a type of graph that reflects the nested distributions nicely."
   ]
  },
  {
   "cell_type": "code",
   "execution_count": null,
   "metadata": {
    "colab": {
     "base_uri": "https://localhost:8080/",
     "height": 628
    },
    "id": "oiyD92CLHT0H",
    "outputId": "9daa391b-e201-4e8b-9a25-88185c01304f"
   },
   "outputs": [
    {
     "data": {
      "image/png": "[encoded data removed]",
      "text/plain": [
       "<Figure size 720x720 with 1 Axes>"
      ]
     },
     "metadata": {},
     "output_type": "display_data"
    }
   ],
   "source": [
    "fig, ax = plt.subplots(figsize=(10,10))\n",
    "\n",
    "studyIndex = meltedStudy['Study'].value_counts()[:5].index.to_list()\n",
    "studyValues = meltedStudy['Study'].value_counts()[:5].to_list()\n",
    "\n",
    "ax.bar(studyIndex, studyValues, width = 0.4, color='#5dc2c9', \n",
    "        edgecolor='#000000', linewidth=2)\n",
    "\n",
    "ax.set_xlabel(\"Studies\", fontsize=15)\n",
    "ax.set_ylabel(\"Number of series\", fontsize=15)\n",
    "ax.set_title(\"Number of series studios have\", fontsize=18)\n",
    "\n",
    "plt.show()"
   ]
  },
  {
   "cell_type": "markdown",
   "metadata": {
    "id": "reM-uqIyN2qU"
   },
   "source": [
    "3 Studios have over 100+ series. We have used bar chart here because it looks nice when we make comparisons."
   ]
  },
  {
   "cell_type": "code",
   "execution_count": null,
   "metadata": {
    "colab": {
     "base_uri": "https://localhost:8080/",
     "height": 630
    },
    "id": "imttrNyCOBzZ",
    "outputId": "fbf0e48d-bdff-47c4-879a-26b4f5ba0b9f"
   },
   "outputs": [
    {
     "data": {
      "image/png": "[encoded data removed]",
      "text/plain": [
       "<Figure size 1080x720 with 1 Axes>"
      ]
     },
     "metadata": {},
     "output_type": "display_data"
    }
   ],
   "source": [
    "ageCategories = df['Age'].value_counts().head().index.to_list()\n",
    "ageRatings = []\n",
    "\n",
    "for age in ageCategories:\n",
    "  ageRatings.append(df.loc[df['Age'] == age]['Rating'].mean())\n",
    "\n",
    "fig, ax = plt.subplots(figsize=(15,10))\n",
    "\n",
    "ax.bar(ageCategories, ageRatings, width = 0.3, color='#63d134', \n",
    "        edgecolor='#000000', linewidth=2)\n",
    "\n",
    "ax.set_xlabel(\"Age Categories\", fontsize=15)\n",
    "ax.set_ylabel(\"Ratings\", fontsize=15)\n",
    "ax.set_title(\"Average ratings by age categories\", fontsize=18)\n",
    "\n",
    "plt.show()"
   ]
  },
  {
   "cell_type": "markdown",
   "metadata": {
    "id": "gJ8Fp1orRRp_"
   },
   "source": [
    "It is seen that the series appealing to the whole audience have a higher rating rate. We have used bar chart here because it looks nice when we make comparisons."
   ]
  },
  {
   "cell_type": "code",
   "execution_count": null,
   "metadata": {
    "colab": {
     "base_uri": "https://localhost:8080/"
    },
    "id": "IqG95G0oTLjM",
    "outputId": "230b49cf-ce9c-4c60-aeaf-32320a4188e7"
   },
   "outputs": [
    {
     "data": {
      "text/plain": [
       "[18.0048575, 7.8806473, 10.5423784, 6.8058059, 3.2447358]"
      ]
     },
     "execution_count": 51,
     "metadata": {},
     "output_type": "execute_result"
    }
   ],
   "source": [
    "popularLicenses = meltedLicense['License'].value_counts().head().index.to_list()\n",
    "followerCountLicense = []\n",
    "\n",
    "for lic in popularLicenses:\n",
    "  followerCountLicense.append(df.loc[df['License'] == lic]['Followers'].sum() / 10000000)\n",
    "\n",
    "followerCountLicense"
   ]
  },
  {
   "cell_type": "code",
   "execution_count": null,
   "metadata": {
    "colab": {
     "base_uri": "https://localhost:8080/",
     "height": 597
    },
    "id": "oJraqj-kOCMs",
    "outputId": "0c6539a0-493d-4a80-cb5b-21a35f1b54cc"
   },
   "outputs": [
    {
     "data": {
      "image/png": "[encoded data removed]",
      "text/plain": [
       "<Figure size 720x720 with 1 Axes>"
      ]
     },
     "metadata": {},
     "output_type": "display_data"
    }
   ],
   "source": [
    "plt.figure(figsize=(10, 10))\n",
    "plt.style.use('seaborn')\n",
    "\n",
    "plt.title('Most popular licenses by follower counts', fontsize=24)\n",
    "\n",
    "plt.pie(followerCountLicense, \n",
    "        labels = popularLicenses,\n",
    "        autopct = '%.2f %%', pctdistance = 0.7,\n",
    "        textprops={'fontsize': 20},\n",
    "        explode=[0,0.05,0.025,.1,.2],\n",
    "        shadow=True)\n",
    "\n",
    "plt.show()"
   ]
  },
  {
   "cell_type": "markdown",
   "metadata": {
    "id": "FC_N-1u1VKj1"
   },
   "source": [
    "Funimation has the most follower count by 18 million. We choose pie chart here because it is a type of graph that reflects the distributions nicely."
   ]
  },
  {
   "cell_type": "markdown",
   "metadata": {
    "id": "45VqOlQLIUdl"
   },
   "source": [
    "### Outliers"
   ]
  },
  {
   "cell_type": "code",
   "execution_count": null,
   "metadata": {
    "colab": {
     "base_uri": "https://localhost:8080/",
     "height": 358
    },
    "id": "t3k_K17RdOxA",
    "outputId": "fbccfcfe-ad96-41e7-89c9-27d7bf671b76"
   },
   "outputs": [
    {
     "data": {
      "image/png": "[encoded data removed]",
      "text/plain": [
       "<Figure size 576x396 with 1 Axes>"
      ]
     },
     "metadata": {},
     "output_type": "display_data"
    }
   ],
   "source": [
    "df.boxplot(column=['Followers']);"
   ]
  },
  {
   "cell_type": "code",
   "execution_count": null,
   "metadata": {
    "colab": {
     "base_uri": "https://localhost:8080/"
    },
    "id": "7IhMHklsXCei",
    "outputId": "db853d90-d6a3-4d96-97dd-fb72480a916e"
   },
   "outputs": [
    {
     "data": {
      "text/plain": [
       "count    2.000000e+03\n",
       "mean     3.073250e+05\n",
       "std      3.512699e+05\n",
       "min      7.244300e+04\n",
       "25%      1.097425e+05\n",
       "50%      1.764125e+05\n",
       "75%      3.375495e+05\n",
       "max      3.150451e+06\n",
       "Name: Followers, dtype: float64"
      ]
     },
     "execution_count": 54,
     "metadata": {},
     "output_type": "execute_result"
    }
   ],
   "source": [
    "df.describe().Followers"
   ]
  },
  {
   "cell_type": "code",
   "execution_count": null,
   "metadata": {
    "id": "0uDntcTcV82P"
   },
   "outputs": [],
   "source": [
    "quarter1 = df.describe().Followers['25%']\n",
    "quarter2 = df.describe().Followers['50%']\n",
    "quarter3 = df.describe().Followers['75%']\n",
    "meanRating = df.describe().Followers['mean']\n",
    "IQR = quarter3 - quarter1\n",
    "lowerBound = quarter1 - (1.5 * IQR)\n",
    "upperBound = quarter3 + (1.5 * IQR)\n",
    "medianFollowers = df.Followers.median()\n",
    "rangeFollowers = df.describe().Followers['max'] - df.describe().Followers['min']"
   ]
  },
  {
   "cell_type": "code",
   "execution_count": null,
   "metadata": {
    "colab": {
     "base_uri": "https://localhost:8080/"
    },
    "id": "Zd_sy-9YWfav",
    "outputId": "a60731bf-2148-4a08-ff9c-a156cb0c96eb"
   },
   "outputs": [
    {
     "name": "stdout",
     "output_type": "stream",
     "text": [
      "Mean of the Followers column is 307324.969500\n",
      "Lower bound of the box plot is -231968.0\n",
      "Upper bound of the box plot is 679260.0\n",
      "Median of the Followers column is 176412.5\n",
      "Range of the Followers column is 3078008.0\n"
     ]
    }
   ],
   "source": [
    "print(f\"Mean of the Followers column is {meanRating:f}\" + \n",
    "      f\"\\nLower bound of the box plot is {lowerBound}\" +\n",
    "      f\"\\nUpper bound of the box plot is {upperBound}\" +  \n",
    "      f\"\\nMedian of the Followers column is {medianRating}\" + \n",
    "      f\"\\nRange of the Followers column is {rangeRating}\")"
   ]
  },
  {
   "cell_type": "code",
   "execution_count": null,
   "metadata": {
    "colab": {
     "base_uri": "https://localhost:8080/"
    },
    "id": "ZHcdM8V-usXc",
    "outputId": "df3f6a61-d9f0-4515-c3d9-b4b30128b148"
   },
   "outputs": [
    {
     "data": {
      "text/plain": [
       "202"
      ]
     },
     "execution_count": 78,
     "metadata": {},
     "output_type": "execute_result"
    }
   ],
   "source": [
    "upperOutliersFollowers = df.loc[(df['Followers'] > upperBound), ['Name of the anime','Followers']]\n",
    "lowerOutliersFollowers = df.loc[(df['Followers'] < lowerBound), ['Name of the anime','Followers']]\n",
    "followersOutliers = pd.concat([lowerOutliersFollowers,upperOutliersFollowers])\n",
    "followersOutliers.value_counts().size"
   ]
  },
  {
   "cell_type": "code",
   "execution_count": null,
   "metadata": {
    "colab": {
     "base_uri": "https://localhost:8080/",
     "height": 347
    },
    "id": "0bCopdI8dqe-",
    "outputId": "842f4585-6bd1-4ec7-93d9-f6a2caa32265"
   },
   "outputs": [
    {
     "data": {
      "image/png": "[encoded data removed]",
      "text/plain": [
       "<Figure size 576x396 with 1 Axes>"
      ]
     },
     "metadata": {},
     "output_type": "display_data"
    }
   ],
   "source": [
    "df.boxplot(column=['Episodes']);"
   ]
  },
  {
   "cell_type": "code",
   "execution_count": null,
   "metadata": {
    "colab": {
     "base_uri": "https://localhost:8080/"
    },
    "id": "kjkyfYn5XOre",
    "outputId": "fa36f900-e246-4ae2-c683-380d24329745"
   },
   "outputs": [
    {
     "data": {
      "text/plain": [
       "count    2000.000000\n",
       "mean       16.133500\n",
       "std        26.292705\n",
       "min         1.000000\n",
       "25%         8.000000\n",
       "50%        12.000000\n",
       "75%        13.000000\n",
       "max       500.000000\n",
       "Name: Episodes, dtype: float64"
      ]
     },
     "execution_count": 59,
     "metadata": {},
     "output_type": "execute_result"
    }
   ],
   "source": [
    "df.describe().Episodes"
   ]
  },
  {
   "cell_type": "code",
   "execution_count": null,
   "metadata": {
    "id": "KSerR4r4XTr1"
   },
   "outputs": [],
   "source": [
    "quarter1 = df.describe().Episodes['25%']\n",
    "quarter2 = df.describe().Episodes['50%']\n",
    "quarter3 = df.describe().Episodes['75%']\n",
    "meanRating = df.describe().Episodes['mean']\n",
    "IQR = quarter3 - quarter1\n",
    "lowerBound = quarter1 - (1.5 * IQR)\n",
    "upperBound = quarter3 + (1.5 * IQR)\n",
    "medianEpisodes = df.Episodes.median()\n",
    "rangeEpisodes = df.describe().Episodes['max'] - df.describe().Episodes['min']"
   ]
  },
  {
   "cell_type": "code",
   "execution_count": null,
   "metadata": {
    "colab": {
     "base_uri": "https://localhost:8080/"
    },
    "id": "6of3GZtKXYXf",
    "outputId": "ffd27b04-40f9-4f3c-c713-938272268a57"
   },
   "outputs": [
    {
     "name": "stdout",
     "output_type": "stream",
     "text": [
      "Mean of the Episodes column is 16.133500\n",
      "Lower bound of the box plot is 0.5\n",
      "Upper bound of the box plot is 20.5\n",
      "Median of the Episodes column is 176412.5\n",
      "Range of the Episodes column is 3078008.0\n"
     ]
    }
   ],
   "source": [
    "print(f\"Mean of the Episodes column is {meanRating:f}\" + \n",
    "      f\"\\nLower bound of the box plot is {lowerBound}\" +\n",
    "      f\"\\nUpper bound of the box plot is {upperBound}\" +  \n",
    "      f\"\\nMedian of the Episodes column is {medianRating}\" + \n",
    "      f\"\\nRange of the Episodes column is {rangeRating}\")"
   ]
  },
  {
   "cell_type": "code",
   "execution_count": null,
   "metadata": {
    "colab": {
     "base_uri": "https://localhost:8080/"
    },
    "id": "Clwpw7r3vYy1",
    "outputId": "32ee177f-fc5d-42a3-8b63-6140b8c8aa09"
   },
   "outputs": [
    {
     "data": {
      "text/plain": [
       "436"
      ]
     },
     "execution_count": 74,
     "metadata": {},
     "output_type": "execute_result"
    }
   ],
   "source": [
    "upperOutliersEpisodes = df.loc[(df['Episodes'] > upperBound), ['Name of the anime','Episodes']]\n",
    "lowerOutliersEpisodes = df.loc[(df['Episodes'] < lowerBound), ['Name of the anime','Episodes']]\n",
    "episodesOutliers = pd.concat([lowerOutliersEpisodes,upperOutliersEpisodes])\n",
    "episodesOutliers.value_counts().size"
   ]
  },
  {
   "cell_type": "markdown",
   "metadata": {
    "id": "nn5ao_hIWI4V"
   },
   "source": [
    "As an example we already plotted Rating column's boxplot above. We will not plot Ranking column because it just contains number from 1 to 2000."
   ]
  },
  {
   "cell_type": "markdown",
   "metadata": {
    "id": "vxQaPNJAUonx"
   },
   "source": [
    "## PART V - Data Analysis\n",
    "\n",
    "In Part V, the results obtained from the analyzes so far will be shared and statistical analysis will be made about the visualizations in part 4. Columns will be explained in detail."
   ]
  },
  {
   "cell_type": "markdown",
   "metadata": {
    "id": "Sm5_eYtNoXJj"
   },
   "source": [
    "### Column Details"
   ]
  },
  {
   "cell_type": "markdown",
   "metadata": {
    "id": "zHGyCpw6pSC4"
   },
   "source": [
    "- **'Name of the anime'** column has unique names with string object type. There are no missing values. Name of the anime in this column has the data in the next columns.\n",
    "\n",
    "- **'Rating'** column has numerical variables in it. These values indicates the anime's rating. There was missing values but they are handled.\n",
    "\n",
    "- **'Ranking'** column has numerical variables in it. These values shows the ranking of the anime by followers. It was discovered that there is a parabolic relationship between followers and ranking. You can see it below."
   ]
  },
  {
   "cell_type": "code",
   "execution_count": null,
   "metadata": {
    "colab": {
     "base_uri": "https://localhost:8080/",
     "height": 372
    },
    "id": "kOd8uc4Dpt6m",
    "outputId": "c649b675-a608-4c0c-9302-8acafaa7bfc0"
   },
   "outputs": [
    {
     "data": {
      "image/png": "[encoded data removed]",
      "text/plain": [
       "<Figure size 576x396 with 1 Axes>"
      ]
     },
     "metadata": {},
     "output_type": "display_data"
    }
   ],
   "source": [
    "df.plot(\"Ranking\",\"Followers\",kind = 'scatter');"
   ]
  },
  {
   "cell_type": "markdown",
   "metadata": {
    "id": "kAgRBqmzp2_-"
   },
   "source": [
    "- **'Followers'** column was containing string objects. We transformed them to integer objects. It indicates that anime has that many followers on the website.\n",
    "\n",
    "- **'Type'** column contains categorical variables. There was a several missing values but they are handled on Part III. This column indicates the type of the series.\n",
    "\n",
    "- **'Episodes'** column was containing string objects. We transformed them to integer objects. There were some missing data but they are replaced. This column indicates the episodes of the anime. \n",
    "\n",
    "- **'License'** column was containing string objects. It still has string objects but for further usage, we have created a new dataframe for this column because sometimes it contains multiple variables in one column. In our new dataframe we seperated its data.\n",
    "\n",
    "- **'Study'** column was containing string objects. This column has the same issue with the **License** column. We applied same logic to this column too. \n",
    "\n",
    "- **'Genre'** column was containing string objects. This column has the same issue with the **License** column. We applied same logic to this column too. \n",
    "Additionally, this column was containing missing values but they are handled at Part III.\n",
    "\n",
    "- **'Demography'** column contains categorical variables. They were many missing values but they are replaced with meaningful value.\n",
    "\n",
    "- **'Age'** column contains categorical variables. They were some missing values but they are replaced with meaningful value."
   ]
  },
  {
   "cell_type": "markdown",
   "metadata": {
    "id": "r6ochwVytNqm"
   },
   "source": [
    "### Analyze statistics\n",
    "\n",
    "- We have analyzed **episode distribution**. According to our preprocessed data, it is seen that production companies mostly prefer to present animes around 12 episodes and they make movies around 1 episode. However, it is also possible to see animes with episodes as high as 500. **22%** of the episode values are seen as outlier values.\n",
    "\n",
    "- We have analyzed **most popular genres with most used series types**. By looking this data we can say that, for the most popular 5 genres, production companies production companies have performed it appropriate to present animes in TV or movie format. **90%** of the TV type is used.\n",
    "\n",
    "- We have analyzed **number of series studios have**. According to this analysis, **25%** of the series held by only 5 studios.\n",
    "\n",
    "- We have analyzed **average ratings by age categories**. As a result, it is seen that,G - All Ages category takes place in the top **25%** of the ratings.\n",
    "\n",
    "- We have analyzed **most popular licenses by follower counts**. It is seen that Funimation license has the most followers. In the second place are the productions that are not licensed. In the distribution of the follower column, it was found that the first **10%** were seen as outliers."
   ]
  },
  {
   "cell_type": "markdown",
   "metadata": {
    "id": "QNZiI5m7Uqnk"
   },
   "source": [
    "## PART VI - Machine Learning (ML) Implementation - Clustering"
   ]
  },
  {
   "cell_type": "markdown",
   "metadata": {
    "id": "ns_9LbaENjEN"
   },
   "source": [
    "In Machine Learning Implementation, there are several ML strategies on clustering mechanism. Since our dataset has not a small number of neglectable outliers, Density- Based Clustering format would highly efficient for our Data Analysis approach. The light of this investigation, we choose the DBSCAN and OPTICS Machine Learning Algorithms for optimum Clustering observation."
   ]
  },
  {
   "cell_type": "markdown",
   "metadata": {
    "id": "7PD7clZTBsUk"
   },
   "source": [
    "### DBScan Clustering"
   ]
  },
  {
   "cell_type": "code",
   "execution_count": null,
   "metadata": {
    "id": "Odj4Id8j3-dH"
   },
   "outputs": [],
   "source": [
    "from sklearn.cluster import DBSCAN\n",
    "from sklearn import metrics\n",
    "from sklearn.datasets import make_blobs\n",
    "from sklearn.preprocessing import StandardScaler"
   ]
  },
  {
   "cell_type": "code",
   "execution_count": null,
   "metadata": {
    "id": "FV--8DV23Nhc"
   },
   "outputs": [],
   "source": [
    "db = DBSCAN(eps=0.2, min_samples=20)\n",
    "db2 = DBSCAN(eps=0.4, min_samples=6)"
   ]
  },
  {
   "cell_type": "markdown",
   "metadata": {
    "id": "rEv4PFvZM1Zc"
   },
   "source": [
    "We created 2 dbscan objects with different parameters at here."
   ]
  },
  {
   "cell_type": "code",
   "execution_count": null,
   "metadata": {
    "colab": {
     "base_uri": "https://localhost:8080/"
    },
    "id": "bg4o8yCQ4fxj",
    "outputId": "4a3caa87-cb87-4021-aac5-2c7b47c86f70"
   },
   "outputs": [
    {
     "data": {
      "text/plain": [
       "array([[ 8.05872636,  1.72471612],\n",
       "       [ 8.02046334,  1.56220678],\n",
       "       [ 6.70992096,  2.50771566],\n",
       "       ...,\n",
       "       [-0.14784861,  0.72011293],\n",
       "       [-0.30637412,  0.4246414 ],\n",
       "       [-0.51844006, -0.07766019]])"
      ]
     },
     "execution_count": 231,
     "metadata": {},
     "output_type": "execute_result"
    }
   ],
   "source": [
    "clusterData = []\n",
    "\n",
    "dfRating = df.dropna(subset=['Rating'])\n",
    "\n",
    "clusterData = dfRating[['Followers','Rating']].to_numpy()\n",
    "clusterData = StandardScaler().fit_transform(clusterData)\n",
    "clusterData"
   ]
  },
  {
   "cell_type": "markdown",
   "metadata": {
    "id": "S1zfsl52M3L0"
   },
   "source": [
    "Data scaling ve Transformation techniques are done."
   ]
  },
  {
   "cell_type": "code",
   "execution_count": null,
   "metadata": {
    "colab": {
     "base_uri": "https://localhost:8080/"
    },
    "id": "6wgvxiJ068LX",
    "outputId": "9b29cd2f-e4eb-41a3-947d-d5c40027d00d"
   },
   "outputs": [
    {
     "data": {
      "text/plain": [
       "2"
      ]
     },
     "execution_count": 232,
     "metadata": {},
     "output_type": "execute_result"
    }
   ],
   "source": [
    "dbscanClustering = db.fit(clusterData)\n",
    "dbscanClustering2 = db2.fit(clusterData)\n",
    "clusterLabel = dbscanClustering.labels_\n",
    "clusterLabel2 = dbscanClustering2.labels_\n",
    "len(set(clusterLabel))"
   ]
  },
  {
   "cell_type": "markdown",
   "metadata": {
    "id": "jKielR-LM7gw"
   },
   "source": [
    "We created a model for 2 separate clusterings and we called a label. \n",
    "In the first label, 2 clusters appear.\n"
   ]
  },
  {
   "cell_type": "code",
   "execution_count": null,
   "metadata": {
    "colab": {
     "base_uri": "https://localhost:8080/"
    },
    "id": "2cfev_geJtZE",
    "outputId": "70720dc9-09f7-45b0-b943-bbf55721711d"
   },
   "outputs": [
    {
     "data": {
      "text/plain": [
       "3"
      ]
     },
     "execution_count": 233,
     "metadata": {},
     "output_type": "execute_result"
    }
   ],
   "source": [
    "len(set(clusterLabel2))"
   ]
  },
  {
   "cell_type": "markdown",
   "metadata": {
    "id": "n7mAaNahNEht"
   },
   "source": [
    "In the second label, there is 3 clusters appear."
   ]
  },
  {
   "cell_type": "code",
   "execution_count": null,
   "metadata": {
    "colab": {
     "base_uri": "https://localhost:8080/",
     "height": 512
    },
    "id": "yyfaLxob7vGg",
    "outputId": "4cb160ef-76f1-437f-a37a-62e7ad69f8cf"
   },
   "outputs": [
    {
     "data": {
      "image/png": "[encoded data removed]",
      "text/plain": [
       "<Figure size 576x576 with 1 Axes>"
      ]
     },
     "metadata": {},
     "output_type": "display_data"
    }
   ],
   "source": [
    "colors = {-1: 'red', 0:'blue', 1:'orange', 2:'green', 3:'black', 4:'purple'}\n",
    "dFrame = pd.DataFrame(dict(x=clusterData[:,0],\n",
    "                           y=clusterData[:,1], \n",
    "                           label=clusterLabel))\n",
    "fig, ax = plt.subplots(figsize=(8,8))\n",
    "grouped = dFrame.groupby('label')\n",
    "for key, group in grouped:\n",
    "  group.plot(ax=ax, kind='scatter', x='x', y='y', label=key, color=colors[key])\n",
    "\n",
    "plt.xlabel('X_1')\n",
    "plt.ylabel('X_2')\n",
    "plt.title('Epsilon:0.2 - min_samples:20')\n",
    "plt.show()"
   ]
  },
  {
   "cell_type": "code",
   "execution_count": null,
   "metadata": {
    "colab": {
     "base_uri": "https://localhost:8080/",
     "height": 512
    },
    "id": "g-WS77ZmJ5gD",
    "outputId": "dbf3302b-1d57-4f5c-f9a1-0f239203724f"
   },
   "outputs": [
    {
     "data": {
      "image/png": "[encoded data removed]",
      "text/plain": [
       "<Figure size 576x576 with 1 Axes>"
      ]
     },
     "metadata": {},
     "output_type": "display_data"
    }
   ],
   "source": [
    "dFrame = pd.DataFrame(dict(x=clusterData[:,0],\n",
    "                           y=clusterData[:,1], \n",
    "                           label=clusterLabel2))\n",
    "fig, ax = plt.subplots(figsize=(8,8))\n",
    "grouped = dFrame.groupby('label')\n",
    "for key, group in grouped:\n",
    "  group.plot(ax=ax, kind='scatter', x='x', y='y', label=key, color=colors[key])\n",
    "\n",
    "plt.xlabel('X_1')\n",
    "plt.ylabel('X_2')\n",
    "plt.title('Epsilon:0.4 - min_samples:6')\n",
    "plt.show()"
   ]
  },
  {
   "cell_type": "markdown",
   "metadata": {
    "id": "RvnjkFU2NJYB"
   },
   "source": [
    "The result of the two tables, we can make interpretations. First of all, we visualize 2 different models. Then, we can see how the different parameters affect the results. As the epsilon value increases, even if the similarity is less, there is data included in the cluster. Also, when the value of the minimum samples decreases, the number of clusters increases."
   ]
  },
  {
   "cell_type": "markdown",
   "metadata": {
    "id": "_htioNrDBwHO"
   },
   "source": [
    "### Optics Clustering"
   ]
  },
  {
   "cell_type": "code",
   "execution_count": null,
   "metadata": {
    "id": "WfNKwgO1BxrK"
   },
   "outputs": [],
   "source": [
    "from sklearn.cluster import OPTICS, cluster_optics_dbscan\n",
    "from matplotlib import gridspec\n",
    "from sklearn.preprocessing import normalize"
   ]
  },
  {
   "cell_type": "code",
   "execution_count": null,
   "metadata": {
    "id": "CAeyeYg3D1RD"
   },
   "outputs": [],
   "source": [
    "dfOptics= df.dropna(subset=['Rating'])\n",
    "drop_features = ['Name of the anime', 'Ranking','Type','Episodes','License','Study','Genre','Demographics','Age']\n",
    "dfOptics = dfOptics.drop(drop_features, axis = 1)\n",
    "\n",
    "clusterScaled = StandardScaler().fit_transform(dfOptics)\n",
    "\n",
    "clusterNormalized = normalize(clusterScaled)\n",
    "clusterNormalized = pd.DataFrame(clusterNormalized)\n",
    "\n",
    "clusterNormalized.columns = dfOptics.columns\n"
   ]
  },
  {
   "cell_type": "markdown",
   "metadata": {
    "id": "bstKh6g1NuLK"
   },
   "source": [
    "We create a data frame with the desired rows.\n",
    "Then we scale and transform the data and then, we normalized the data."
   ]
  },
  {
   "cell_type": "code",
   "execution_count": null,
   "metadata": {
    "colab": {
     "base_uri": "https://localhost:8080/"
    },
    "id": "jdoAn-AmCEX_",
    "outputId": "2bb189a4-7f38-43f9-a7b1-8b6ab4f9a84f"
   },
   "outputs": [
    {
     "data": {
      "text/plain": [
       "OPTICS(min_cluster_size=0.1, min_samples=20)"
      ]
     },
     "execution_count": 248,
     "metadata": {},
     "output_type": "execute_result"
    }
   ],
   "source": [
    "optics_model = OPTICS(min_samples = 10, xi = 0.1, min_cluster_size = 0.05)\n",
    "optics_model2 = OPTICS(min_samples = 20, xi = 0.05, min_cluster_size = 0.1)\n",
    "\n",
    "optics_model.fit(clusterNormalized)\n",
    "optics_model2.fit(clusterNormalized)"
   ]
  },
  {
   "cell_type": "markdown",
   "metadata": {
    "id": "ZR2dWxJuN5gi"
   },
   "source": [
    "\n",
    "\n",
    "We create OPTICS clustering models with 2 different parameters"
   ]
  },
  {
   "cell_type": "code",
   "execution_count": null,
   "metadata": {
    "id": "ajHSSHNSCqg9"
   },
   "outputs": [],
   "source": [
    "\n",
    "space = np.arange(len(clusterNormalized))\n",
    "reachability = optics_model.reachability_[optics_model.ordering_]\n",
    "labels = optics_model.labels_[optics_model.ordering_]\n",
    "\n",
    "reachability2 = optics_model2.reachability_[optics_model2.ordering_]\n",
    "labels2 = optics_model2.labels_[optics_model2.ordering_]\n"
   ]
  },
  {
   "cell_type": "markdown",
   "metadata": {
    "id": "hMINiLwfN-d0"
   },
   "source": [
    "We store label and reachability information from  2 different created models."
   ]
  },
  {
   "cell_type": "markdown",
   "metadata": {
    "id": "uilBXGx0JRnI"
   },
   "source": [
    "https://scikit-learn.org/stable/auto_examples/cluster/plot_optics.html#sphx-glr-auto-examples-cluster-plot-optics-py\n",
    "\n",
    "We benefited from this source."
   ]
  },
  {
   "cell_type": "code",
   "execution_count": null,
   "metadata": {
    "colab": {
     "base_uri": "https://localhost:8080/",
     "height": 873
    },
    "id": "8ZkaECsAC_mX",
    "outputId": "cce57b6f-fb27-48f6-8cc0-192244ecae01"
   },
   "outputs": [
    {
     "data": {
      "image/png": "[encoded data removed]",
      "text/plain": [
       "<Figure size 720x864 with 2 Axes>"
      ]
     },
     "metadata": {},
     "output_type": "display_data"
    }
   ],
   "source": [
    "plt.figure(figsize =(10, 12))\n",
    "G = gridspec.GridSpec(2, 1)\n",
    "ax1 = plt.subplot(G[0, :])\n",
    "ax2 = plt.subplot(G[1, 0])\n",
    "  \n",
    "colors = ['purple', 'blue', 'red', 'orange', 'green', 'black']\n",
    "for Class, colour in zip(range(0, 5), colors):\n",
    "    Xk = space[labels == Class]\n",
    "    Rk = reachability[labels == Class]\n",
    "    ax1.plot(Xk, Rk, colour, alpha = 0.3)\n",
    "ax1.plot(space[labels == -1], reachability[labels == -1], 'k.', alpha = 0.3)\n",
    "ax1.plot(space, np.full_like(space, 2., dtype = float), 'k-', alpha = 0.5)\n",
    "ax1.plot(space, np.full_like(space, 0.5, dtype = float), 'k-.', alpha = 0.5)\n",
    "ax1.set_ylabel('Reachability Distance')\n",
    "ax1.set_title('Reachability Plot')\n",
    "  \n",
    "for Class, colour in zip(range(0, 5), colors):\n",
    "    Xk = clusterData[optics_model.labels_ == Class]\n",
    "    ax2.plot(Xk[:, 0], Xk[:, 1], colour, alpha = 0.3)\n",
    "      \n",
    "ax2.plot(clusterData[optics_model.labels_ == -1, 0],\n",
    "        clusterData[optics_model.labels_ == -1, 1],\n",
    "       'k+', alpha = 0.1)\n",
    "ax2.set_title('OPTICS Clustering - min_samples:10 - xi:0.1 - min_cluster_size = 0.05')\n",
    "  \n",
    "plt.tight_layout()\n",
    "plt.show()"
   ]
  },
  {
   "cell_type": "code",
   "execution_count": null,
   "metadata": {
    "colab": {
     "base_uri": "https://localhost:8080/",
     "height": 873
    },
    "id": "qV0rZkMmKsbc",
    "outputId": "49e1b44c-0d73-4d57-e8fb-347d5f1bff85"
   },
   "outputs": [
    {
     "data": {
      "image/png": "[encoded data removed]",
      "text/plain": [
       "<Figure size 720x864 with 2 Axes>"
      ]
     },
     "metadata": {},
     "output_type": "display_data"
    }
   ],
   "source": [
    "plt.figure(figsize =(10, 12))\n",
    "G = gridspec.GridSpec(2, 1)\n",
    "ax1 = plt.subplot(G[0, :])\n",
    "ax2 = plt.subplot(G[1, 0])\n",
    "  \n",
    "colors = ['purple', 'blue', 'red', 'orange', 'green']\n",
    "for Class, colour in zip(range(0, 5), colors):\n",
    "    Xk = space[labels2 == Class]\n",
    "    Rk = reachability2[labels2 == Class]\n",
    "    ax1.plot(Xk, Rk, colour, alpha = 0.3)\n",
    "ax1.plot(space[labels2 == -1], reachability2[labels2 == -1], 'k.', alpha = 0.3)\n",
    "ax1.plot(space, np.full_like(space, 2., dtype = float), 'k-', alpha = 0.5)\n",
    "ax1.plot(space, np.full_like(space, 0.5, dtype = float), 'k-.', alpha = 0.5)\n",
    "ax1.set_ylabel('Reachability Distance')\n",
    "ax1.set_title('Reachability Plot')\n",
    "  \n",
    "for Class, colour in zip(range(0, 5), colors):\n",
    "    Xk = clusterData[optics_model2.labels_ == Class]\n",
    "    ax2.plot(Xk[:, 0], Xk[:, 1], colour, alpha = 0.3)\n",
    "      \n",
    "ax2.plot(clusterData[optics_model2.labels_ == -1, 0],\n",
    "        clusterData[optics_model2.labels_ == -1, 1],\n",
    "       'k+', alpha = 0.1)\n",
    "ax2.set_title('OPTICS Clustering - min_samples:20 - xi:0.05 - min_cluster_size = 0.1')\n",
    "  \n",
    "plt.tight_layout()\n",
    "plt.show()"
   ]
  },
  {
   "cell_type": "markdown",
   "metadata": {
    "id": "qQ8kTgIpOGjU"
   },
   "source": [
    "To begin with, we visualize 2 different models here. Then, we can see how the different parameters affect the results. \n",
    "When the value of the minimum samples decreases, the number of clusters increases. \n",
    "As the min_cluster size value decreases, the number of clusters tends to decrease.\n",
    "As the xi value increases, it tends to include the outliers in the cluster.\n",
    "Reducing the xi value is ignoring outliers more.\n",
    "As a result of two ML techniques, we determined the OPTICS methodology is better on our Data Analysis.\n"
   ]
  },
  {
   "cell_type": "markdown",
   "metadata": {
    "id": "qSsDndfcUvCV"
   },
   "source": [
    "## PART VII - Results"
   ]
  },
  {
   "cell_type": "code",
   "execution_count": null,
   "metadata": {
    "id": "8esNBGMgaZhx"
   },
   "outputs": [],
   "source": [
    "When we analyzed our dataset, the main findings are our dataset has many outliers and noise. For visualization, you can see the scatterplot which is located at the bottom side. "
   ]
  },
  {
   "cell_type": "code",
   "execution_count": null,
   "metadata": {
    "colab": {
     "base_uri": "https://localhost:8080/",
     "height": 361
    },
    "id": "8DUJHCJxL_kt",
    "outputId": "b11cd2c5-ca38-4363-cba5-78460462ed8f"
   },
   "outputs": [
    {
     "data": {
      "image/png": "[encoded data removed]",
      "text/plain": [
       "<Figure size 576x396 with 1 Axes>"
      ]
     },
     "metadata": {},
     "output_type": "display_data"
    }
   ],
   "source": [
    "df.plot(\"Followers\",\"Rating\",kind = 'scatter');"
   ]
  },
  {
   "cell_type": "markdown",
   "metadata": {
    "id": "gdhe-k4WaS2_"
   },
   "source": [
    "Some columns had missing values but we handled them at pre-processing part. Some missing values are ignored and some of them are replaced with suitable values in an appropriate way. \n",
    "Then, we created some visualization that indicates two relationship of the columns to make clear in Part 4.  \n",
    "At Part 5, we analyzed deeply the visual data. We made inferences for each of the visualizations.\n",
    "At Part 6, the light of the analysis has shown us that our data has lots of noise. Thats why, we determined the density based clustering. Then, we performed the DBSCAN and OPTICS as a 2 different Clustering Algorithms. When we analyzed the results of the clustering algorihms, we interpretted that the DBSCAN Clustering Algorithms would be perform better demonstration for our dataset.\n",
    "\n"
   ]
  }
 ],
 "metadata": {
  "colab": {
   "collapsed_sections": [
    "gTTfCYyXmTHn",
    "mOqKtYqNeOOz"
   ],
   "name": "AnimeDatabase.ipynb",
   "provenance": []
  },
  "kernelspec": {
   "display_name": "Python 3",
   "language": "python",
   "name": "python3"
  },
  "language_info": {
   "codemirror_mode": {
    "name": "ipython",
    "version": 3
   },
   "file_extension": ".py",
   "mimetype": "text/x-python",
   "name": "python",
   "nbconvert_exporter": "python",
   "pygments_lexer": "ipython3",
   "version": "3.8.8"
  }
 },
 "nbformat": 4,
 "nbformat_minor": 1
}
